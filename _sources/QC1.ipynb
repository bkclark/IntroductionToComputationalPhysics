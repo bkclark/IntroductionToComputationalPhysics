{
 "cells": [
  {
   "cell_type": "markdown",
   "metadata": {},
   "source": [
    "# Quantum Computing 1"
   ]
  },
  {
   "cell_type": "markdown",
   "metadata": {},
   "source": [
    "* **Author:**\n",
    "* **Date:**\n",
    "* **Time Spent on this Assignment:**"
   ]
  },
  {
   "cell_type": "markdown",
   "metadata": {},
   "source": [
    "To install qiskit, open a terminal and type (copy/paste):\n",
    "```\n",
    "export PATH=/software/Jupyterhub/jupyterhub-base-kernel/bin:$PATH\n",
    "export LD_LIBRARY_PATH=/software/Jupyterhub/jupyterhub-base-kernel/lib\n",
    "source ~/owl/bin/activate; pip install qiskit; exit\n",
    "```"
   ]
  },
  {
   "cell_type": "code",
   "execution_count": 81,
   "metadata": {},
   "outputs": [],
   "source": [
    "import qiskit\n",
    "from qiskit import *\n",
    "import numpy as np\n",
    "from qiskit.visualization import *\n",
    "import pylab as plt"
   ]
  },
  {
   "cell_type": "markdown",
   "metadata": {},
   "source": [
    "Today we will do most our simulations on a classical simulator that runs on the OWL server.  But, we will run one thing on an actual quantum computer.  To do that, you need to sign up for the quantum computer. Go ahead and sign up for a quantum computing account here: https://quantum-computing.ibm.com/login\n",
    "\n",
    "You will need to put your API key into the commented out section below so it will know to run your code on the quantum computer. "
   ]
  },
  {
   "cell_type": "code",
   "execution_count": 82,
   "metadata": {},
   "outputs": [
    {
     "data": {
      "text/plain": [
       "<AccountProvider for IBMQ(hub='ibm-q', group='open', project='main')>"
      ]
     },
     "execution_count": 82,
     "metadata": {},
     "output_type": "execute_result"
    }
   ],
   "source": [
    "\n",
    "# first do IBMQ.save_account(\"your API Key\")\n",
    "IBMQ.load_account()"
   ]
  },
  {
   "cell_type": "markdown",
   "metadata": {},
   "source": [
    "Here is a link to the picture of the machine you will be running on: \n",
    "https://github.com/Qiskit/ibmq-device-information/tree/master/backends/yorktown/V1"
   ]
  },
  {
   "cell_type": "code",
   "execution_count": 83,
   "metadata": {},
   "outputs": [],
   "source": [
    "def RunMe(qc,num_shots=1024):\n",
    "    backend = BasicAer.get_backend('qasm_simulator')\n",
    "    job = execute(qc, backend,shots=num_shots)\n",
    "    result = job.result()\n",
    "    return result\n",
    "\n",
    "def RunMeState(qc):\n",
    "    backend = BasicAer.get_backend('statevector_simulator')\n",
    "    job = execute(qc, backend,shots=1024)\n",
    "    result = job.result()\n",
    "    return result\n",
    "\n",
    "def RunMeQC(qc):\n",
    "    provider = IBMQ.get_provider(hub='ibm-q')\n",
    "    from qiskit.providers.ibmq import least_busy\n",
    "    small_devices = provider.backends(filters=lambda x: x.configuration().n_qubits == 5\n",
    "                                       and not x.configuration().simulator)\n",
    "    backend = least_busy(small_devices)\n",
    "    jobReal = execute(qc, backend)\n",
    "    return jobReal\n",
    "\n",
    "\n",
    "def StateToBinary(b):\n",
    "    wires=int(round(np.log2(len(b))))\n",
    "    for i in range(0,2**wires):\n",
    "        myFormat=\"0\"+str(wires)+\"b\"\n",
    "        if np.abs(b[i])!=0:\n",
    "            print(b[i],'|',format(i, myFormat)[::-1],'>')\n"
   ]
  },
  {
   "cell_type": "markdown",
   "metadata": {},
   "source": [
    "## Exercise 1: A Single Qubit (33 points)"
   ]
  },
  {
   "cell_type": "markdown",
   "metadata": {},
   "source": [
    "We are going to think about quantum computers today.  More specifically, we are going to think about quantum circuits.  Both quantum and classical circuits have wires and gates.  Quantum circuits have the added constraint that the total number of wires must be the same through the whole computation."
   ]
  },
  {
   "cell_type": "code",
   "execution_count": 84,
   "metadata": {},
   "outputs": [
    {
     "data": {
      "image/png": "[encoded data removed]",
      "text/plain": [
       "<Figure size 156.52x144.48 with 1 Axes>"
      ]
     },
     "execution_count": 84,
     "metadata": {},
     "output_type": "execute_result"
    }
   ],
   "source": [
    "qc = QuantumCircuit(2)\n",
    "qc.draw(output='mpl')"
   ]
  },
  {
   "cell_type": "markdown",
   "metadata": {},
   "source": [
    "We can think of classical circuit as one which takes a binary number as input (on,off,off,on) <--> (1,0,0,1) to a binary number as output.\n",
    "\n",
    "For example a wire with a not gate on it takes $0\\rightarrow 1$ and $1 \\rightarrow 0$\n",
    "\n",
    "Quantum circuits are similar.  They take binary numbers to other binary numbers.  A quantum `not` gate takes $0 \\rightarrow 1$ and $1 \\rightarrow 0.$\n",
    "\n",
    "Let's start by drawing our first circuit.  This circuit has one quantum wire. We are going to put a \"not\" gate (called X here).  By default, the input to our circuits is always \"0\"."
   ]
  },
  {
   "cell_type": "code",
   "execution_count": 85,
   "metadata": {},
   "outputs": [
    {
     "data": {
      "image/png": "[encoded data removed]",
      "text/plain": [
       "<Figure size 173.376x84.28 with 1 Axes>"
      ]
     },
     "execution_count": 85,
     "metadata": {},
     "output_type": "execute_result"
    }
   ],
   "source": [
    "quantumWires=1\n",
    "qc = QuantumCircuit(quantumWires)\n",
    "qc.x(0) # this is a quantum NOT Gate.\n",
    "qc.draw(output='mpl')"
   ]
  },
  {
   "cell_type": "markdown",
   "metadata": {},
   "source": [
    "We are now going to run our circuit.  There are three ways we can run circuits:\n",
    "* Run it on a real quantum computer -  `RunMeQC`\n",
    "* Run it on a simulated quantum computer - `RunMe`\n",
    "* Run it on a simulated quantum computer and cheat by looking what's going on under the hood (you can't do this in the real world but there are some advantages of a simulation).  - `RunMeState`"
   ]
  },
  {
   "cell_type": "markdown",
   "metadata": {},
   "source": [
    "Let's start by running our simulation (and looking under the hood).  Call `results=RunMeState(qc)` on our quantum circuit. We can then get the vector (look under the hood) by calling `StateToBinary(results.get_statevector())`"
   ]
  },
  {
   "cell_type": "code",
   "execution_count": 1,
   "metadata": {},
   "outputs": [],
   "source": [
    "## add stuff here"
   ]
  },
  {
   "cell_type": "markdown",
   "metadata": {},
   "source": [
    "Modify your circuit now and put two `not` gates in a row. "
   ]
  },
  {
   "cell_type": "code",
   "execution_count": 87,
   "metadata": {},
   "outputs": [
    {
     "name": "stdout",
     "output_type": "stream",
     "text": [
      "(1+0j) | 0 >\n"
     ]
    },
    {
     "data": {
      "image/png": "[encoded data removed]",
      "text/plain": [
       "<Figure size 233.576x84.28 with 1 Axes>"
      ]
     },
     "execution_count": 87,
     "metadata": {},
     "output_type": "execute_result"
    }
   ],
   "source": [
    "###This should be your modified circuit\n",
    "qc.draw(output='mpl')"
   ]
  },
  {
   "cell_type": "markdown",
   "metadata": {},
   "source": [
    "Now, what is particularly interesting about quantum gates is you can be in a situation where it can take $|0\\rangle$ and returns a state which is partially $|0\\rangle$ and partially $|1\\rangle$.    For example, the Hadamard gate (`qc.h`), turns $|0\\rangle$ into \"half\" $|0\\rangle$ and \"half\" $|1\\rangle$.  More concretely, you end up with the state \n",
    "$|0\\rangle \\rightarrow \\frac{1}{\\sqrt{2}} \\left(|0\\rangle + |1\\rangle \\right)$.  Look at the state after the Hadamard. "
   ]
  },
  {
   "cell_type": "code",
   "execution_count": 2,
   "metadata": {},
   "outputs": [],
   "source": [
    "##Make a circuit with a Hadamard in it"
   ]
  },
  {
   "cell_type": "markdown",
   "metadata": {},
   "source": [
    "So far we've been cheating by looking at the quantum state. In the real world, you can't do that.  Instead you have to measure at the end of your circuit.  To add a measure you have to do two things. First, you need a classical wire. We will switch\n",
    "* `qc=QuantumCircuit(1)` $\\rightarrow$ `qc=QuantumCircuit(1,1)` # one classical wire and one quantum wire\n",
    "* Then at the end we have to add a measurement: `qc.measure([0],[0])` (measure quantum wire \"1\" on classical wire \"1\")\n",
    "\n",
    "Go ahead and draw the new circuit that has one Hadamard gate and a measure"
   ]
  },
  {
   "cell_type": "code",
   "execution_count": 3,
   "metadata": {},
   "outputs": [
    {
     "ename": "NameError",
     "evalue": "name 'qc' is not defined",
     "output_type": "error",
     "traceback": [
      "\u001b[0;31m---------------------------------------------------------------------------\u001b[0m",
      "\u001b[0;31mNameError\u001b[0m                                 Traceback (most recent call last)",
      "\u001b[0;32m<ipython-input-3-d515b797a2e6>\u001b[0m in \u001b[0;36m<module>\u001b[0;34m\u001b[0m\n\u001b[0;32m----> 1\u001b[0;31m \u001b[0mqc\u001b[0m\u001b[0;34m.\u001b[0m\u001b[0mdraw\u001b[0m\u001b[0;34m(\u001b[0m\u001b[0moutput\u001b[0m\u001b[0;34m=\u001b[0m\u001b[0;34m'mpl'\u001b[0m\u001b[0;34m)\u001b[0m\u001b[0;34m\u001b[0m\u001b[0;34m\u001b[0m\u001b[0m\n\u001b[0m",
      "\u001b[0;31mNameError\u001b[0m: name 'qc' is not defined"
     ]
    }
   ],
   "source": [
    "#Make your circuit here\n",
    "qc.draw(output='mpl')"
   ]
  },
  {
   "cell_type": "markdown",
   "metadata": {},
   "source": [
    "Now, we can run it on a legitimate simulator by doing `results=RunMe(qc)`. Once we've run it, we are going to want to see the result of our measurement.  In practice, what `RunMe` is currently doing is running it 1024 times as each measurement is going to give you something random.  (You can look up to see what `RunMe` is doing).  Now, we should plot how many of the measurements is \"0\" and how many of the measurements is \"1\".  To do this, we can do `plot_histogram(results.get_counts())`  You can just see the counts by doing `print(results.get_counts())` Produce plots for \n",
    "* the circuit with one Hadamard wire. \n",
    "* the circuit with one Not wire. "
   ]
  },
  {
   "cell_type": "code",
   "execution_count": 4,
   "metadata": {},
   "outputs": [],
   "source": [
    "#Run the circuit and plot the results here for EPR"
   ]
  },
  {
   "cell_type": "code",
   "execution_count": 91,
   "metadata": {},
   "outputs": [
    {
     "data": {
      "image/png": "[encoded data removed]",
      "text/plain": [
       "<Figure size 504x360 with 1 Axes>"
      ]
     },
     "execution_count": 91,
     "metadata": {},
     "output_type": "execute_result"
    }
   ],
   "source": [
    "#Run the circuit and plot the results here for Not gate"
   ]
  },
  {
   "cell_type": "markdown",
   "metadata": {},
   "source": [
    "You should see that the circuit with the \"hadamard\" gates gives half $|0\\rangle$ and half $|1\\rangle$ whereas the \"not\" gate always gives $|1\\rangle$"
   ]
  },
  {
   "cell_type": "markdown",
   "metadata": {},
   "source": [
    "So far we've seen we can get half $|0\\rangle$ and half $|1\\rangle$.  We can also adjust states to get more of $|1\\rangle$ then $|0\\rangle$ (or visa versa).  Generically we can get a state\n",
    "$\\cos(\\theta) |0\\rangle + \\sin(\\theta) e^{i\\phi} |1\\rangle$.\n",
    "\n",
    "If we had such a state, after measurement we get \"0\" with probability $\\cos^2\\theta$ and \"1\" with probability $\\sin^2\\theta$.  \n",
    "Notice that $\\cos^2\\theta + \\sin^2\\theta =1$ so we either get \"0\" or \"1\". \n",
    "\n",
    "To produce this state, we can use the gate `qc.rx(-2*theta,wire)` which takes $|0\\rangle \\rightarrow \\cos \\theta |0\\rangle + \\sin \\theta |1\\rangle$ \n",
    "\n",
    "* Produce a histogram with $\\theta=0.5$ and check to make sure it gives you the right fraction of zero and one.\n",
    "* Write a for loop which runs the circuit for 100 $\\theta$ between 0 and $\\pi$ and make sure the counts of \"0\" are approximately $1024 \\times \\cos^2\\theta$. "
   ]
  },
  {
   "cell_type": "code",
   "execution_count": 92,
   "metadata": {},
   "outputs": [
    {
     "name": "stdout",
     "output_type": "stream",
     "text": [
      "0.7701511529340699 0.22984884706593015\n"
     ]
    },
    {
     "data": {
      "image/png": "[encoded data removed]",
      "text/plain": [
       "<Figure size 504x360 with 1 Axes>"
      ]
     },
     "execution_count": 92,
     "metadata": {},
     "output_type": "execute_result"
    }
   ],
   "source": [
    "## Make the circuit and plot the measurements for the theta=0.5 . Check that it's correct"
   ]
  },
  {
   "cell_type": "code",
   "execution_count": 5,
   "metadata": {},
   "outputs": [
    {
     "ename": "IndentationError",
     "evalue": "expected an indented block (<ipython-input-5-657d144bcbb0>, line 5)",
     "output_type": "error",
     "traceback": [
      "\u001b[0;36m  File \u001b[0;32m\"<ipython-input-5-657d144bcbb0>\"\u001b[0;36m, line \u001b[0;32m5\u001b[0m\n\u001b[0;31m    plt.plot(thetas,1024*np.cos(thetas)**2,'.')\u001b[0m\n\u001b[0m      ^\u001b[0m\n\u001b[0;31mIndentationError\u001b[0m\u001b[0;31m:\u001b[0m expected an indented block\n"
     ]
    }
   ],
   "source": [
    "myData=[]\n",
    "thetas=np.arange(0,np.pi,0.01)\n",
    "for theta in thetas:\n",
    "  # do stuff here\n",
    "plt.plot(thetas,1024*np.cos(thetas)**2,'.')\n",
    "plt.plot(thetas,myData)\n",
    "plt.show()"
   ]
  },
  {
   "cell_type": "markdown",
   "metadata": {},
   "source": [
    "## Exercise 2: Two qubits (34 points)"
   ]
  },
  {
   "cell_type": "markdown",
   "metadata": {},
   "source": [
    "In this exercise we will see how to build quantum states of two qubits.  \n"
   ]
  },
  {
   "cell_type": "markdown",
   "metadata": {},
   "source": [
    "### a. Control-not gates"
   ]
  },
  {
   "cell_type": "markdown",
   "metadata": {},
   "source": [
    "*The controlled-not gate:* The key gate for two qubits is the control-not gate (`qc.cx(0,1)`.  The key gate \"nots\" the second wire (wire 1) if the first wire is \"1\" (wire 0).  Let's check it out.  Apply the \"control-not\" to a state $|00\\rangle$ and to a state $|10\\rangle$ and print out the state (i.e. `RunMeState`). Don't put in a measurement."
   ]
  },
  {
   "cell_type": "code",
   "execution_count": 94,
   "metadata": {},
   "outputs": [
    {
     "name": "stdout",
     "output_type": "stream",
     "text": [
      "(1+0j) | 00 >\n"
     ]
    }
   ],
   "source": [
    "### Circuit here applying control-not to |00>.  Print the state when you're done."
   ]
  },
  {
   "cell_type": "code",
   "execution_count": 95,
   "metadata": {},
   "outputs": [
    {
     "name": "stdout",
     "output_type": "stream",
     "text": [
      "(1+0j) | 11 >\n"
     ]
    }
   ],
   "source": [
    "### Circuit here applying control-not to |10>.  Print the state when you're done."
   ]
  },
  {
   "cell_type": "markdown",
   "metadata": {},
   "source": [
    "### b.  Build an EPR Pair"
   ]
  },
  {
   "cell_type": "markdown",
   "metadata": {},
   "source": [
    "The most interesting two qubit state is an EPR pair, $\\frac{1}{\\sqrt{2}}\\left(|00\\rangle + |11\\rangle\\right)$.    You can build it with two gates that you have seen earlier in this assignment.  Go ahead and try different things and figure out how to build yourself an EPR pair.  You can start out with \n",
    "```\n",
    "quantumWires=2\n",
    "classicalWires=2\n",
    "qc=QuantumCircuit(quantumWires,classicalWires)\n",
    "```\n",
    "to start out a quantum circuit with two quantum wires (and two classical wires that you can do measurements on later)."
   ]
  },
  {
   "cell_type": "code",
   "execution_count": 6,
   "metadata": {},
   "outputs": [],
   "source": [
    "### Make an EPR Pair. It can be done with Hadamards and CNOTs.  Run it and look at the state when you're done. "
   ]
  },
  {
   "cell_type": "markdown",
   "metadata": {},
   "source": [
    "### c. Measuring EPR Pairs"
   ]
  },
  {
   "cell_type": "markdown",
   "metadata": {},
   "source": [
    "Let's go ahead and measure your EPR circuit above by adding the measurement and plotting it below. "
   ]
  },
  {
   "cell_type": "code",
   "execution_count": 7,
   "metadata": {},
   "outputs": [],
   "source": [
    "### Do the same thing with the EPR Pair but now look at the measurements."
   ]
  },
  {
   "cell_type": "markdown",
   "metadata": {},
   "source": [
    "There is something very powerful here.  If you get a \"0\" on the top wire, then you always get a \"0\" on the bottom wire.  If you get a \"1\" on the top wire, then you get a \"1\" on bottom wire.  This is even the case if these wires are taken miles apart before you measure.  "
   ]
  },
  {
   "cell_type": "markdown",
   "metadata": {},
   "source": [
    "### d. Running on an actual Quantum Computer"
   ]
  },
  {
   "cell_type": "markdown",
   "metadata": {},
   "source": [
    "Now we are going to build an EPR pair on an actual quantum computer.  To do this you need to build your quantum circuit again (with measurement) for building an EPR pair and then call `job=RunQC(qc)`"
   ]
  },
  {
   "cell_type": "code",
   "execution_count": 8,
   "metadata": {},
   "outputs": [],
   "source": [
    "## Remake your circuit and run it on a real live quantum computer."
   ]
  },
  {
   "cell_type": "markdown",
   "metadata": {},
   "source": [
    "Once you have run that, your job is sent off to a quantum computer. It may take a bit of time to run.  To check whether it has run yet, we need to do \n",
    "```\n",
    "print(job.status())\n",
    "print(job.queue_position())\n",
    "```\n",
    "\n",
    "You should run these lines until your job status is `JobStatus.DONE`"
   ]
  },
  {
   "cell_type": "code",
   "execution_count": 99,
   "metadata": {},
   "outputs": [
    {
     "name": "stdout",
     "output_type": "stream",
     "text": [
      "JobStatus.INITIALIZING\n",
      "None\n"
     ]
    }
   ],
   "source": [
    "print(job.status())\n",
    "print(job.queue_position())"
   ]
  },
  {
   "cell_type": "markdown",
   "metadata": {},
   "source": [
    "Now that your job has gotten off the quantum computer we can now query it.  To get the counts do\n",
    "`job.result().get_counts`.  Go ahead and plot a histogram of them. \n",
    "\n",
    "You should notice that you don't get perfect correlation anymore.  Current quantum computers are not particularly good. "
   ]
  },
  {
   "cell_type": "code",
   "execution_count": 9,
   "metadata": {},
   "outputs": [],
   "source": [
    "#go ahead and make a histogram of the results."
   ]
  },
  {
   "cell_type": "markdown",
   "metadata": {},
   "source": [
    "### e. Entanglement "
   ]
  },
  {
   "cell_type": "markdown",
   "metadata": {},
   "source": [
    "The EPR pair is called entangled.  \n",
    "**Not entangled** means  \n",
    "Pr(wires measures \"00\")  = Pr(wire 0 measures \"0\") $\\times$ Pr(wire 1 measures \"0\")\n",
    "*Note that when you check things you aren't going to get this exactly even if things are independent because things are stochastic.  If you're careful you can compute error bars but otherwise use reasonable judgement*\n",
    "\n",
    "We want to check if things are entangled.  To accomplish this, let's write a function to measure the probability that wire $i$ is 0 - i.e. `def wire_i_probability(myCounts,wire_i)` (you can assume `wire_i` will either be 0 or 1).\n",
    "\n",
    "Now write a function `def wires_probability(myCounts)` which returns the probability that the two wires are \"00\".\n",
    "\n",
    "Given these two functions we want to see which circuits produce entangled states.  In particular check\n",
    "* The EPR Pair\n",
    "* A circuit you generate which has no two wire gates in it (i.e. no CNOT)\n",
    "and demonstrate what you find. \n",
    "\n",
    "*You should run this with the simulator and not on the quantum computer.*\n",
    "\n"
   ]
  },
  {
   "cell_type": "code",
   "execution_count": 101,
   "metadata": {},
   "outputs": [],
   "source": [
    "# Measure the probability of getting \"0\" on the wire `wire`\n",
    "def Probability(myCounts,wire):\n",
    "    zeroProb=0.0\n",
    "    if wire==0:\n",
    "\n",
    "    elif wire==1:\n",
    "    return zeroProb/1024.\n"
   ]
  },
  {
   "cell_type": "code",
   "execution_count": 10,
   "metadata": {},
   "outputs": [],
   "source": [
    "## Now check the entanglement of the EPR pair and a state you make only using 1-qubit gates."
   ]
  },
  {
   "cell_type": "markdown",
   "metadata": {},
   "source": [
    "## Exercise 3 Quantum Key Distribution (EC - 20 points)"
   ]
  },
  {
   "cell_type": "markdown",
   "metadata": {},
   "source": [
    "### a. One time pads"
   ]
  },
  {
   "cell_type": "markdown",
   "metadata": {},
   "source": [
    "If Alice and Bob have two identical secret books of bits which agree, they could send secret messages to each other. Here's a way to make a bunch of secret bits by sharing a quantum state.  After the quantum state is produced, they can separate their wires to be far apart. "
   ]
  },
  {
   "cell_type": "code",
   "execution_count": 103,
   "metadata": {},
   "outputs": [
    {
     "data": {
      "image/png": "[encoded data removed]",
      "text/plain": [
       "<Figure size 337.12x204.68 with 1 Axes>"
      ]
     },
     "execution_count": 103,
     "metadata": {},
     "output_type": "execute_result"
    }
   ],
   "source": [
    "\n",
    "\n",
    "def MakeSinglet(qc):\n",
    "    aliceWire=0\n",
    "    bobWire=1\n",
    "    qc.h(aliceWire)\n",
    "    qc.cx(aliceWire,bobWire)\n",
    "\n",
    "def MakeSharedState(qc):\n",
    "    MakeSinglet(qc)\n",
    "    qc.barrier()\n",
    "    return qc\n",
    "\n",
    "qc=QuantumCircuit(2,2)\n",
    "qc=MakeSharedState(qc)\n",
    "qc.draw(output='mpl')"
   ]
  },
  {
   "cell_type": "markdown",
   "metadata": {},
   "source": [
    "Let `AliceWire=0` and `BobWire=1` . \n",
    "* Add some measurement to the circuit above\n",
    "* execute this circuit 100 times (use `RunMe(qc,1)` so you only run one copy of it)\n",
    "* store a list of Alice and Bob's bits and report what fraction of the time they agree.\n",
    "\n",
    "For this latter task I find the following helpful: `    theKey=list(result.get_counts().keys())[0]`. `theKey` will be the bitstring of measured state *in reversed order* (i.e. `theKey[0]` is q0, `theKey[1]` is q1, etc)"
   ]
  },
  {
   "cell_type": "code",
   "execution_count": 11,
   "metadata": {},
   "outputs": [
    {
     "ename": "NameError",
     "evalue": "name 'qc' is not defined",
     "output_type": "error",
     "traceback": [
      "\u001b[0;31m---------------------------------------------------------------------------\u001b[0m",
      "\u001b[0;31mNameError\u001b[0m                                 Traceback (most recent call last)",
      "\u001b[0;32m<ipython-input-11-f96726f9186e>\u001b[0m in \u001b[0;36m<module>\u001b[0;34m\u001b[0m\n\u001b[1;32m      2\u001b[0m \u001b[0mbobBits\u001b[0m\u001b[0;34m=\u001b[0m\u001b[0;34m[\u001b[0m\u001b[0;34m]\u001b[0m\u001b[0;34m\u001b[0m\u001b[0;34m\u001b[0m\u001b[0m\n\u001b[1;32m      3\u001b[0m \u001b[0;34m\u001b[0m\u001b[0m\n\u001b[0;32m----> 4\u001b[0;31m \u001b[0mqc\u001b[0m\u001b[0;34m.\u001b[0m\u001b[0mmeasure\u001b[0m\u001b[0;34m(\u001b[0m\u001b[0;34m[\u001b[0m\u001b[0;36m0\u001b[0m\u001b[0;34m,\u001b[0m\u001b[0;36m1\u001b[0m\u001b[0;34m]\u001b[0m\u001b[0;34m,\u001b[0m\u001b[0;34m[\u001b[0m\u001b[0;36m0\u001b[0m\u001b[0;34m,\u001b[0m\u001b[0;36m1\u001b[0m\u001b[0;34m]\u001b[0m\u001b[0;34m)\u001b[0m\u001b[0;34m\u001b[0m\u001b[0;34m\u001b[0m\u001b[0m\n\u001b[0m\u001b[1;32m      5\u001b[0m \u001b[0;31m## After measurement how often do Alice and Bob's bits agree.\u001b[0m\u001b[0;34m\u001b[0m\u001b[0;34m\u001b[0m\u001b[0;34m\u001b[0m\u001b[0m\n\u001b[1;32m      6\u001b[0m \u001b[0;34m\u001b[0m\u001b[0m\n",
      "\u001b[0;31mNameError\u001b[0m: name 'qc' is not defined"
     ]
    }
   ],
   "source": [
    "aliceBits=[]\n",
    "bobBits=[]\n",
    "\n",
    "qc.measure([0,1],[0,1])\n",
    "## After measurement how often do Alice and Bob's bits agree.\n",
    "\n",
    "print(\"They agree this fraction of the time: \" ,amountAgree)\n"
   ]
  },
  {
   "cell_type": "markdown",
   "metadata": {},
   "source": [
    "### b. Eve's arrival"
   ]
  },
  {
   "attachments": {
    "image.png": {
     "image/png": "[encoded data removed]"
    }
   },
   "cell_type": "markdown",
   "metadata": {},
   "source": [
    "Unfortunately this approach has a problem.  Suppose that you're sending an EPR pair to Alice and the eavesdropper Eve gets a hold of it.  Is their a way to have Eve sneakily get the message without Alice and Bob noticing?  Add some circuit for Eve.  Assume that she can do anything she wants to the state (and her wire) after the shared state is made but before it's shipped off to Alice and Bob. \n",
    "\n",
    "Then, measure what fraction of the time Alice and Bob agree and what fraction of the time Eve has successfully figured out the bit. \n",
    "\n",
    "![image.png](attachment:image.png)"
   ]
  },
  {
   "cell_type": "code",
   "execution_count": 12,
   "metadata": {},
   "outputs": [
    {
     "ename": "NameError",
     "evalue": "name 'QuantumCircuit' is not defined",
     "output_type": "error",
     "traceback": [
      "\u001b[0;31m---------------------------------------------------------------------------\u001b[0m",
      "\u001b[0;31mNameError\u001b[0m                                 Traceback (most recent call last)",
      "\u001b[0;32m<ipython-input-12-35d1d42d0720>\u001b[0m in \u001b[0;36m<module>\u001b[0;34m\u001b[0m\n\u001b[1;32m      3\u001b[0m \u001b[0mBobBits\u001b[0m\u001b[0;34m=\u001b[0m\u001b[0;34m[\u001b[0m\u001b[0;34m]\u001b[0m\u001b[0;34m\u001b[0m\u001b[0;34m\u001b[0m\u001b[0m\n\u001b[1;32m      4\u001b[0m \u001b[0meveWire\u001b[0m\u001b[0;34m=\u001b[0m\u001b[0;36m2\u001b[0m\u001b[0;34m\u001b[0m\u001b[0;34m\u001b[0m\u001b[0m\n\u001b[0;32m----> 5\u001b[0;31m \u001b[0mqc\u001b[0m\u001b[0;34m=\u001b[0m\u001b[0mQuantumCircuit\u001b[0m\u001b[0;34m(\u001b[0m\u001b[0;36m3\u001b[0m\u001b[0;34m,\u001b[0m\u001b[0;36m3\u001b[0m\u001b[0;34m)\u001b[0m\u001b[0;34m\u001b[0m\u001b[0;34m\u001b[0m\u001b[0m\n\u001b[0m\u001b[1;32m      6\u001b[0m \u001b[0mqc\u001b[0m\u001b[0;34m=\u001b[0m\u001b[0mMakeSharedState\u001b[0m\u001b[0;34m(\u001b[0m\u001b[0mqc\u001b[0m\u001b[0;34m)\u001b[0m\u001b[0;34m\u001b[0m\u001b[0;34m\u001b[0m\u001b[0m\n\u001b[1;32m      7\u001b[0m \u001b[0;31m###What can Eve do here so that she knows the secret bit and can't be detected by Alice and Bob\u001b[0m\u001b[0;34m\u001b[0m\u001b[0;34m\u001b[0m\u001b[0;34m\u001b[0m\u001b[0m\n",
      "\u001b[0;31mNameError\u001b[0m: name 'QuantumCircuit' is not defined"
     ]
    }
   ],
   "source": [
    "\n",
    "AliceBits=[]\n",
    "EveBits=[]\n",
    "BobBits=[]\n",
    "eveWire=2\n",
    "qc=QuantumCircuit(3,3)\n",
    "qc=MakeSharedState(qc)\n",
    "###What can Eve do here so that she knows the secret bit and can't be detected by Alice and Bob\n",
    "qc.cx(0,2)\n",
    "qc.measure([2],[2])\n",
    "qc.barrier()\n",
    "### Eve is done now. \n",
    "\n",
    "qc.measure([0,1],[0,1])  #this is your measure from earlier. \n",
    "\n",
    "###How often do Alice and Bob's bits agree.\n",
    "### How often do Alice and Eve's bits agree."
   ]
  },
  {
   "cell_type": "markdown",
   "metadata": {},
   "source": [
    "If you've done it correctly you should find that Alice and Bob always agree but also Alice and Eve also always agree.  So our protocol was a good way to share some secrete bits but doesn't work if Even can get a hold of the state before Alice and Bob gert it.  We need an improved protocol. "
   ]
  },
  {
   "cell_type": "markdown",
   "metadata": {},
   "source": [
    "### c. An improved protocol"
   ]
  },
  {
   "cell_type": "markdown",
   "metadata": {},
   "source": [
    "Let's remove Eve for the moment and work on an improved protocol. \n",
    "Suppose Alice and Bob agree that for each of the 100 trials, Alice and Bob are going to flip a shared coin and decide to randomly put a Hadamard on both their wires if you get heads (`np.random.random()>0.5`) and leave it alone otherwise (*Yes - I know flipping a shared coin is cheating.  We will fix it later*).  Emulate this new protocol and see how often Alice and Bob's bits agree?  Store also an array which specifies when you decided to add the Hadamard.\n"
   ]
  },
  {
   "cell_type": "code",
   "execution_count": 13,
   "metadata": {},
   "outputs": [],
   "source": [
    "### Build here the improved protocol and see how often Alice and Bob's bits agree."
   ]
  },
  {
   "cell_type": "markdown",
   "metadata": {},
   "source": [
    "### d. Eve in the improved protocol"
   ]
  },
  {
   "cell_type": "markdown",
   "metadata": {},
   "source": [
    "Now add Eve back using your approach from (b).  How often do Alice and Bob agree?  How often do Alice and Eve agree?   Suppose Alice and Bob were willing to talk some - can they catch Eve's eavsdropping and still have some useful random bits left if Eve wasn't listening."
   ]
  },
  {
   "cell_type": "code",
   "execution_count": 107,
   "metadata": {},
   "outputs": [
    {
     "name": "stdout",
     "output_type": "stream",
     "text": [
      "Alice and Bob Agree:  0.74\n",
      "Alice and Eve Agree:  0.71\n"
     ]
    }
   ],
   "source": [
    "# Use the same Eve technique as you did in (b) and see how often they agree.  If Alice and Bob's bits don't \n",
    "# always agree is their a way for Alice and Bob to then detect Eve's eavesdropping while still having\n",
    "# some one-time pad bits left.\n"
   ]
  },
  {
   "cell_type": "markdown",
   "metadata": {},
   "source": [
    "### e.  Not flipping shared coins"
   ]
  },
  {
   "cell_type": "markdown",
   "metadata": {},
   "source": [
    "In practice, Alice and Bob can't randomly choose to both use the Hadamard gate at the same time.   Let's assume instead they independently add a random Hadamard gate.  Modify your code to do this and record when Bob and Alice chose Hadamard.  Now write some code to allow Alice and Bob to identify when there is eavesdropping. To do this, Alice and Bob need to not only talk about what answers they got but also whether not they both added their Hadamard gate. "
   ]
  },
  {
   "cell_type": "code",
   "execution_count": 15,
   "metadata": {},
   "outputs": [
    {
     "ename": "NameError",
     "evalue": "name 'np' is not defined",
     "output_type": "error",
     "traceback": [
      "\u001b[0;31m---------------------------------------------------------------------------\u001b[0m",
      "\u001b[0;31mNameError\u001b[0m                                 Traceback (most recent call last)",
      "\u001b[0;32m<ipython-input-15-0a1f5e87666f>\u001b[0m in \u001b[0;36m<module>\u001b[0;34m\u001b[0m\n\u001b[1;32m      6\u001b[0m \u001b[0;31m## as well as what result they get\u001b[0m\u001b[0;34m\u001b[0m\u001b[0;34m\u001b[0m\u001b[0;34m\u001b[0m\u001b[0m\n\u001b[1;32m      7\u001b[0m \u001b[0;34m\u001b[0m\u001b[0m\n\u001b[0;32m----> 8\u001b[0;31m \u001b[0mmask\u001b[0m\u001b[0;34m=\u001b[0m\u001b[0mnp\u001b[0m\u001b[0;34m.\u001b[0m\u001b[0marray\u001b[0m\u001b[0;34m(\u001b[0m\u001b[0mHadamardA\u001b[0m\u001b[0;34m)\u001b[0m\u001b[0;34m==\u001b[0m\u001b[0;34m(\u001b[0m\u001b[0mHadamardB\u001b[0m\u001b[0;34m)\u001b[0m\u001b[0;34m\u001b[0m\u001b[0;34m\u001b[0m\u001b[0m\n\u001b[0m\u001b[1;32m      9\u001b[0m \u001b[0;34m\u001b[0m\u001b[0m\n\u001b[1;32m     10\u001b[0m \u001b[0;31m## How often do they agree if we only consider the cases when they made the same choice.\u001b[0m\u001b[0;34m\u001b[0m\u001b[0;34m\u001b[0m\u001b[0;34m\u001b[0m\u001b[0m\n",
      "\u001b[0;31mNameError\u001b[0m: name 'np' is not defined"
     ]
    }
   ],
   "source": [
    "HadamardA=[]\n",
    "HadamardB=[]\n",
    "\n",
    "## Now remove the cheating from the approach.  \n",
    "## This time, Alice and Bob are going to have to talk about both the decisions they made (Hadamard or not)\n",
    "## as well as what result they get\n",
    "\n",
    "mask=np.array(HadamardA)==(HadamardB)\n",
    "\n",
    "## How often do they agree if we only consider the cases when they made the same choice. "
   ]
  },
  {
   "cell_type": "markdown",
   "metadata": {},
   "source": [
    "## Exercise 4: Building up tools (EC - 10 points)"
   ]
  },
  {
   "cell_type": "markdown",
   "metadata": {},
   "source": [
    "Now we are going to build up some tools and intuition so we can learn to build more complicated circuits. "
   ]
  },
  {
   "cell_type": "markdown",
   "metadata": {},
   "source": [
    "### a. Initializing a binary number"
   ]
  },
  {
   "cell_type": "markdown",
   "metadata": {},
   "source": [
    "Often it is useful to get some binary state (like $|0110\\rangle$) into your quantum computer.  Write a function `def Init(qc,myBinaryNumber)` which generates the state $|\\textrm{myBinaryNumber}\\rangle$. Run\n",
    "```\n",
    "Init(qc,'011')\n",
    "qc.draw(output='mpl')\n",
    "```\n"
   ]
  },
  {
   "cell_type": "code",
   "execution_count": 16,
   "metadata": {},
   "outputs": [
    {
     "ename": "IndentationError",
     "evalue": "expected an indented block (<ipython-input-16-64a1f88e0e9c>, line 4)",
     "output_type": "error",
     "traceback": [
      "\u001b[0;36m  File \u001b[0;32m\"<ipython-input-16-64a1f88e0e9c>\"\u001b[0;36m, line \u001b[0;32m4\u001b[0m\n\u001b[0;31m    qc=QuantumCircuit(3,3)\u001b[0m\n\u001b[0m     ^\u001b[0m\n\u001b[0;31mIndentationError\u001b[0m\u001b[0;31m:\u001b[0m expected an indented block\n"
     ]
    }
   ],
   "source": [
    "\n",
    "def Init(qc,myString='000'):\n",
    "    #write me\n",
    "\n",
    "qc=QuantumCircuit(3,3)\n",
    "Init(qc,'011')\n",
    "qc.draw(output='mpl')\n",
    "\n"
   ]
  },
  {
   "cell_type": "markdown",
   "metadata": {},
   "source": [
    "### b. A sum over all states"
   ]
  },
  {
   "cell_type": "markdown",
   "metadata": {},
   "source": [
    "A useful state to be able to make is \n",
    "$$\\frac{1}{\\sqrt{N}}\\sum_{i=1}^N |i\\rangle$$\n",
    "\n",
    "Write a function `def AllSum(qc,w)` which adds this circuit to qc for $N=2^w$.  Run it with $w=5$ and draw out your circuit.  "
   ]
  },
  {
   "cell_type": "code",
   "execution_count": 17,
   "metadata": {},
   "outputs": [
    {
     "ename": "NameError",
     "evalue": "name 'QuantumRegister' is not defined",
     "output_type": "error",
     "traceback": [
      "\u001b[0;31m---------------------------------------------------------------------------\u001b[0m",
      "\u001b[0;31mNameError\u001b[0m                                 Traceback (most recent call last)",
      "\u001b[0;32m<ipython-input-17-7c39755fd900>\u001b[0m in \u001b[0;36m<module>\u001b[0;34m\u001b[0m\n\u001b[0;32m----> 1\u001b[0;31m \u001b[0mqr\u001b[0m \u001b[0;34m=\u001b[0m \u001b[0mQuantumRegister\u001b[0m\u001b[0;34m(\u001b[0m\u001b[0;36m5\u001b[0m\u001b[0;34m)\u001b[0m\u001b[0;34m\u001b[0m\u001b[0;34m\u001b[0m\u001b[0m\n\u001b[0m\u001b[1;32m      2\u001b[0m \u001b[0mcr\u001b[0m \u001b[0;34m=\u001b[0m \u001b[0mClassicalRegister\u001b[0m\u001b[0;34m(\u001b[0m\u001b[0;36m5\u001b[0m\u001b[0;34m)\u001b[0m\u001b[0;34m\u001b[0m\u001b[0;34m\u001b[0m\u001b[0m\n\u001b[1;32m      3\u001b[0m \u001b[0mqc\u001b[0m\u001b[0;34m=\u001b[0m\u001b[0mQuantumCircuit\u001b[0m\u001b[0;34m(\u001b[0m\u001b[0mqr\u001b[0m\u001b[0;34m,\u001b[0m\u001b[0mcr\u001b[0m\u001b[0;34m)\u001b[0m\u001b[0;34m\u001b[0m\u001b[0;34m\u001b[0m\u001b[0m\n\u001b[1;32m      4\u001b[0m \u001b[0mAllSum\u001b[0m\u001b[0;34m(\u001b[0m\u001b[0mqc\u001b[0m\u001b[0;34m,\u001b[0m\u001b[0;36m5\u001b[0m\u001b[0;34m)\u001b[0m\u001b[0;34m\u001b[0m\u001b[0;34m\u001b[0m\u001b[0m\n\u001b[1;32m      5\u001b[0m \u001b[0mqc\u001b[0m\u001b[0;34m.\u001b[0m\u001b[0mmeasure\u001b[0m\u001b[0;34m(\u001b[0m\u001b[0mqr\u001b[0m\u001b[0;34m,\u001b[0m\u001b[0mcr\u001b[0m\u001b[0;34m)\u001b[0m\u001b[0;34m\u001b[0m\u001b[0;34m\u001b[0m\u001b[0m\n",
      "\u001b[0;31mNameError\u001b[0m: name 'QuantumRegister' is not defined"
     ]
    }
   ],
   "source": [
    "qr = QuantumRegister(5)\n",
    "cr = ClassicalRegister(5)\n",
    "qc=QuantumCircuit(qr,cr)\n",
    "AllSum(qc,5)\n",
    "qc.measure(qr,cr)\n",
    "\n",
    "qc.draw(output='mpl')\n"
   ]
  },
  {
   "cell_type": "markdown",
   "metadata": {},
   "source": [
    "Now run the state on your simulator and measure how often you get various states."
   ]
  },
  {
   "cell_type": "code",
   "execution_count": 18,
   "metadata": {},
   "outputs": [],
   "source": [
    "# Run me looking at the measurements and see what happens"
   ]
  },
  {
   "cell_type": "code",
   "execution_count": null,
   "metadata": {},
   "outputs": [],
   "source": []
  },
  {
   "cell_type": "markdown",
   "metadata": {},
   "source": [
    "### c.  Angle of a random gate"
   ]
  },
  {
   "cell_type": "markdown",
   "metadata": {},
   "source": [
    "In this section, we are going to start out with a $R_z(\\theta)$ gate but we don't know what $\\theta$ is.  Your goal is to use other gates to figure out $\\theta$.  Write some code which returns your guess of $\\theta$.  To add your random gate to your circuit, you may call RandomGate(qc)."
   ]
  },
  {
   "cell_type": "code",
   "execution_count": 112,
   "metadata": {},
   "outputs": [],
   "source": [
    "def RandomGateHelp():\n",
    "    theta=np.random.random()*2*np.pi\n",
    "    def RandomGate(qc):\n",
    "        qc.rz(theta,0)\n",
    "    return RandomGate\n",
    "\n",
    "RandomGate=RandomGateHelp()"
   ]
  },
  {
   "cell_type": "code",
   "execution_count": 19,
   "metadata": {},
   "outputs": [
    {
     "ename": "NameError",
     "evalue": "name 'QuantumRegister' is not defined",
     "output_type": "error",
     "traceback": [
      "\u001b[0;31m---------------------------------------------------------------------------\u001b[0m",
      "\u001b[0;31mNameError\u001b[0m                                 Traceback (most recent call last)",
      "\u001b[0;32m<ipython-input-19-1a8f8b58a905>\u001b[0m in \u001b[0;36m<module>\u001b[0;34m\u001b[0m\n\u001b[1;32m     10\u001b[0m     \u001b[0mprint\u001b[0m\u001b[0;34m(\u001b[0m\u001b[0mmyCounts\u001b[0m\u001b[0;34m)\u001b[0m\u001b[0;34m\u001b[0m\u001b[0;34m\u001b[0m\u001b[0m\n\u001b[1;32m     11\u001b[0m     \u001b[0;32mreturn\u001b[0m \u001b[0;36m0.0\u001b[0m\u001b[0;34m\u001b[0m\u001b[0;34m\u001b[0m\u001b[0m\n\u001b[0;32m---> 12\u001b[0;31m \u001b[0mprint\u001b[0m\u001b[0;34m(\u001b[0m\u001b[0;34m\"Theta is \"\u001b[0m\u001b[0;34m,\u001b[0m\u001b[0mReturnTheta\u001b[0m\u001b[0;34m(\u001b[0m\u001b[0;34m)\u001b[0m\u001b[0;34m)\u001b[0m\u001b[0;34m\u001b[0m\u001b[0;34m\u001b[0m\u001b[0m\n\u001b[0m",
      "\u001b[0;32m<ipython-input-19-1a8f8b58a905>\u001b[0m in \u001b[0;36mReturnTheta\u001b[0;34m()\u001b[0m\n\u001b[1;32m      1\u001b[0m \u001b[0;32mdef\u001b[0m \u001b[0mReturnTheta\u001b[0m\u001b[0;34m(\u001b[0m\u001b[0;34m)\u001b[0m\u001b[0;34m:\u001b[0m\u001b[0;34m\u001b[0m\u001b[0;34m\u001b[0m\u001b[0m\n\u001b[0;32m----> 2\u001b[0;31m     \u001b[0mqr\u001b[0m\u001b[0;34m=\u001b[0m\u001b[0mQuantumRegister\u001b[0m\u001b[0;34m(\u001b[0m\u001b[0;36m1\u001b[0m\u001b[0;34m)\u001b[0m\u001b[0;34m\u001b[0m\u001b[0;34m\u001b[0m\u001b[0m\n\u001b[0m\u001b[1;32m      3\u001b[0m     \u001b[0mcr\u001b[0m\u001b[0;34m=\u001b[0m\u001b[0mClassicalRegister\u001b[0m\u001b[0;34m(\u001b[0m\u001b[0;36m1\u001b[0m\u001b[0;34m)\u001b[0m\u001b[0;34m\u001b[0m\u001b[0;34m\u001b[0m\u001b[0m\n\u001b[1;32m      4\u001b[0m     \u001b[0mqc\u001b[0m\u001b[0;34m=\u001b[0m\u001b[0mQuantumCircuit\u001b[0m\u001b[0;34m(\u001b[0m\u001b[0mqr\u001b[0m\u001b[0;34m,\u001b[0m\u001b[0mcr\u001b[0m\u001b[0;34m)\u001b[0m\u001b[0;34m\u001b[0m\u001b[0;34m\u001b[0m\u001b[0m\n\u001b[1;32m      5\u001b[0m     \u001b[0;31m#change this function somehow\u001b[0m\u001b[0;34m\u001b[0m\u001b[0;34m\u001b[0m\u001b[0;34m\u001b[0m\u001b[0m\n",
      "\u001b[0;31mNameError\u001b[0m: name 'QuantumRegister' is not defined"
     ]
    }
   ],
   "source": [
    "def ReturnTheta():\n",
    "    qr=QuantumRegister(1)\n",
    "    cr=ClassicalRegister(1)\n",
    "    qc=QuantumCircuit(qr,cr)\n",
    "    #change this function somehow\n",
    "    RandomGate(qc)\n",
    "    qc.measure(0,0)\n",
    "    result=RunMe(qc)\n",
    "    myCounts=result.get_counts()\n",
    "    print(myCounts)\n",
    "    return 0.0\n",
    "print(\"Theta is \",ReturnTheta())"
   ]
  },
  {
   "cell_type": "markdown",
   "metadata": {},
   "source": [
    "### d. Inverting a CNOT"
   ]
  },
  {
   "cell_type": "markdown",
   "metadata": {},
   "source": [
    "Suppose you have a quantum computer which can generate a CNOT where the control wire is smaller then the NOT wire - i.e. `qc.cx(i,j)` where $i<j$.  Now, you need the gate `qc.cx(j,i)` . Figure out how to use 1-qubit gates and `qc.cx(i,j)` to build the gate `qc.cx(j,i)` and demonstrate that it works.  *Hint:* You can do this with one CNOT some number of Hadamards. "
   ]
  },
  {
   "cell_type": "code",
   "execution_count": 20,
   "metadata": {},
   "outputs": [],
   "source": [
    "# Write code here"
   ]
  },
  {
   "cell_type": "markdown",
   "metadata": {},
   "source": [
    "### e. Deferred Measurements"
   ]
  },
  {
   "cell_type": "markdown",
   "metadata": {},
   "source": [
    "Suppose you have a calculation where you do a measurement in the middle of your simulation."
   ]
  },
  {
   "cell_type": "code",
   "execution_count": 114,
   "metadata": {},
   "outputs": [
    {
     "data": {
      "image/png": "[encoded data removed]",
      "text/plain": [
       "<Figure size 676.648x144.48 with 1 Axes>"
      ]
     },
     "execution_count": 114,
     "metadata": {},
     "output_type": "execute_result"
    }
   ],
   "source": [
    "qr=QuantumRegister(1)\n",
    "cr=ClassicalRegister(1)\n",
    "qc=QuantumCircuit(qr,cr)\n",
    "qc.h(0)\n",
    "qc.rx(np.pi/2.,0)\n",
    "qc.rz(np.pi/3.,0)\n",
    "qc.rx(np.pi/5.,0)\n",
    "qc.measure(0,0)\n",
    "qc.h(0)\n",
    "qc.rz(np.pi/5.,0)\n",
    "qc.ry(np.pi/2.,0)\n",
    "qc.measure(0,0)\n",
    "qc.draw(output='mpl')"
   ]
  },
  {
   "cell_type": "markdown",
   "metadata": {},
   "source": [
    "We can measure the probabilities of the output:"
   ]
  },
  {
   "cell_type": "code",
   "execution_count": 115,
   "metadata": {},
   "outputs": [
    {
     "data": {
      "image/png": "[encoded data removed]",
      "text/plain": [
       "<Figure size 504x360 with 1 Axes>"
      ]
     },
     "execution_count": 115,
     "metadata": {},
     "output_type": "execute_result"
    }
   ],
   "source": [
    "plot_histogram(RunMe(qc).get_counts())"
   ]
  },
  {
   "cell_type": "markdown",
   "metadata": {},
   "source": [
    "We want to rewrite the circuit on two wires so that you can do all the measurements at the end.  Figure out how to pull this off and show that you get the same probability distribution over the first wire.  You should be able to do this essentially independently of the gates that I include on the top wire. *Hint:* You want to essentially copy what would have been the result of the measurement to the bottom wire.  Then you can measure the bottom wire whenever since there are no gates there."
   ]
  },
  {
   "cell_type": "code",
   "execution_count": 22,
   "metadata": {},
   "outputs": [
    {
     "ename": "NameError",
     "evalue": "name 'QuantumRegister' is not defined",
     "output_type": "error",
     "traceback": [
      "\u001b[0;31m---------------------------------------------------------------------------\u001b[0m",
      "\u001b[0;31mNameError\u001b[0m                                 Traceback (most recent call last)",
      "\u001b[0;32m<ipython-input-22-58c437e115d3>\u001b[0m in \u001b[0;36m<module>\u001b[0;34m\u001b[0m\n\u001b[0;32m----> 1\u001b[0;31m \u001b[0mqr\u001b[0m\u001b[0;34m=\u001b[0m\u001b[0mQuantumRegister\u001b[0m\u001b[0;34m(\u001b[0m\u001b[0;36m2\u001b[0m\u001b[0;34m)\u001b[0m\u001b[0;34m\u001b[0m\u001b[0;34m\u001b[0m\u001b[0m\n\u001b[0m\u001b[1;32m      2\u001b[0m \u001b[0mcr\u001b[0m\u001b[0;34m=\u001b[0m\u001b[0mClassicalRegister\u001b[0m\u001b[0;34m(\u001b[0m\u001b[0;36m2\u001b[0m\u001b[0;34m)\u001b[0m\u001b[0;34m\u001b[0m\u001b[0;34m\u001b[0m\u001b[0m\n\u001b[1;32m      3\u001b[0m \u001b[0mqc\u001b[0m\u001b[0;34m=\u001b[0m\u001b[0mQuantumCircuit\u001b[0m\u001b[0;34m(\u001b[0m\u001b[0mqr\u001b[0m\u001b[0;34m,\u001b[0m\u001b[0mcr\u001b[0m\u001b[0;34m)\u001b[0m\u001b[0;34m\u001b[0m\u001b[0;34m\u001b[0m\u001b[0m\n\u001b[1;32m      4\u001b[0m \u001b[0;31m# do stuff before the measurement which is the last thing you do\u001b[0m\u001b[0;34m\u001b[0m\u001b[0;34m\u001b[0m\u001b[0;34m\u001b[0m\u001b[0m\n\u001b[1;32m      5\u001b[0m \u001b[0mqc\u001b[0m\u001b[0;34m.\u001b[0m\u001b[0mmeasure\u001b[0m\u001b[0;34m(\u001b[0m\u001b[0;34m[\u001b[0m\u001b[0;36m0\u001b[0m\u001b[0;34m,\u001b[0m\u001b[0;36m1\u001b[0m\u001b[0;34m]\u001b[0m\u001b[0;34m,\u001b[0m\u001b[0;34m[\u001b[0m\u001b[0;36m0\u001b[0m\u001b[0;34m,\u001b[0m\u001b[0;36m1\u001b[0m\u001b[0;34m]\u001b[0m\u001b[0;34m)\u001b[0m\u001b[0;34m\u001b[0m\u001b[0;34m\u001b[0m\u001b[0m\n",
      "\u001b[0;31mNameError\u001b[0m: name 'QuantumRegister' is not defined"
     ]
    }
   ],
   "source": [
    "qr=QuantumRegister(2)\n",
    "cr=ClassicalRegister(2)\n",
    "qc=QuantumCircuit(qr,cr)\n",
    "# do stuff before the measurement which is the last thing you do\n",
    "qc.measure([0,1],[0,1])\n",
    "\n",
    "qc.draw(output='mpl')\n",
    "#only plot the probability of wire 1. You want to get the same result. "
   ]
  },
  {
   "cell_type": "markdown",
   "metadata": {},
   "source": [
    "**Acknowledgement:** \n",
    "* Bryan Clark and Ryan Level (original)\n",
    "\n",
    "\n",
    "Copyright: 2021\n",
    "\n",
    "---"
   ]
  },
  {
   "cell_type": "code",
   "execution_count": null,
   "metadata": {},
   "outputs": [],
   "source": []
  },
  {
   "cell_type": "code",
   "execution_count": null,
   "metadata": {},
   "outputs": [],
   "source": []
  }
 ],
 "metadata": {
  "kernelspec": {
   "display_name": "Python 3 (ipykernel)",
   "language": "python",
   "name": "python3"
  },
  "language_info": {
   "codemirror_mode": {
    "name": "ipython",
    "version": 3
   },
   "file_extension": ".py",
   "mimetype": "text/x-python",
   "name": "python",
   "nbconvert_exporter": "python",
   "pygments_lexer": "ipython3",
   "version": "3.7.3"
  },
  "varInspector": {
   "cols": {
    "lenName": 16,
    "lenType": 16,
    "lenVar": 40
   },
   "kernels_config": {
    "python": {
     "delete_cmd_postfix": "",
     "delete_cmd_prefix": "del ",
     "library": "var_list.py",
     "varRefreshCmd": "print(var_dic_list())"
    },
    "r": {
     "delete_cmd_postfix": ") ",
     "delete_cmd_prefix": "rm(",
     "library": "var_list.r",
     "varRefreshCmd": "cat(var_dic_list()) "
    }
   },
   "types_to_exclude": [
    "module",
    "function",
    "builtin_function_or_method",
    "instance",
    "_Feature"
   ],
   "window_display": false
  }
 },
 "nbformat": 4,
 "nbformat_minor": 2
}
