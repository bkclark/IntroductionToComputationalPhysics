{
 "cells": [
  {
   "cell_type": "markdown",
   "metadata": {
    "id": "l1m1vaiq5D75"
   },
   "source": [
    "# Random Walks"
   ]
  },
  {
   "cell_type": "markdown",
   "metadata": {
    "id": "MnbbgArd5D79"
   },
   "source": [
    "* **Author:**\n",
    "\n",
    "* **Date:**\n",
    "\n",
    "* **Time spent on this assignment:**"
   ]
  },
  {
   "cell_type": "markdown",
   "metadata": {
    "id": "iDaOJI0v5D7-"
   },
   "source": [
    "Remember to execute this cell to load numpy and pylab."
   ]
  },
  {
   "cell_type": "code",
   "execution_count": null,
   "metadata": {
    "code_folding": [
     2
    ],
    "id": "85dFe9fI5D7-"
   },
   "outputs": [],
   "source": [
    "import numpy as np\n",
    "import matplotlib.pyplot as plt\n",
    "def resetMe(keepList=[]):\n",
    "    ll=%who_ls\n",
    "    keepList=keepList+['resetMe','np','plt']\n",
    "    for iiii in keepList:\n",
    "        if iiii in ll:\n",
    "            ll.remove(iiii)\n",
    "    for iiii in ll:\n",
    "        jjjj=\"^\"+iiii+\"$\"\n",
    "        %reset_selective -f {jjjj}\n",
    "    ll=%who_ls\n",
    "    return"
   ]
  },
  {
   "cell_type": "markdown",
   "metadata": {
    "id": "Wwo6q9vN5D7_"
   },
   "source": [
    "## Exercise 1: Unbiased Random Walks"
   ]
  },
  {
   "cell_type": "markdown",
   "metadata": {
    "id": "U0AaZqqu5D8A"
   },
   "source": [
    "* **List of collaborators:**\n",
    "\n",
    "* **References you used in developing your code:**"
   ]
  },
  {
   "cell_type": "markdown",
   "metadata": {
    "id": "BkyjX37h5D8A"
   },
   "source": [
    "In 1827, the botanist Robert Brown noticed that pollen grains floating in water would bounce around randomly, but was confused as to the reason. In 1905, Einstein successfully described the motion of the pollen particles, dubbed *Brownian motion*, as a random walk resulting from microscopic particles bombarding the large pollen grain. For the first half of this unit, we will study the random motion of Brown’s pollen grains in one and two dimensions.\n",
    "\n",
    "First, let’s visualize a random walk in one-dimension. Let’s say that we are looking at a pollen particle stuck in a tube full of water so that it can only move left or right.\n"
   ]
  },
  {
   "cell_type": "markdown",
   "metadata": {
    "id": "Q-L1D18A5D8B"
   },
   "source": [
    "<!--![image.png](attachment:image.png)-->\n",
    " <div><img src=\"https://clark.physics.illinois.edu/246img/RW1.png\" width=400 alt=\"RW\"></img><br></div>"
   ]
  },
  {
   "cell_type": "markdown",
   "metadata": {
    "id": "5W-0J6lc5D8B"
   },
   "source": [
    "We mark its original position as $x_0=0 \\mu m$. Every 30 seconds, we take a picture and record the position of the particle $x_t$ in $\\mu m$.  What we would record is something like this:"
   ]
  },
  {
   "cell_type": "markdown",
   "metadata": {
    "id": "FeQxsk7H5D8C"
   },
   "source": [
    "<!--![image.png](attachment:image.png)-->\n",
    " <div><img src=\"https://clark.physics.illinois.edu/246img/RW2.png\" width=450 alt=\"RW\"></img><br></div>"
   ]
  },
  {
   "cell_type": "markdown",
   "metadata": {
    "id": "l4xQALuO5D8C"
   },
   "source": [
    "In simulating this random walk, we assumed that every time we measured the particle’s position, it only depended on its previous position 30 seconds ago plus some random noise $\\delta$.\n",
    "\n",
    "$$x_{t+1} = x_t + \\delta.$$\n",
    "\n",
    "In python, we can model the random jumps we see using numpy’s random number\n",
    "generators:\n",
    "```python\n",
    "x[t+1] = x[t] + averageJumpDistance * np.random.randn()\n",
    "```\n",
    "where `averageJumpDistance` is the typical distance the pollen particle jumps every 30 seconds, which I set to 6 $\\mu m$. The `np.random.randn()` command generates a random number from the Gaussian (or Normal) distribution with mean zero and standard deviation one.\n",
    "\n",
    "   "
   ]
  },
  {
   "cell_type": "markdown",
   "metadata": {
    "id": "o3Y-nOFY5D8D"
   },
   "source": [
    "### a.  Plot a random walk"
   ]
  },
  {
   "cell_type": "markdown",
   "metadata": {
    "id": "uMAopHw65D8D"
   },
   "source": [
    "Generate your own random walk and plot it's location as a function of time.  Use the same parameters as in the above figure, i.e., simulate $6 \\mu m$ jumps every 30 seconds for 30,000 seconds, or 1,000 jumps.\n",
    "\n",
    "The first thing you will notice is that random walks can vary a lot. Yours will probably look very different than the one in the above figure.\n",
    "\n",
    "Generate another random walk using your code and notice that it too is different form your first walk.\n",
    "\n",
    "On your plot, go ahead and generate 10 different random walks\n",
    "\n",
    "To accomplish this, it's perfectly fine to go ahead and use a bunch of for loops.  If you are feeling fancy, it is possible to do this efficiently using `np.random.randn` and `np.cumsum`."
   ]
  },
  {
   "cell_type": "markdown",
   "metadata": {
    "id": "wX6bR2Xf5D8D"
   },
   "source": [
    " <div><img src=\"https://clark.physics.illinois.edu/246img/AnsStart.svg\" width=200 align=left alt=\"Answer (start)\"></img><br></div>"
   ]
  },
  {
   "cell_type": "code",
   "execution_count": 1,
   "metadata": {
    "colab": {
     "base_uri": "https://localhost:8080/",
     "height": 449
    },
    "id": "a53o6r3j5D8D",
    "outputId": "dcea887b-f185-4be0-ceb4-8ba8344def41"
   },
   "outputs": [],
   "source": [
    "### ANSWER ME\n",
    "\n"
   ]
  },
  {
   "cell_type": "markdown",
   "metadata": {
    "id": "Mh067gWl5D8D"
   },
   "source": [
    " <div><img src=\"https://clark.physics.illinois.edu/246img/AnsEnd.svg\" width=200 align=left alt=\"Answer (start)\"></img><br></div>"
   ]
  },
  {
   "cell_type": "markdown",
   "metadata": {
    "id": "oD7oVBbO5D8D"
   },
   "source": [
    "### b. Random Walk Averages"
   ]
  },
  {
   "cell_type": "markdown",
   "metadata": {
    "id": "tD68AE_paNya"
   },
   "source": [
    "Since each random walk is different, we need to instead look at properties of the distribution of random walks to learn anything about them.  The simplest thing to look at is the average.  \n",
    "\n",
    "Generate 2000 random walks and evaluate the average position\n",
    "$\\langle x_k \\rangle$ after the $k'th$ jump, for $k$ running from 0 to 1000.  \n",
    "\n",
    "Before you compute the average positions, think about what you expect. Once you see the result, does it agree with your expectations? Does it make sense to you?*Make sure you pay attention to the scale compared to the scale of a single random walk.*"
   ]
  },
  {
   "cell_type": "markdown",
   "metadata": {
    "id": "ifmq6Ra35D8D"
   },
   "source": [
    "\n",
    "\n",
    "What do I mean by averaging over walks? For example, say that we have two random walks, each made of 1,000 steps. I store the positions of the random walks as two length 1,000 arrays walk1 and walk2. Averaging over the two walks, the average position after each jump is an array I can calculate as\n",
    "\n",
    "`average_array = (walk1 + walk2) / 2.0`.\n",
    "\n",
    "There’s a more graceful way to do this than storing all the arrays, then calculating the average at the end. Instead, add the position after each jump while generating a walk into a single accumulator array. After you are done generating walks divide each element in your accumulator array by the number of walks.\n",
    "Let me illustrate what I mean with a table of hypothetical data, for 2,000 random walks, each of 1,000 jumps.\n",
    "\n",
    "\n",
    "\n"
   ]
  },
  {
   "cell_type": "markdown",
   "metadata": {
    "id": "nTA6doNM5D8D"
   },
   "source": [
    "|which random walk| $x_0$(µm)|$x_1$(µm)|$x_2$(µm)|...|$x_{999}$(µm)|\n",
    "|-----------------|----------|---------|---------|---|-----------|\n",
    "|0                | 0 | 0.48|7.4|&nbsp;|0.81|\n",
    "|1                | 0 | -1.5|1.3|&nbsp;|7.5|\n",
    "|2                | 0 | -3.3|-2.6|&nbsp;|6.8|\n",
    "|...                | ... | ...|...|&nbsp;|...|\n",
    "|1,999                | 0. | 88.5|-42.2|nbsp;|74.1|\n",
    "|averages| $\\langle x_0\\rangle=0$ |$\\langle x_1\\rangle=37.8$|$\\langle x_2\\rangle=45.1$|...|$\\langle x_{999}\\rangle=0.51$|"
   ]
  },
  {
   "cell_type": "markdown",
   "metadata": {
    "id": "pGZNBcyj5D8D"
   },
   "source": [
    " Here’s my plot:\n"
   ]
  },
  {
   "cell_type": "markdown",
   "metadata": {
    "id": "f6i359wa5D8D"
   },
   "source": [
    "<!--![image.png](attachment:image.png)-->\n",
    " <div><img src=\"https://clark.physics.illinois.edu/246img/RW3.png\" width=450 alt=\"RW\"></img><br></div>"
   ]
  },
  {
   "cell_type": "markdown",
   "metadata": {
    "id": "c7fTG3Nv5D8D"
   },
   "source": [
    " <div><img src=\"https://clark.physics.illinois.edu/246img/AnsStart.svg\" width=200 align=left alt=\"Answer (start)\"></img><br></div>"
   ]
  },
  {
   "cell_type": "code",
   "execution_count": 2,
   "metadata": {
    "id": "QUWzALME5D8D"
   },
   "outputs": [],
   "source": [
    "### ANSWER ME\n"
   ]
  },
  {
   "cell_type": "code",
   "execution_count": null,
   "metadata": {
    "colab": {
     "base_uri": "https://localhost:8080/",
     "height": 430
    },
    "id": "2HXVOSUdbqly",
    "outputId": "55fe09f6-b8eb-4f62-fcac-731e9adc10a9"
   },
   "outputs": [],
   "source": [
    "\n"
   ]
  },
  {
   "cell_type": "markdown",
   "metadata": {
    "id": "uXOLvkFGiNWn"
   },
   "source": [
    " <div><img src=\"https://clark.physics.illinois.edu/246img/AnsEnd.svg\" width=200 align=left alt=\"Answer (end)\"></img><br></div>"
   ]
  },
  {
   "cell_type": "markdown",
   "metadata": {
    "collapsed": true,
    "id": "Cwr-CYG95D8D"
   },
   "source": [
    "### c. Computing average distance"
   ]
  },
  {
   "cell_type": "markdown",
   "metadata": {
    "id": "z0k6Kv_0e_PD"
   },
   "source": [
    "As you should have noticed, the average is not telling you very much.  This is because you're just as likely to move left as right.  Therefore, on average, you're not going anywhere.  \n",
    "\n",
    "We need to look at something else. In some sense, we want to know how far away you are from the origin.  One way that is conceptually nice to quantify this (although not necessarily the best) is to just plot the average absolute value of your location.  Go ahead and start by making this plot.  "
   ]
  },
  {
   "cell_type": "markdown",
   "metadata": {
    "id": "t_h4h1c8ia1l"
   },
   "source": [
    " <div><img src=\"https://clark.physics.illinois.edu/246img/AnsStart.svg\" width=200 align=left alt=\"Answer (start)\"></img><br></div>"
   ]
  },
  {
   "cell_type": "code",
   "execution_count": 3,
   "metadata": {
    "colab": {
     "base_uri": "https://localhost:8080/",
     "height": 865
    },
    "id": "RuoIRRYcicE9",
    "outputId": "08a28b3b-1e76-4f37-e134-9cfd51992110"
   },
   "outputs": [],
   "source": [
    "### ANSWER ME"
   ]
  },
  {
   "cell_type": "markdown",
   "metadata": {
    "id": "N0QBKQisdvKg"
   },
   "source": [
    " <div><img src=\"https://clark.physics.illinois.edu/246img/AnsEnd.svg\" width=200 align=left alt=\"Answer (End)\"></img><br></div>"
   ]
  },
  {
   "cell_type": "markdown",
   "metadata": {
    "id": "DsLpBAaxiii5"
   },
   "source": [
    "A slightly better quantity to look at which answers a similar question is the standard deviation of your random walks\n",
    "\n",
    "$$ \\sqrt{\\frac{1}{N} \\sum_{j=1}^N (x_k - \\langle x_k\\rangle)^2} $$\n",
    "$$=\\sqrt{\\langle x_k^2\\rangle - \\langle x_k\\rangle^2}$$\n",
    "\n",
    "For the $k$'th jump the RMS tells us how much the pollen particle’s position will have tended to drift by the time it executes the $k$'th jump in a typical walk."
   ]
  },
  {
   "cell_type": "markdown",
   "metadata": {
    "id": "1xqy-PjY5D8E"
   },
   "source": [
    "All you need to do is calculate the average value of $x_k^2$ and the average value of $x_k$. So each time you generate a walk, add the position of each jump into an accumulator array and the square of the position into another accumulator array. At the end, divide the contents of each bin in your accumulator arrays by the number of walks.\n",
    "\n",
    "Write code to compute the RMS displacement as a function of time using 2,000 random walks and plot the result. You should get something similar to the following curve:"
   ]
  },
  {
   "cell_type": "markdown",
   "metadata": {
    "id": "GmqcR4Vn5D8E"
   },
   "source": [
    "<!--![image.png](attachment:image.png)-->\n",
    " <div><img src=\"https://clark.physics.illinois.edu/246img/RW4.png\" width=450 alt=\"RW\"></img><br></div>"
   ]
  },
  {
   "cell_type": "markdown",
   "metadata": {
    "id": "S7E4BfG4j3J7"
   },
   "source": [
    " <div><img src=\"https://clark.physics.illinois.edu/246img/AnsStart.svg\" width=200 align=left alt=\"Answer (Start)\"></img><br></div>"
   ]
  },
  {
   "cell_type": "code",
   "execution_count": 5,
   "metadata": {
    "colab": {
     "base_uri": "https://localhost:8080/",
     "height": 448
    },
    "id": "Uvqq1mb5j2dz",
    "outputId": "09c01400-5c35-455f-f33f-df58021c9ea7"
   },
   "outputs": [],
   "source": [
    "### ANSWER ME"
   ]
  },
  {
   "cell_type": "markdown",
   "metadata": {
    "id": "hTdPHXz-j9Or"
   },
   "source": [
    " <div><img src=\"https://clark.physics.illinois.edu/246img/AnsEnd.svg\" width=200 align=left alt=\"Answer (End)\"></img><br></div>"
   ]
  },
  {
   "cell_type": "markdown",
   "metadata": {
    "id": "BYDZjehO5D8E"
   },
   "source": [
    "We see that, on average, there is a very clear trend for the pollen particle to drift farther away over time. If we ignore the small value of the average position $\\langle x_k \\rangle$ which is zero we can write\n",
    "\n",
    "$$RMS_\\textrm{kth jump} = \\sqrt{\\langle x_k^2\\rangle - \\langle x_k \\rangle^2} \\approx \\sqrt{\\langle x_k^2 \\rangle} \\propto \\sqrt{t_k}$$\n",
    "\n",
    "The square root here is very important and characterizes all diffusive motion. Note that a free particle moving with constant velocity will have $x\\propto t$. Such motion is sometimes called ballistic motion. The main takeaway is that diffusive motion is much slower than ballistic motion. Intuitively, this makes sense since, in diffusive motion, a particle is being severely slowed down by random bombardments from its environment.\n",
    "\n",
    "🦉In addition to the plot above, make another log-log plot (of the same data) and show:\n",
    "* you get a line on this log-log plot (this shows that $x \\propto t^{\\alpha}$)\n",
    "* Find the value of $\\alpha$ by computing the slope of your (log-log) line using `np.polyfit`. Show that it goes as $t^{1/2}$"
   ]
  },
  {
   "cell_type": "markdown",
   "metadata": {
    "id": "kf9m0eVv5D8E"
   },
   "source": [
    " <div><img src=\"https://clark.physics.illinois.edu/246img/AnsStart.svg\" width=200 align=left alt=\"Answer (start)\"></img><br></div>"
   ]
  },
  {
   "cell_type": "code",
   "execution_count": 6,
   "metadata": {
    "colab": {
     "base_uri": "https://localhost:8080/",
     "height": 452
    },
    "id": "aCqANpV65D8E",
    "outputId": "894049c4-e0e9-433a-cb59-71bf311f1d21"
   },
   "outputs": [],
   "source": [
    "### ANSWER ME"
   ]
  },
  {
   "cell_type": "markdown",
   "metadata": {
    "id": "d7L2H1Ll5D8E"
   },
   "source": [
    " <div><img src=\"https://clark.physics.illinois.edu/246img/AnsEnd.svg\" width=200 align=left alt=\"Answer (End)\"></img><br></div>"
   ]
  },
  {
   "cell_type": "markdown",
   "metadata": {
    "id": "f14wfvp4lgDh"
   },
   "source": [
    "### d. The full distribution"
   ]
  },
  {
   "cell_type": "markdown",
   "metadata": {
    "id": "6O21AVZalnl9"
   },
   "source": [
    "So far we've been looking at some summary statistics as of the distribution.  These are good pieces of information to start figuring out what's going on.  But, at some point it is helpful to look at the full distribution.  \n",
    "\n",
    "Let's focus here on what the distribution looks like after 2 steps, 10 steps, 100 steps, and 500 steps.\n",
    "\n",
    "To do this, you want to plot a histogram of your distribution - i.e. something like\n",
    "```\n",
    "plot.hist(locs[:,100],bins=50)\n",
    "```\n",
    "\n",
    "Plot all four histograms on the same plot.\n",
    "\n",
    "You should see the distribution always looks gaussian with the width of the gaussian growing as the number of steps grow."
   ]
  },
  {
   "cell_type": "markdown",
   "metadata": {
    "id": "OrJtvZ67mo0k"
   },
   "source": [
    " <div><img src=\"https://clark.physics.illinois.edu/246img/AnsStart.svg\" width=200 align=left alt=\"Answer (Start)\"></img><br></div>"
   ]
  },
  {
   "cell_type": "code",
   "execution_count": 7,
   "metadata": {
    "colab": {
     "base_uri": "https://localhost:8080/",
     "height": 769
    },
    "id": "mntKSr--le8l",
    "outputId": "47ec88d5-0612-464a-c9f3-39addc02b557"
   },
   "outputs": [],
   "source": [
    "### ANSWER ME"
   ]
  },
  {
   "cell_type": "markdown",
   "metadata": {
    "id": "tisrvdPu8F4b"
   },
   "source": [
    " <div><img src=\"https://clark.physics.illinois.edu/246img/AnsEnd.svg\" width=200 align=left alt=\"Answer (End)\"></img><br></div>"
   ]
  },
  {
   "cell_type": "markdown",
   "metadata": {
    "id": "Zt6ZHT728AEF"
   },
   "source": [
    "### e. Diffusion Equations"
   ]
  },
  {
   "cell_type": "markdown",
   "metadata": {
    "id": "F5bsBZz78IGp"
   },
   "source": [
    "Previously in this course, we've worked on diffusion equations.  Now we've move to stochastic random walks.  The diffusion equations we've worekd with are deterministic so obviously can't match each stochastic walk.  But, the distribution as a function of time is something you might imagine could be correctly matched with differential equations. This is in fact the case - stochastic random walks are represented by the diffusion equation:\n",
    "\n",
    "$$ \\frac{\\partial \\rho}{\\partial t} = D \\frac{\\partial^2 \\rho}{\\partial x^2}$$\n",
    "\n",
    "Here $D=a^2/2$ is the diffusion constant where $a$ is our step size (in this case 6).  \n",
    "\n",
    "Write some code to simulate this diffusion equation from the initial conditions $\\rho(0)=\\exp[-x^2/2\\sigma^2]$ where $\\sigma=6$.  This is where our random walks are after their first step.\n",
    "\n",
    "To simulate this differential equation, you are going to want to let $\\rho$ be a density of random walks represented by a vector.  I set up my $\\rho$ by doing\n",
    "```\n",
    "dx=0.1\n",
    "points=np.array(range(0,size))\n",
    "xs=dx*(points-size//2)\n",
    "rho=np.array([np.exp(-x**2/(2*6)) for x in xs])\n",
    "```\n",
    "You can then plot it by doing\n",
    "```\n",
    "plt.plot(xs,rho/np.sum(rho)*dx)\n",
    "```\n",
    "(we scale it so that the integral of our density is 1.0).\n",
    "\n",
    "Having this as your initial condition now you want to time-step your density.  To do this, you should compute $\\frac{\\partial^2 \\rho}{\\partial x^2}$ and then move forward the $\\rho$.  Use a time step $dt=dx^2/100$.\n",
    "\n",
    "(It may or may not be helpful to use `np.roll(rho,1)` and `np.roll(rho,-1)`)\n",
    "\n",
    "Compare the distribution that you get at times $t=2.0, t=10.0, and t=30.0$ against the histograms you got from the random walks (remembering to also scale the density of the random walks histograms like `plt.hist(locs[:,10],bins=50,density=True)`.\n",
    "\n",
    "\n",
    "\n"
   ]
  },
  {
   "cell_type": "markdown",
   "metadata": {
    "id": "nZajxZdtTfqK"
   },
   "source": [
    " <div><img src=\"https://clark.physics.illinois.edu/246img/AnsStart.svg\" width=200 align=left alt=\"Answer (Start)\"></img><br></div>"
   ]
  },
  {
   "cell_type": "code",
   "execution_count": 8,
   "metadata": {
    "colab": {
     "base_uri": "https://localhost:8080/",
     "height": 430
    },
    "id": "lbuh1YVX9u6r",
    "outputId": "2b058aed-ec30-4918-b37c-6b5ba3bc01db"
   },
   "outputs": [],
   "source": [
    "### ANSWER ME"
   ]
  },
  {
   "cell_type": "markdown",
   "metadata": {
    "id": "BIYwO1_UTjtY"
   },
   "source": [
    " <div><img src=\"https://clark.physics.illinois.edu/246img/AnsEnd.svg\" width=200 align=left alt=\"Answer (End)\"></img><br></div>"
   ]
  },
  {
   "cell_type": "markdown",
   "metadata": {
    "id": "311O-T_0nS4Z"
   },
   "source": [
    "### f. Discrete Walks"
   ]
  },
  {
   "cell_type": "markdown",
   "metadata": {
    "id": "QtFpNY4jpDaQ"
   },
   "source": [
    "So far we've been doing random walks with gaussian steps.  We would like to see what changes if instead we did discrete walks - i.e. at each step we are going to walk either left exactly 6 units or right exactly 6 units.  \n",
    "\n",
    "Write code to do this random walk and then print the histogram on separate plots at\n",
    "* 2 steps (with the gaussian histogram on top of it)\n",
    "* 100 steps (with the gaussian histogram on top of it).\n",
    "\n",
    "i.e. for the 2 step histogram I wrote\n",
    "\n",
    "```\n",
    "plt.hist(locs_discrete[:,2],bins=10)\n",
    "plt.hist(locs[:,2],bins=10,alpha=0.3)\n",
    "plt.show()\n",
    "```\n",
    "\n",
    "For the 2 step histogram you should see a qualitative difference.  But once you get to 100 steps, it seems that there is no dependence on the distribution for either the discrete or gaussian steps.  This is a form of universality (and something we will see even more starkly in the two-dimensional case below)."
   ]
  },
  {
   "cell_type": "markdown",
   "metadata": {},
   "source": [
    " <div><img src=\"https://clark.physics.illinois.edu/246img/AnsStart.svg\" width=200 align=left alt=\"Answer (Start)\"></img><br></div>"
   ]
  },
  {
   "cell_type": "code",
   "execution_count": 9,
   "metadata": {
    "id": "2hjqpbRMnXCP"
   },
   "outputs": [],
   "source": [
    "### ANSWER ME"
   ]
  },
  {
   "cell_type": "markdown",
   "metadata": {},
   "source": [
    " <div><img src=\"https://clark.physics.illinois.edu/246img/AnsEnd.svg\" width=200 align=left alt=\"Answer (End)\"></img><br></div>"
   ]
  },
  {
   "cell_type": "markdown",
   "metadata": {
    "id": "WLPbpyIk5D8E"
   },
   "source": [
    "## Exercise 2: Random Walks in Two Dimensions"
   ]
  },
  {
   "cell_type": "markdown",
   "metadata": {
    "id": "hQfTcHWj5D8E"
   },
   "source": [
    "* **List of collaborators:**\n",
    "\n",
    "* **References you used in developing your code:**"
   ]
  },
  {
   "cell_type": "markdown",
   "metadata": {
    "id": "6AKagNqP5D8E"
   },
   "source": [
    "Now, let’s consider a two-dimensional random walk. We put our pollen particle on a petri dish covered with a thin layer of water so that it can move in a plane."
   ]
  },
  {
   "cell_type": "markdown",
   "metadata": {
    "id": "bNzPToeO5D8E"
   },
   "source": [
    " <div><img src=\"https://clark.physics.illinois.edu/246img/RW5.png\" width=1000 alt=\"RW\"></img><br></div>"
   ]
  },
  {
   "cell_type": "markdown",
   "metadata": {
    "id": "j6hDrnKa5D8E"
   },
   "source": [
    "### a. 2D Walks"
   ]
  },
  {
   "cell_type": "markdown",
   "metadata": {
    "id": "L7U3uJB35D8E"
   },
   "source": [
    "\n",
    "We mark the pollen grain’s initial position as   $(x_0,y_0)=(0,0) \\mu  m$. We measure every 30 seconds and see each component of the pollen particle’s position $x_k,y_k$ jump from its previous\n",
    "position. We’ll expect the typical jump distance to be $\\approx 6\\sqrt{2}$ $\\mu m$.\n",
    "\n",
    "Write code that generates 2,000 two-dimensional *gaussian* random walks of 5000 steps.  Start by plotting y vs x of 10 such random walks.\n",
    "\n",
    "Do the same thing for 10 discrete (up,down,left,right) random walks.\n",
    "\n",
    "\n",
    "\n"
   ]
  },
  {
   "cell_type": "markdown",
   "metadata": {
    "id": "MGHX-rSR5D8I"
   },
   "source": [
    " <div><img src=\"https://clark.physics.illinois.edu/246img/AnsStart.svg\" width=200 align=left alt=\"Answer (start)\"></img><br></div>"
   ]
  },
  {
   "cell_type": "code",
   "execution_count": 10,
   "metadata": {
    "colab": {
     "base_uri": "https://localhost:8080/",
     "height": 1000
    },
    "id": "ewS7DRzj5D8I",
    "outputId": "13badafd-b83b-481e-b36b-2cff06a3b068"
   },
   "outputs": [],
   "source": [
    "### ANSWER ME\n"
   ]
  },
  {
   "cell_type": "markdown",
   "metadata": {
    "id": "367El3pU5D8I"
   },
   "source": [
    " <div><img src=\"https://clark.physics.illinois.edu/246img/AnsEnd.svg\" width=200 align=left alt=\"Answer (start)\"></img><br></div>"
   ]
  },
  {
   "cell_type": "markdown",
   "metadata": {
    "id": "EaZ0a2POWKy0"
   },
   "source": [
    "### b. Self Similarity"
   ]
  },
  {
   "cell_type": "markdown",
   "metadata": {
    "id": "1fDOzkLgWRps"
   },
   "source": [
    "Brownian random walks are self-similar. As you zoom into pieces of the figure, it looks qualitatively the same on all scales.\n",
    " Make a random walk of 128,000 steps.  Then plot (on separate plots)\n",
    "* the random walk\n",
    "* the first half of the random walk (multiplying the $x$ and $y$ by 2)\n",
    "* the first quarter of the random walk  (multiplying the $x$ and $y$ by 4)\n",
    "* the first eighth of the random walk  (multiplying the $x$ and $y$ by 8)\n",
    "* the first 1/16 of the random walk  (multiplying the $x$ and $y$ by 16)\n",
    "* the first 1/32 of the random walk  (multiplying the $x$ and $y$ by 32)\n",
    "\n",
    "Notice that these plots all look qualitatively similar. This is what I get:"
   ]
  },
  {
   "cell_type": "markdown",
   "metadata": {
    "id": "Pk4EQYziZOxP"
   },
   "source": [
    " <div><img src=\"https://clark.physics.illinois.edu/246img/selfSimilar.png\" width=500 alt=\"RW\"></img><br></div>"
   ]
  },
  {
   "cell_type": "markdown",
   "metadata": {
    "id": "Pk9LCDEZZhKF"
   },
   "source": [
    " <div><img src=\"https://clark.physics.illinois.edu/246img/AnsStart.svg\" width=200 align=left alt=\"Answer (start)\"></img><br></div>"
   ]
  },
  {
   "cell_type": "code",
   "execution_count": null,
   "metadata": {
    "colab": {
     "base_uri": "https://localhost:8080/",
     "height": 406
    },
    "id": "U4P6_MMwUt1b",
    "outputId": "e72ab6ea-5ff2-4063-93a8-d0b28179c6d1"
   },
   "outputs": [],
   "source": []
  },
  {
   "cell_type": "markdown",
   "metadata": {
    "id": "k3vhdFl-ZnNG"
   },
   "source": [
    " <div><img src=\"https://clark.physics.illinois.edu/246img/AnsEnd.svg\" width=200 align=left alt=\"Answer (end)\"></img><br></div>"
   ]
  },
  {
   "cell_type": "markdown",
   "metadata": {
    "id": "V12o1rDELTgx"
   },
   "source": [
    "### c. Standard Deviation"
   ]
  },
  {
   "cell_type": "markdown",
   "metadata": {
    "id": "sQxzPoaALZ5t"
   },
   "source": [
    "Like in the 1D case, we expect the average $\\langle x_k \\rangle$ to be zero.  Let's just go ahead and plot\n",
    "$$\\langle r \\rangle = \\langle \\sqrt{x_k^2 + y_k^2}  \\rangle$$\n",
    "*for 1000 copies of both the gaussian and discrete walk on the same plot*\n",
    "\n",
    "You should obtain a similar curve to that obtained in the one-dimensional case, but increased somewhat in amplitude.Even in two-dimensions, the displacement goes with the square root of time. **Show this by also plotting it on a log-log plot and fitting the slope**.\n",
    "\n",
    "It turns out that you also see this behavior in three dimensions. In general, the RMS displacement always scales as the square root of time for any physical system undergoing diffusive motion.\n"
   ]
  },
  {
   "cell_type": "markdown",
   "metadata": {},
   "source": [
    " <div><img src=\"https://clark.physics.illinois.edu/246img/AnsStart.svg\" width=200 align=left alt=\"Answer (Start)\"></img><br></div>"
   ]
  },
  {
   "cell_type": "code",
   "execution_count": 11,
   "metadata": {
    "colab": {
     "base_uri": "https://localhost:8080/",
     "height": 865
    },
    "id": "EqHnQb1dLZQQ",
    "outputId": "69c921ae-3ad1-4c11-ae43-6fa10c7ca694"
   },
   "outputs": [],
   "source": [
    "### ANSWER ME"
   ]
  },
  {
   "cell_type": "markdown",
   "metadata": {},
   "source": [
    " <div><img src=\"https://clark.physics.illinois.edu/246img/AnsEnd.svg\" width=200 align=left alt=\"Answer (End)\"></img><br></div>"
   ]
  },
  {
   "cell_type": "markdown",
   "metadata": {
    "id": "4bJFvoUXN9Rj"
   },
   "source": [
    "### d. Rotational Invariance"
   ]
  },
  {
   "cell_type": "markdown",
   "metadata": {
    "id": "yWayJzCyaXvA"
   },
   "source": [
    "Now we are going to show that in the 2D case, the discrete walks restore the rotational invariance of the gaussian walk.\n",
    "\n",
    "To do this, we want to put the location of the 2000 2d coordinates at t=1000 steps.\n",
    "\n",
    "Do this for both the discrete and guassian walks.  \n",
    "\n",
    "You should see that\n",
    "(1) They look the same and\n",
    "(2) More interestingly, the discrete case looks rotationally invariant (like a circle) even though it can only go up, down, left, right.   This is an  emergent rotational symmetry.\n"
   ]
  },
  {
   "cell_type": "markdown",
   "metadata": {
    "id": "8zRmIEKTs7G8"
   },
   "source": [
    "  <div><img src=\"https://clark.physics.illinois.edu/246img/AnsStart.svg\" width=200 align=left alt=\"Answer (start)\"></img><br></div>"
   ]
  },
  {
   "cell_type": "code",
   "execution_count": 12,
   "metadata": {
    "colab": {
     "base_uri": "https://localhost:8080/",
     "height": 843
    },
    "id": "3coFW5i2iuj_",
    "outputId": "7522b3ce-807b-4d70-c527-c6dcef0445e3"
   },
   "outputs": [],
   "source": [
    "### ANSWER ME"
   ]
  },
  {
   "cell_type": "markdown",
   "metadata": {
    "id": "KV2fGb2rtDmz"
   },
   "source": [
    " <div><img src=\"https://clark.physics.illinois.edu/246img/AnsEnd.svg\" width=200 align=left alt=\"Answer (end)\"></img><br></div>"
   ]
  },
  {
   "cell_type": "markdown",
   "metadata": {
    "id": "3o57uLO2tL8f"
   },
   "source": [
    "### e.  Animation (extra credit: 5 points)\n",
    "\n",
    "Animate the two-dimensional random walk.  You may find the animation code from previous assignments helpful."
   ]
  },
  {
   "cell_type": "markdown",
   "metadata": {
    "id": "CEEhoqRY5OMl"
   },
   "source": [
    "## Exercise 3: Diffusion Limited Aggregation"
   ]
  },
  {
   "cell_type": "markdown",
   "metadata": {
    "id": "CdTtZAIcRt6h"
   },
   "source": [
    "In the previous exercises we learned some properties of random walks.  In this exercise, we will apply random walks to the application of deposition.  This will be done by modeling it with diffusion limited aggregation (DLA).  "
   ]
  },
  {
   "cell_type": "markdown",
   "metadata": {
    "id": "OEuGSOBXt8eW"
   },
   "source": [
    "### a. DLA onto a core point at the origin"
   ]
  },
  {
   "cell_type": "markdown",
   "metadata": {
    "id": "tcnzAnfL5X69"
   },
   "source": [
    "In DLA, we do the following:\n",
    "\n",
    "* Start with a particle at some fixed point (say the center of a box).\n",
    "* Repeat the following:\n",
    "  * Add a new particle someplace on the boundary (anywhere on the four walls).\n",
    "  * Move this particle using a discrete random walk (left, right, up, down).  If it tries to move in the direction of one of the walls, it shouldn't stick (but also shouldn't go anywhere).\n",
    "  * Once it is touching (up or down or left or right) a currently stuck particle, it should stick.\n",
    "\n",
    "To accomplish this, I kept a two-dimensional numpy array which kept track of the location of the stuck particles and the currently moving particle.  \n",
    "\n",
    "At the end, you want to go ahead and plot the location of your stuck particles.  To do this, use\n",
    "```\n",
    "plt.matshow(A)\n",
    "```\n",
    "where `A` is your numpy grid.\n",
    "\n",
    "\n",
    "Start with a box of size $100 \\times 100$.  \n",
    "Use 1000 different particles.\n",
    "\n",
    "\n",
    "This simulation is a little slow.  On colab, it takes me approximately 2 minutes.  For testing you might want to turn down the number of different particles that you use.\n",
    "\n",
    "It also also interesting to see the picture when you have a larger box ($200 \\times 200$) but this is much slower (and not required as part of the assignment)."
   ]
  },
  {
   "cell_type": "markdown",
   "metadata": {
    "id": "T37GTDTT5gUF"
   },
   "source": [
    " <div><img src=\"https://clark.physics.illinois.edu/246img/AnsStart.svg\" width=200 align=left alt=\"Answer (start)\"></img><br></div>"
   ]
  },
  {
   "cell_type": "code",
   "execution_count": 13,
   "metadata": {
    "colab": {
     "base_uri": "https://localhost:8080/"
    },
    "id": "QFTUImVX5kKc",
    "outputId": "ed1120c8-a59f-4a3a-ef9c-29d963b72825"
   },
   "outputs": [],
   "source": [
    "### ANSWER ME"
   ]
  },
  {
   "cell_type": "code",
   "execution_count": null,
   "metadata": {
    "colab": {
     "base_uri": "https://localhost:8080/",
     "height": 455
    },
    "id": "UZuG7kDI5eU_",
    "outputId": "2330ff71-c5b2-4b75-93ed-7f0eda6226ea"
   },
   "outputs": [],
   "source": []
  },
  {
   "cell_type": "markdown",
   "metadata": {
    "id": "FkhQ4c_15hZZ"
   },
   "source": [
    " <div><img src=\"https://clark.physics.illinois.edu/246img/AnsEnd.svg\" width=200 align=left alt=\"Answer (end)\"></img><br></div>"
   ]
  },
  {
   "cell_type": "markdown",
   "metadata": {
    "id": "m4DsYLEXtx5C"
   },
   "source": [
    "### b. DLA onto a surface (extra credit: 5 points)\n",
    "\n",
    "In the previous section you did DLA onto a core point.  If you are interested in understanding deposition onto a surface, you want to modify your DLA to come in at the top and stick either at the bottom or if they hit any previously stuck point.  Implement this."
   ]
  },
  {
   "cell_type": "markdown",
   "metadata": {
    "id": "JtpcXUKXw-Of"
   },
   "source": [
    " <div><img src=\"https://clark.physics.illinois.edu/246img/AnsStart.svg\" width=200 align=left alt=\"Answer (start)\"></img><br></div>"
   ]
  },
  {
   "cell_type": "code",
   "execution_count": 14,
   "metadata": {
    "colab": {
     "base_uri": "https://localhost:8080/"
    },
    "id": "Jw1KmJLxur6M",
    "outputId": "8ca4af73-ce4b-4fe4-9893-4888582f858f"
   },
   "outputs": [],
   "source": [
    "### ANSWER ME"
   ]
  },
  {
   "cell_type": "code",
   "execution_count": null,
   "metadata": {
    "colab": {
     "base_uri": "https://localhost:8080/",
     "height": 455
    },
    "id": "AWwzOx7svXf9",
    "outputId": "ab312d44-cef4-4518-892d-9895cfd38b8b"
   },
   "outputs": [],
   "source": []
  },
  {
   "cell_type": "markdown",
   "metadata": {
    "id": "uzVOlZvjxCDb"
   },
   "source": [
    " <div><img src=\"https://clark.physics.illinois.edu/246img/AnsEnd.svg\" width=200 align=left alt=\"Answer (end)\"></img><br></div>"
   ]
  },
  {
   "cell_type": "markdown",
   "metadata": {
    "id": "zwFsiSii5D8I"
   },
   "source": [
    "## Exercise 4: Path Integral Monte Carlo (extra credit)\n",
    "*(Extra credit: 20 points)*"
   ]
  },
  {
   "cell_type": "markdown",
   "metadata": {
    "id": "_mCQqfw85D8I"
   },
   "source": [
    "* **List of collaborators:**\n",
    "\n",
    "* **References you used in developing your code:**"
   ]
  },
  {
   "cell_type": "markdown",
   "metadata": {
    "id": "vAsNc5mq5D8I"
   },
   "source": [
    "(Some of the explanaitions here are abbreviated even for an extra credit.  I am sneakily having you do Quantum Monte Carlo (QMC) here.  If you want to do this extra credit [particularly after part **a.**] you should probably come talk to me)"
   ]
  },
  {
   "cell_type": "markdown",
   "metadata": {
    "id": "ZMDHZMti5D8I"
   },
   "source": [
    "### a. Fixed Points"
   ]
  },
  {
   "cell_type": "markdown",
   "metadata": {
    "id": "v5cnlG2k5D8I"
   },
   "source": [
    "Imagine we were to produce the walks in exercise 2 and then throw out any of the walks that didn't end at $(x,y)=(5,5)$.  This would induce some probability distribution over walks.  Unfortunately this would be very inefficient.  Instead figure out (read about Levy Flights and Brownian bridges) how to generate the same probability distribution as this efficiently. Write code that does so and then plot 10 paths between two fixed points (you can choose where they are fixed)."
   ]
  },
  {
   "cell_type": "code",
   "execution_count": null,
   "metadata": {
    "id": "VxuJ2Otn5D8I"
   },
   "outputs": [],
   "source": []
  },
  {
   "cell_type": "markdown",
   "metadata": {
    "id": "C6s9A7B45D8I"
   },
   "source": [
    "### b.  Connected Points"
   ]
  },
  {
   "cell_type": "markdown",
   "metadata": {
    "id": "FwjX5St85D8I"
   },
   "source": [
    "Start with 100 connected (in order) points all at $(0,0)$ (i.e. $x_0=(0,0); x_1=(0,0);...$ . We will have $x_{99}$ connceted to $x_0.$ Choose a window of ten points at random (maybe 33-43) and use the algorithm you described in **4a** to regenerate points $x_{34},x_{35},..,x_{42}$.   Then pick another window and do this again.  Repeat this process 1000 times and\n",
    "* make a plot of your points (connected by lines)\n",
    "* Report the average distance between consecutive points.\n",
    "* Make a histogram of the distances between average points."
   ]
  },
  {
   "cell_type": "code",
   "execution_count": null,
   "metadata": {
    "id": "mVZ7bJDv5D8J"
   },
   "outputs": [],
   "source": []
  },
  {
   "cell_type": "markdown",
   "metadata": {
    "id": "655baTNf5D8J"
   },
   "source": [
    "### c. Fixed Region"
   ]
  },
  {
   "cell_type": "markdown",
   "metadata": {
    "id": "YTQ0wlU65D8J"
   },
   "source": [
    "Repeat **b.** with the constraint that you should just not rebuild your window if, after making the new points, any of the points are outside a box that extends $-1 \\leq x \\leq 1$ and $-1 \\leq y \\leq 1$.\n",
    "\n",
    "Graph the probability points are at given places in the box."
   ]
  },
  {
   "cell_type": "code",
   "execution_count": null,
   "metadata": {
    "id": "fpyT-Inl5D8J"
   },
   "outputs": [],
   "source": []
  },
  {
   "cell_type": "markdown",
   "metadata": {
    "id": "Zf7-ZPhe5D8J"
   },
   "source": [
    "### d. 1D"
   ]
  },
  {
   "cell_type": "markdown",
   "metadata": {
    "id": "0WTohExX5D8J"
   },
   "source": [
    "Redo this for one dimension."
   ]
  },
  {
   "cell_type": "code",
   "execution_count": null,
   "metadata": {
    "id": "lhykPn1Z5D8J"
   },
   "outputs": [],
   "source": []
  },
  {
   "cell_type": "markdown",
   "metadata": {
    "id": "p2btU6Yf5D8J"
   },
   "source": [
    "**Acknowledgements:\n",
    "\n",
    "* Problems 1abc 2ac: George Gollin and Ryan Levy and Eli Chertkov (original); Bryan Clark (modifications)\n",
    "* Problems 1de 2b: Bryan Clark (original)\n",
    "* Problems 3,4: Bryan Clark (original)\n",
    "\n",
    "---\n",
    "© Copyright 2023\n"
   ]
  },
  {
   "cell_type": "code",
   "execution_count": null,
   "metadata": {},
   "outputs": [],
   "source": []
  }
 ],
 "metadata": {
  "colab": {
   "provenance": []
  },
  "kernelspec": {
   "display_name": "Python 3 (ipykernel)",
   "language": "python",
   "name": "python3"
  },
  "language_info": {
   "codemirror_mode": {
    "name": "ipython",
    "version": 3
   },
   "file_extension": ".py",
   "mimetype": "text/x-python",
   "name": "python",
   "nbconvert_exporter": "python",
   "pygments_lexer": "ipython3",
   "version": "3.9.7"
  },
  "varInspector": {
   "cols": {
    "lenName": 16,
    "lenType": 16,
    "lenVar": 40
   },
   "kernels_config": {
    "python": {
     "delete_cmd_postfix": "",
     "delete_cmd_prefix": "del ",
     "library": "var_list.py",
     "varRefreshCmd": "print(var_dic_list())"
    },
    "r": {
     "delete_cmd_postfix": ") ",
     "delete_cmd_prefix": "rm(",
     "library": "var_list.r",
     "varRefreshCmd": "cat(var_dic_list()) "
    }
   },
   "types_to_exclude": [
    "module",
    "function",
    "builtin_function_or_method",
    "instance",
    "_Feature"
   ],
   "window_display": false
  }
 },
 "nbformat": 4,
 "nbformat_minor": 1
}
