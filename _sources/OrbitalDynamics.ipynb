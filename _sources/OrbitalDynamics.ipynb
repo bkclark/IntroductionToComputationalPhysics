{
 "cells": [
  {
   "cell_type": "markdown",
   "metadata": {},
   "source": [
    "# Orbital Dynamics"
   ]
  },
  {
   "cell_type": "markdown",
   "metadata": {},
   "source": [
    "* **Author:**\n",
    "\n",
    "* **Date:**\n",
    "\n",
    "* **Time spent on this assignment:**"
   ]
  },
  {
   "cell_type": "markdown",
   "metadata": {},
   "source": [
    "## Overview"
   ]
  },
  {
   "cell_type": "markdown",
   "metadata": {},
   "source": [
    "In this assignment we will learn how to simulate the orbital dynamics of a planet going around the sun (which we assume to be fixed).  We will then proceed to use simulation to test two of the most important physics results in the last 400 years.  \n",
    "\n",
    "First, we will numerically validate Kepler's Second Law: a planet sweeps out the same area of its orbit in equal time.  Kepler's first law (all planets 🪐 orbit in ellipses) and Kepler's third law (the square of the orbital period of a planet is directly proportional to the cube of the semi-major axis of its orbit) will be left as extra credit.  \n",
    "\n",
    "Then we will see that general relativity alters the Newtonian law of gravitation in such a way that the planets no longer move in ellipses.  Instead, their closest approach to the sun (the perihelion) changes its location slightly as you go around the Sun.  Mesuring this effect in Mercury was one of the key original validations of general relativity."
   ]
  },
  {
   "cell_type": "code",
   "execution_count": 23,
   "metadata": {},
   "outputs": [
    {
     "data": {
      "text/plain": [
       "datetime.datetime(2021, 8, 16, 23, 3, 38, 979718)"
      ]
     },
     "execution_count": 23,
     "metadata": {},
     "output_type": "execute_result"
    }
   ],
   "source": [
    "import numpy as np\n",
    "import matplotlib.pyplot as plt\n",
    "import math\n",
    "\n",
    "def resetMe(keepList=[]):\n",
    "    ll=%who_ls\n",
    "    keepList=keepList+['resetMe','np','plt','math','jax','jnp','jit','grad']\n",
    "    for iiii in keepList:\n",
    "        if iiii in ll:\n",
    "            ll.remove(iiii)\n",
    "    for iiii in ll:\n",
    "        jjjj=\"^\"+iiii+\"$\"\n",
    "        %reset_selective -f {jjjj}\n",
    "    ll=%who_ls\n",
    "    plt.rcParams.update({\"font.size\": 14})\n",
    "    return\n",
    "#resetMe()\n",
    "import datetime;datetime.datetime.now()"
   ]
  },
  {
   "cell_type": "markdown",
   "metadata": {},
   "source": [
    "##  Warmups"
   ]
  },
  {
   "cell_type": "markdown",
   "metadata": {},
   "source": [
    "### Planetary Parameters"
   ]
  },
  {
   "cell_type": "code",
   "execution_count": 24,
   "metadata": {},
   "outputs": [],
   "source": [
    "#resetMe()\n",
    "SolarSystemParameters=dict()\n",
    "SolarSystemParameters[\"MercuryOrbitRadius\"]=57.9e9 #meters\n",
    "SolarSystemParameters[\"MercuryPerihelion\"]=46.0012e9 # meters\n",
    "SolarSystemParameters[\"MercuryAphelion\"]=69.8169e9 # meters\n",
    "\n",
    "SolarSystemParameters[\"EarthRadius\"]=6.371e6 #meters\n",
    "SolarSystemParameters[\"EarthRotatingVelocity\"]=444.444 # meters per second\n",
    "SolarSystemParameters[\"EarthOrbitRadius\"]=149.6e9 # meters\n",
    "SolarSystemParameters[\"EarthOrbitVelocity\"]=30e3 # meters per secon\n",
    "SolarSystemParameters[\"EarthMass\"]=5.972e24 # kg\n",
    "SolarSystemParameters[\"MoonOrbitRadius\"]=363228.9e3\n",
    "SolarSystemParameters[\"MoonMass\"]=7.34e22 # kg\n",
    "\n",
    "SolarSystemParameters[\"SunRadius\"]=695.51e3 #meters\n",
    "SolarSystemParameters[\"SunMass\"]=1.989e30 # kg\n",
    "SolarSystemParameters[\"G\"]=6.67408e-11"
   ]
  },
  {
   "cell_type": "markdown",
   "metadata": {},
   "source": [
    "### Using Dictionaries"
   ]
  },
  {
   "cell_type": "markdown",
   "metadata": {},
   "source": [
    "We've defined some planetary parameters for you.  Use these parameters to plot a model of our solar system which includes the Sun, Earth and Mercury assuming that the planets orbit in circular motion.  (this doesn't involve any simulations just plotting things to scale."
   ]
  },
  {
   "cell_type": "markdown",
   "metadata": {},
   "source": [
    "---"
   ]
  },
  {
   "cell_type": "markdown",
   "metadata": {},
   "source": [
    "## Exercise 1. Orbital Dynamics"
   ]
  },
  {
   "cell_type": "markdown",
   "metadata": {},
   "source": [
    "* **List of collaborators:**\n",
    "\n",
    "* **References you used in developing your code:**"
   ]
  },
  {
   "cell_type": "markdown",
   "metadata": {},
   "source": [
    "### a. Modify your code to include the force of gravity"
   ]
  },
  {
   "cell_type": "markdown",
   "metadata": {},
   "source": [
    "In Newton’s model the earth’s gravity is a central force that exerts an attractive pull\n",
    "\n",
    "$$\\vec{F}(\\vec{r}) = m\\vec{a}(\\vec{r}) = -\\frac{Gm_\\textrm{earth}m}{r^2}\\hat{r}$$\n",
    "between the earth and another mass m. In the formula G is Newton’s constant, $6.674 \\times 10^{-11} m^3/\\textrm{kg}/\\textrm{sec}^2$. The mass of the earth is approximately $5.972 \\times 10^{24}$ kg.  Because the gravitational force from the earth is proportional to an object’s mass, its gravitationally induced acceleration is independent of its mass.\n",
    "\n",
    "Let’s place the origin of a right handed coordinate system at the earth’s center, with the equator lying in the x,y plane and the x axis passing through $0^{\\circ}$ longitude. To simplify things let’s assume that the orbit of any object of interest lies in the $x,y$ plane. As you can see in the following figure, the angle φ is taken with respect to the x axis. We are fixing $\\theta = 90^{\\circ}$."
   ]
  },
  {
   "cell_type": "markdown",
   "metadata": {},
   "source": [
    "<div><img src=\"https://clark.physics.illinois.edu/246img/coord.png\" width=400 alt=\"coordinate frame\"></img><br></div>"
   ]
  },
  {
   "cell_type": "markdown",
   "metadata": {},
   "source": [
    "We can write the $x, y$ components of the gravitational acceleration as\n",
    "\n",
    "$$a_x = -\\frac{Gm_\\textrm{sun} }{x^2+y^2}\\cos \\phi = - \\frac{Gm_\\textrm{sun} x }{(x^2+y^2)^{3/2}}$$\n",
    "\n",
    "\n",
    "$$a_y = -\\frac{Gm_\\textrm{sun} }{x^2+y^2}\\sin \\phi = - \\frac{Gm_\\textrm{sun} y }{(x^2+y^2)^{3/2}}$$\n",
    "\n",
    "\n",
    "🦉Modify your code to correctly incorporate gravity."
   ]
  },
  {
   "cell_type": "markdown",
   "metadata": {},
   "source": [
    "Copy over your previous work for an integrator.  Assuming the sun is at (0,0) modify your Modify your force function to implement the gravitational force.  Use the parameters in your force function. Also modify your `Orbit` function to run for a time `params[\"T\"]` instead of when it hits the ground. In my code, I also put in a `param['CrashRadius']` that terminated my code in addition to `param[\"T\"]`.  Btw, if you use the \"tab\" button it will tell you what's in your SolarSystemParameters dictionary.  There will be nothing to run here just the functions (you will make plots below)"
   ]
  },
  {
   "cell_type": "markdown",
   "metadata": {},
   "source": [
    "<div><img src=\"https://clark.physics.illinois.edu/246img/AnsStart.svg\" width=200 align=left alt=\"Answer (start)\"></img><br></div>"
   ]
  },
  {
   "cell_type": "code",
   "execution_count": 1,
   "metadata": {},
   "outputs": [],
   "source": [
    "### ANSWER HERE"
   ]
  },
  {
   "cell_type": "markdown",
   "metadata": {},
   "source": [
    "<div><img src=\"https://clark.physics.illinois.edu/246img/AnsEnd.svg\" width=200 align=left alt=\"Answer (end)\"></img><br></div>"
   ]
  },
  {
   "cell_type": "markdown",
   "metadata": {},
   "source": [
    "### b.  Earth Orbiting the Sun"
   ]
  },
  {
   "cell_type": "markdown",
   "metadata": {},
   "source": [
    "Write some code to set up the parameters of the Earth orbiting the sun and then plot it.  Use a dt of 3600 seconds.  This will involve calling your functions from above. You will want to build a dictionary of `params`  which involve things like your initial positions (use Earth's orbital radius), your initial velocity, the time step `dt`, etc.  You should be able to plot it as `plt.plot(positions[:,0],positions[:,1])`\n",
    "`\n",
    "<!--\n",
    "To draw the Earth, I recommend something like:\n",
    "```python\n",
    "earth_radius = SolarSystemParameters[\"EarthRadius\"] # m\n",
    "# create a (blank) figure so we can set some of its attributes. \n",
    "fig = plt.figure()\n",
    "ax = fig.gca()\n",
    "# set labels and title; force square aspect ratio. \n",
    "ax.set_xlabel(\"orbit x, km\")\n",
    "ax.set_ylabel(\"orbit y, km\")\n",
    "ax.set_title(\"GPS satellite trial orbit\") \n",
    "ax.set_aspect(\"equal\")\n",
    "# plot stuff, \n",
    "#plt.plot(xarray, yarray)\n",
    "# force the axes to be of equal scales... \n",
    "rmax = np.max( (xarray**2+yarray**2)**0.5)\n",
    "pltmax = 1.05 * rmax\n",
    "plt.axis([-pltmax, pltmax, -pltmax, pltmax])\n",
    "# now draw the earth\n",
    "earth_disk = plt.Circle((0, 0), earth_radius , color = \"#99FF99\")\n",
    "fig.gca().add_artist(earth_disk)\n",
    "```\n",
    "-->"
   ]
  },
  {
   "cell_type": "markdown",
   "metadata": {},
   "source": [
    "<div><img src=\"https://clark.physics.illinois.edu/246img/AnsStart.svg\" width=200 align=left alt=\"Answer (start)\"></img><br></div>"
   ]
  },
  {
   "cell_type": "code",
   "execution_count": 2,
   "metadata": {},
   "outputs": [],
   "source": [
    "### ANSWER HERE"
   ]
  },
  {
   "cell_type": "markdown",
   "metadata": {},
   "source": [
    "<div><img src=\"https://clark.physics.illinois.edu/246img/AnsEnd.svg\" width=200 align=left alt=\"Answer (end)\"></img><br></div>"
   ]
  },
  {
   "cell_type": "markdown",
   "metadata": {},
   "source": [
    "### c. Animation"
   ]
  },
  {
   "cell_type": "markdown",
   "metadata": {},
   "source": [
    "Run the code below to plot an animation of your orbit.  Your coordinates have to be in positions.\n",
    "```\n",
    "from matplotlib import animation\n",
    "from IPython.display import HTML\n",
    "\n",
    "def animateMe(positions,fullLine=True):\n",
    "    # First set up the figure, the axis, and the plot element we want to animate\n",
    "    fig = plt.figure();\n",
    "    x_min=np.min(positions[:,0])\n",
    "    x_max=np.max(positions[:,0])*1.1\n",
    "    y_min=np.min(positions[:,1])\n",
    "    y_max=np.max(positions[:,1])*1.1\n",
    "\n",
    "    ax = plt.axes(xlim=(x_min, x_max), ylim=(y_min, y_max));\n",
    "    #line, = ax.plot([], [], lw=2);\n",
    "    line, = ax.plot([], [],'bo', ms=10);\n",
    "    ax.set_xlabel(\"x\")\n",
    "    ax.set_ylabel(\"y\")\n",
    "    plt.axis('scaled')\n",
    "    plt.close(fig)\n",
    "    # initialization function: plot the background of each frame\n",
    "    def init():\n",
    "        line.set_data([], [])\n",
    "        return line,\n",
    "\n",
    "    # animation function.  This is called sequentially\n",
    "    def animate(i):\n",
    "        x = positions[:,0]\n",
    "        y = positions[:,1]\n",
    "        if fullLine:\n",
    "            line.set_data(positions[0:i,0], positions[0:i,1])\n",
    "        else:\n",
    "            line.set_data(positions[i,0], positions[i,1])\n",
    "#        line.set_markersize(10)\n",
    "        return line,\n",
    "\n",
    "    # call the animator.  blit=True means only re-draw the parts that have changed.\n",
    "    anim = animation.FuncAnimation(fig, animate, init_func=init,\n",
    "                                   frames=len(positions), interval=20,\n",
    "                                   blit=True,repeat=False);\n",
    "    return anim\n",
    "steps=np.shape(pos)[0]\n",
    "\n",
    "anim=animateMe(pos[::steps//100],True)\n",
    "HTML(anim.to_jshtml())\n",
    "\n",
    "```"
   ]
  },
  {
   "cell_type": "markdown",
   "metadata": {},
   "source": [
    "<div><img src=\"https://clark.physics.illinois.edu/246img/AnsStart.svg\" width=200 align=left alt=\"Answer (start)\"></img><br></div>"
   ]
  },
  {
   "cell_type": "code",
   "execution_count": 3,
   "metadata": {},
   "outputs": [],
   "source": [
    "### ANSWER HERE"
   ]
  },
  {
   "cell_type": "markdown",
   "metadata": {},
   "source": [
    "<div><img src=\"https://clark.physics.illinois.edu/246img/AnsEnd.svg\" width=200 align=left alt=\"Answer (end)\"></img><br></div>"
   ]
  },
  {
   "cell_type": "markdown",
   "metadata": {},
   "source": [
    "### d. Geosyncronous Orbit (Extra Credit: 5 Points)"
   ]
  },
  {
   "cell_type": "markdown",
   "metadata": {},
   "source": [
    "🦉Determine the height a spaceship needs to be above the surface of the Earth to be in circular Geosynchronous orbit. A geosynchronous orbit is one that stays over the same point of Earth for the entire orbit.   To determine this, we need to set up our orbit simulation to run for an Earth/Satellite simulation.\n",
    "\n",
    "\n",
    "A useful thing to know is that the velocity that you need to apply tangeant to a circular orbit to stay in a circular orbit of radius $r$ is \n",
    "$$ v = \\sqrt{\\frac{GM}{r}} $$\n",
    "\n",
    "Then compute the orbit of that trajectory.  To show that it's geosynchronous you want it to produce an orbit that is a circle in one day.  You can make your `m` small (say 100 kg).  I recommend a `dt` of 1 second."
   ]
  },
  {
   "cell_type": "markdown",
   "metadata": {},
   "source": [
    "<div><img src=\"https://clark.physics.illinois.edu/246img/AnsStart.svg\" width=200 align=left alt=\"Answer (start)\"></img><br></div>"
   ]
  },
  {
   "cell_type": "code",
   "execution_count": 4,
   "metadata": {},
   "outputs": [],
   "source": [
    "### ANSWER HERE"
   ]
  },
  {
   "cell_type": "code",
   "execution_count": null,
   "metadata": {},
   "outputs": [],
   "source": []
  },
  {
   "cell_type": "markdown",
   "metadata": {},
   "source": [
    "<div><img src=\"https://clark.physics.illinois.edu/246img/AnsEnd.svg\" width=200 align=left alt=\"Answer (end)\"></img><br></div>"
   ]
  },
  {
   "cell_type": "markdown",
   "metadata": {},
   "source": [
    "---"
   ]
  },
  {
   "cell_type": "markdown",
   "metadata": {
    "collapsed": true
   },
   "source": [
    "## Exercise 2. Kepler's Laws"
   ]
  },
  {
   "cell_type": "markdown",
   "metadata": {},
   "source": [
    "* **List of collaborators:**\n",
    "\n",
    "* **References you used in developing your code:**"
   ]
  },
  {
   "cell_type": "markdown",
   "metadata": {},
   "source": [
    "Kepler developed three laws about planetary motion (using data from Tycho Brahe on planetary motion).  In this exercise you will explicitly check Kepler's laws.\n",
    "\n",
    "The three laws are (from ([wikipedia](https://en.wikipedia.org/wiki/Kepler%27s_laws_of_planetary_motion)):\n",
    "\n",
    "(1) The orbit of a planet is an ellipse with the Sun at one of the two foci.\n",
    "\n",
    "(2) A line segment joining a planet and the Sun sweeps out equal areas during equal intervals of time.\n",
    "\n",
    "(3) The square of the orbital period of a planet is directly proportional to the cube of the semi-major axis of its orbit."
   ]
  },
  {
   "cell_type": "markdown",
   "metadata": {
    "collapsed": true
   },
   "source": [
    "### a. Law 2"
   ]
  },
  {
   "cell_type": "markdown",
   "metadata": {
    "collapsed": true
   },
   "source": [
    "Kepler's second law tells us that the planet sweeps out the same \"area\" of the ellipse in a fixed amount of time.  \n",
    "🦉Verify this by computing (and plotting) the area swept out in these two regions:\n",
    "\n",
    "* $0.2 T_\\textrm{orbit}<t<0.2T_\\textrm{orbit}+0.1T_\\textrm{orbit}$\n",
    "* $0.6 T_\\textrm{orbit}<t<0.6 T_\\textrm{orbit}+0.1T_\\textrm{orbit}$\n",
    "\n",
    "where $T_\\textrm{orbit}$ is the total time for an orbit.  Use Earth's orbit to do this and a time-step of 1 hour.  \n",
    "\n",
    "To compute the area, I summed a bunch of triangles that make up the points on the orbit.  Toward that end I found it useful to write a `TriangleArea` function. \n",
    "\n",
    "Here is an example of the area sweeped out for 0.1T of an orbit at different times (**but note that this is for a random orbit and not Earth's orbit!**): "
   ]
  },
  {
   "cell_type": "markdown",
   "metadata": {},
   "source": [
    "<div><img src=\"https://clark.physics.illinois.edu/246img/KeplerSecond.png\" width=600  alt=\"Kepler Second Law\"></img><br></div>"
   ]
  },
  {
   "cell_type": "markdown",
   "metadata": {},
   "source": [
    "You should report what your two areas are."
   ]
  },
  {
   "cell_type": "markdown",
   "metadata": {},
   "source": [
    "<div><img src=\"https://clark.physics.illinois.edu/246img/AnsStart.svg\" width=200 align=left alt=\"Answer (start)\"></img><br></div>"
   ]
  },
  {
   "cell_type": "code",
   "execution_count": 5,
   "metadata": {},
   "outputs": [],
   "source": [
    "### ANSWER HERE"
   ]
  },
  {
   "cell_type": "code",
   "execution_count": null,
   "metadata": {},
   "outputs": [],
   "source": []
  },
  {
   "cell_type": "markdown",
   "metadata": {},
   "source": [
    "<div><img src=\"https://clark.physics.illinois.edu/246img/AnsEnd.svg\" width=200 align=left alt=\"Answer (end)\"></img><br></div>"
   ]
  },
  {
   "cell_type": "markdown",
   "metadata": {},
   "source": [
    "### b. Law 1 (Extra Credit: 10 points)"
   ]
  },
  {
   "cell_type": "markdown",
   "metadata": {},
   "source": [
    "The first law tells us that the orbit is an ellipse and the sun is at a foci.  🦉To check this, \n",
    "* Modify the constants in your code to emulate planets (i.e. let `M` be the mass of the sun, $M_\\textrm{sun} = 1.989 \\times 10^{30}$ kg) \n",
    "* Let `dt` be an hour\n",
    "* Emulate some eccentric orbits.  To do this, change the initial velocity by a little bit.  This will give you some eccentric orbits.\n",
    "* Check that the orbit you get is an ellipse with the sun is a foci.\n",
    "\n",
    "The latter is a little subtle.  To check that you have an ellipse, we should verify that the points (`orbit.xs`) satisfy the general equation for an ellipse.  \n",
    "\n",
    "The general equation for an ellipse ([stackexchange](https://math.stackexchange.com/questions/426150/what-is-the-general-equation-of-the-ellipse-that-is-not-in-the-origin-and-rotate)) is \n",
    "\n",
    "$$ \\frac{((x-h)\\cos(A) + (y-k)\\sin(A))^2}{a^2} + \\frac{((x-h)\\sin(A) - (y-k)\\cos(A))^2}{b^2} =1$$\n",
    "\n",
    "where $a$ is the length of the semi-major axis, $b$ is the length of the semi-minor axis, $(h,k)$ is the center of the ellipse and $A$ is the angle of the ellipse.\n",
    "\n",
    "Given a foci, we can compute the points closest and further from the loci, $p_{min}$ and $p_{max}$ which are at distance $r_{min}$ and $r_{max}$.\n",
    "\n",
    "With these we can compute  \n",
    "* $a=\\frac{r_\\textrm{min}+r_\\textrm{max}}{2}$   \n",
    "* $b=\\sqrt{r_\\textrm{min}r_\\textrm{max}}$  \n",
    "* the center $(h,k) = (p_\\textrm{max}+p_\\textrm{min})/2$.  \n",
    "* the semi-major axis $\\vec{a}=(p_\\textrm{max}-p_\\textrm{min})$\n",
    "* the angle $A=\\tan^{-1}[\\vec{a}(1)/\\vec{a}(0)]$\n",
    "\n",
    "I wrote a function `CheckEllipse` that given a set of coordinates (and the foci of the sun at the origin) assumed it was an ellipse and checked if the points obeyed this equation."
   ]
  },
  {
   "cell_type": "markdown",
   "metadata": {},
   "source": [
    "<div><img src=\"https://clark.physics.illinois.edu/246img/AnsStart.svg\" width=200 align=left alt=\"Answer (start)\"></img><br></div>"
   ]
  },
  {
   "cell_type": "code",
   "execution_count": 6,
   "metadata": {},
   "outputs": [],
   "source": [
    "### ANSWER HERE"
   ]
  },
  {
   "cell_type": "markdown",
   "metadata": {},
   "source": [
    "<div><img src=\"https://clark.physics.illinois.edu/246img/AnsEnd.svg\" width=200 align=left alt=\"Answer (end)\"></img><br></div>"
   ]
  },
  {
   "cell_type": "markdown",
   "metadata": {},
   "source": [
    "### c. Law 3: (Extra Credit: 10 points)"
   ]
  },
  {
   "cell_type": "markdown",
   "metadata": {},
   "source": [
    "Kepler's third law tells us that the square of the orbital period of a planet is directly proportional to the cube of the semi-major axis of its orbit.\n",
    "\n",
    "In other words, $T^2 \\propto a^3$."
   ]
  },
  {
   "attachments": {
    "image.png": {
     "image/png": "[encoded data removed]"
    }
   },
   "cell_type": "markdown",
   "metadata": {},
   "source": [
    "*From Wikipedia quoting Kepler on finding the third law:*\n",
    "![image.png](attachment:image.png)"
   ]
  },
  {
   "cell_type": "markdown",
   "metadata": {},
   "source": [
    "🦉Verify Kepler's third law by computing the orbital period $T$ (write a function that finds when your orbit essentially gets back to its starting place) and the semi-major axis (as you did above) for 25 different orbits.  To generate these orbits use random initial starting velocities of the form \n",
    "\n",
    "```python\n",
    "v_circ = np.sqrt(G*M/r0)\n",
    "v0=[v_circ+np.random.uniform(-0.2,0.2)*v_circ,np.random.uniform(-0.2,0.2)*v_circ]\n",
    "```\n",
    "\n",
    "Then graph $a^3$ vs. $T^2$ and show that this makes a line.  🦉Show that the slope of this line is \n",
    "$$\\frac{GM}{4\\pi^2}$$"
   ]
  },
  {
   "cell_type": "markdown",
   "metadata": {},
   "source": [
    "It is helpful to add code to your class that stops your simulation after you return to the starting point. This can be done by either:\n",
    "* checking that the distance from the starting point gets further away->closer->further away\n",
    "* monitoring the $r$ of your planet \n",
    "* by checking how close the $x$ location is to your initial spot  \n",
    "\n",
    "\n",
    "It'll save you valuable running time if you implement this, but it is not necessary."
   ]
  },
  {
   "cell_type": "markdown",
   "metadata": {},
   "source": [
    "<div><img src=\"https://clark.physics.illinois.edu/246img/AnsStart.svg\" width=200 align=left alt=\"Answer (start)\"></img><br></div>"
   ]
  },
  {
   "cell_type": "code",
   "execution_count": 7,
   "metadata": {},
   "outputs": [],
   "source": [
    "### ANSWER HERE"
   ]
  },
  {
   "cell_type": "markdown",
   "metadata": {},
   "source": [
    "<div><img src=\"https://clark.physics.illinois.edu/246img/AnsEnd.svg\" width=200 align=left alt=\"Answer (end)\"></img><br></div>"
   ]
  },
  {
   "cell_type": "markdown",
   "metadata": {},
   "source": [
    "## Background (just information...no work on this problem)"
   ]
  },
  {
   "cell_type": "markdown",
   "metadata": {},
   "source": [
    "**Post-Newtonian gravitational orbits**"
   ]
  },
  {
   "cell_type": "markdown",
   "metadata": {},
   "source": [
    "Trajectories in $1/r^2$ central force fields are conic sections: hyperbolas or parabolas for unbound objects, and ellipses for objects in bound orbits. A special property of an inverse-square force is that bound orbits close on themselves—the orientation in space of the ellipse remains fixed. But if gravity were to deviate from a purely inverse-square force law, bound orbits would not close (unless they were perfectly circular), and could not strictly be described as ellipses.\n",
    "\n",
    "One of the earliest tests of general relativity was its prediction for the rate at which Mercury’s orbit would change its orientation over time. Mercury’s distance from (the center of) the sun varies from 46,001,200 km at perihelion (the point at which Mercury is closest to the sun) to 69,816,900 km at aphelion, so it samples the strength of the sun’s gravitational pull over a significant range of distance.\n",
    "\n",
    "The orbit’s long axis precesses 574.1 seconds of arc per century. [<sup>1</sup>](#fn1). (There are 3,600 seconds of arc in one degree.) Most of this is due to the perturbing effects of the other planets, but there is a measurable contribution of 43 seconds of arc per century from the small differences between the (approximately correct) Newtonian and (extraordinarily accurate) Einsteinian descriptions of gravity. The force law, according to general relativity, isn’t quite an inverse square relation. [<sup>2</sup>](#fn2)\n",
    "\n",
    "The precession rate is small. During the course of one orbit of 87.969 days, the perihelion will shift by $(5.022 \\pm 0.005) \\times 10^{-7}$ radians due to general relativistic effects. This corresponds to a displacement in space of about 23 km for one orbit’s perihelion relative to the previous orbit’s, added to the much larger Newtonian perturbations from the other planets.\n",
    "\n",
    "In weak gravitational fields we can accommodate the effects of general relativity as a slight modification [<sup>3</sup>](#fn3) to the acceleration of a mass $m$ in an almost-elliptical orbit around the sun:\n",
    "\n",
    "\n",
    "$$ \\frac{F(r)}{m} = -\\frac{GM_\\odot}{r^2} + -\\frac{3r_s\\left(v_\\textrm{perihelion}r_\\textrm{perihelion}\\right)^2}{2r^4}$$\n",
    "\n",
    "where $M_\\odot=1.98855 \\times 10^{30}$ kg is the mass of the sun.[<sup>4</sup>](#fn4).  You may recall that the Schwarzschild radius $r_s$ of an object of mass $M$ is $2GM/c^2$, and that the sun's $r_s$ is 2,953.36 meters.  For Mercury $v_\\textrm{perihelion}=58,980$ m/s while $r_\\textrm{perihelion} = 46,001,200$ km.  (Note that the formula requires the perihelion radius to be expressed in meters.)[<sup>5</sup>](#fn5)\n",
    "\n",
    "Just for your information, here is a table of contributions to the Newtonian precession of Mercury’s perihelion from the other planets. The largest come from Venus (because it is so close to Mercury) and Jupiter (because it is so massive). These are taken from the work of the 19th century astronomer Urban LeVerrier.[<sup>6</sup>](#fn6).  I think they’re probably reasonable approximations to the exact values."
   ]
  },
  {
   "cell_type": "markdown",
   "metadata": {},
   "source": [
    "|planet|arc-seconds per century\t| microradians per orbit|\n",
    "|------|------------------------|-----------------------|\n",
    "|Venus |280.6 |3.28|\n",
    "|Earth |83.6 |0.98|\n",
    "|Mars |2.6 |0.03|\n",
    "|asteroids |not calculated <br />(perhaps ~0.13) |0.002|\n",
    "|Jupiter |152.6 |1.78|\n",
    "|Saturn |7.2 |0.08|\n",
    "|Uranus|0.1 |0.001|\n",
    "|Neptune|not calculated <br />(perhaps ~0.04) |0.0005|\n",
    "|Pluto|Pluto was discovered in 1930. <br />(should be negligible)| |\n",
    "|Total|526.7 |6.15|"
   ]
  },
  {
   "cell_type": "markdown",
   "metadata": {},
   "source": [
    "## Exercise 3: Mercury Precession"
   ]
  },
  {
   "cell_type": "markdown",
   "metadata": {},
   "source": [
    "* **List of collaborators:**\n",
    "\n",
    "* **References you used in developing your code:**"
   ]
  },
  {
   "cell_type": "markdown",
   "metadata": {},
   "source": [
    "Our goal in this exercise is to determine how general relativity affects the precision of Mercury.  We know from Kepler's laws that objects orbiting around a central body orbit in an ellipse.  That means the second time around their orbit they come back to the same place that they started.  If you have more then two bodies (like above) or if there are corrections to gravity from general relativity (which there are), then you aren't going to come back exactly to the same place.  Instead the orbit precesses around.  There's a good picture [here](https://aether.lbl.gov/www/classes/p10/gr/PrecessionperihelionMercury.htm).   \n",
    "\n",
    "In this assignment, it will be important to work with all your arrays being ***long doubles***.   You should be able to accomplish this mainly by setting the initial conditions of your array to long double. \n",
    "\n",
    "To measure the precision you want measure the angle between two consecutive perihelions (the closest distance on ellipse of the orbit). The most sensible thing is to start at the perihelion and then measure its closest distance when it comes around again.  This is not too hard to do but a bit tricky to get correct.  Here is a good prescription:\n",
    "* Start at the perihelion. \n",
    "* Perform slightly more then one orbit (say 10% more)\n",
    "* Measure the index in the array for the closest distance you get when you come back around.  To avoid measuring the fact that you are close at your \"starting\" location, I recommend that you look for your closest distance that isn't in the first quarter of the orbit.\n",
    "*  Now, because you are taking discrete time steps, the closest location you find might not actually be the closest location (because maybe it got closer somewhere between the steps you took).  This will matter for this measurement.  To fix this, let's interpolate between around this part of the orbit.  \n",
    "    * Take the three points before and after the position you found in the orbit\n",
    "    * Fit a quadratic curve around this part of the orbit: `line=np.polyfit(x,y,2)`\n",
    "    * Find the closest location of this curve by producing a new array with 100000 points which goes from the three points before and after the position you found `np.linspace`\n",
    "    * Get the angle between the lines (sun,original perihelion) and (sun, new perihelion)\n",
    "    \n",
    "It will probably help you if you write a function perihelion that takes the positions array and generates the angle of precision."
   ]
  },
  {
   "cell_type": "markdown",
   "metadata": {},
   "source": [
    "### a.  Mercury without general relativity"
   ]
  },
  {
   "cell_type": "markdown",
   "metadata": {},
   "source": [
    "For our first step, we will compute the precession when we don't have the relativistic term on.  If our integration was perfect, we should get zero. As we recall from earlier assignments, we know that that there is some time-step errors associated with our integration.  So instead of getting zero, we would expect to get something very close to zero."
   ]
  },
  {
   "cell_type": "markdown",
   "metadata": {},
   "source": [
    "You are going to base your Mercury perihelion code on your orbital code from previous units. Let's start by setting up your code for simulating Mercury's orbit: \n",
    "\n",
    "* $r_\\textrm{min}=4.60012 \\times 10^{10}$ m - i.e. `params[\"initPos\"]=np.array([0.0,4.60012e10])`\n",
    "* $v=5.898 \\times 10^{4}$ m/s\n",
    "* $T=60 \\times 60 \\times 24 \\times 88 \\times 1.1$ sec  (1.1 Mercury Years)\n",
    "* $dt=60$  sec.\n",
    "\n",
    "You need to make sure that all of your parameters are long doubles.  To do this I do \n",
    "```\n",
    "for key in params.keys():\n",
    "  params[key]=np.longdouble(params[key])\n",
    "```\n",
    "\n",
    "Plot the orbit of the eccentric Mercury and  report the closest and furthest distance your simulation gets from the sun. \n",
    "You should find a minimum distance of 46001200000.517811935.\n",
    "\n",
    "Then find the closest distance and nearby 5 points the second time around the orbit *not* where you started.  You should get \n",
    "```\n",
    "x                    y                    r \n",
    "-10087525.09595282 46001199082.443085 46001200188.48122315\n",
    "-6548725.141774705 46001199613.28912 46001200079.42697562\n",
    "-3009925.1554468116 46001199918.30062 46001200016.772504188\n",
    "528874.8456577625 46001199997.47758 46001200000.517809045\n",
    "4067674.8441659217 46001199850.81999 46001200030.66289309\n",
    "7606474.822704569 46001199478.327866 46001200107.20775908\n",
    "```\n",
    "\n",
    "\n",
    "If you're not getting this, then you should check again.  \n",
    "\n",
    "\n",
    "Make a separate plot of just these 5 points. "
   ]
  },
  {
   "cell_type": "markdown",
   "metadata": {},
   "source": [
    "<div><img src=\"https://clark.physics.illinois.edu/246img/AnsStart.svg\" width=200 align=left alt=\"Answer (start)\"></img><br></div>"
   ]
  },
  {
   "cell_type": "code",
   "execution_count": 8,
   "metadata": {},
   "outputs": [],
   "source": [
    "### ANSWER HERE"
   ]
  },
  {
   "cell_type": "markdown",
   "metadata": {},
   "source": [
    "<div><img src=\"https://clark.physics.illinois.edu/246img/AnsEnd.svg\" width=200 align=left alt=\"Answer (start)\"></img><br></div>"
   ]
  },
  {
   "cell_type": "markdown",
   "metadata": {},
   "source": [
    "### b. Interpolating to find the  precession\n",
    "\n",
    "\n",
    "Now we need to take our data of those 6 points above and interpolate between them.  (Use your actual orbital data not the copied numbers above - you need higher precision then is being printed out.)\n",
    "\n",
    "Put the 6 points in an array `x` and `y` respectively.  You may have to do something like  `x=np.float64(pos[closest_loc-3:closest_loc+3,0])` to get it to be low enough precision for the polyfit (next step) to work. \n",
    "\n",
    "Now interpolate between them using `line=np.polyfit(x,y,2)`.\n",
    "\n",
    "Now make a new `xs` array which has  100000 points between x[0] and x[-1].  This will be a very fine grid.  Then make a `ys` array that uses the quadratic fit in `line` and the `xs` array to give you the interpolated values.  \n",
    "\n",
    "Plot both the `x` and `y` array as points as well as the `xs` and `ys` array as lines.  This line should interpolate nicely through your points. \n",
    "\n",
    "Finally, using your new `xs` and `ys` array you should get that the nearest distance is something very close to `46001199999.997996964`.\n",
    "\n",
    "Now you should be able to get the actual coordinate of the closest point (the second time around).  Using this you can get the precession angle.\n",
    "I get that it is -0.017013797776581767923 microradians (but because this is very sensitive to precision, anything less then 0.03 microradians is fine.)\n",
    "\n",
    "We will consider anything less then 0.03 microradians in magnitude essentially zero.  \n",
    "\n"
   ]
  },
  {
   "cell_type": "markdown",
   "metadata": {},
   "source": [
    "<div><img src=\"https://clark.physics.illinois.edu/246img/AnsStart.svg\" width=200 align=left alt=\"Answer (start)\"></img><br></div>"
   ]
  },
  {
   "cell_type": "code",
   "execution_count": null,
   "metadata": {},
   "outputs": [],
   "source": [
    "### ANSWER HERE"
   ]
  },
  {
   "cell_type": "markdown",
   "metadata": {},
   "source": [
    "<div><img src=\"https://clark.physics.illinois.edu/246img/AnsEnd.svg\" width=200 align=left alt=\"Answer (end)\"></img><br></div>"
   ]
  },
  {
   "cell_type": "markdown",
   "metadata": {},
   "source": [
    "### c.  Mercury with general relativity"
   ]
  },
  {
   "cell_type": "markdown",
   "metadata": {},
   "source": [
    "Now turn on the effects of general relativity (by modifying your force) and do the same computation. \n",
    "\n",
    "The post-Newtonian modification to the gravitational acceleration experienced by Mercury adds an extra term after the inverse-square Newtonian term:\n",
    "$$ \\frac{F(r)}{m} = -\\frac{GM_\\odot}{r^2} - \\frac{3r_s\\left(v_\\textrm{perihelion}r_\\textrm{perihelion}\\right)^2}{2r^4}$$\n",
    "\n",
    "The Schwarzschild radius of the sun is $r_S = 2,953.36$ meters. Mercury’s speed at perihelion is\n",
    "$v_\\textrm{perihelion} = 58,980$ m/s while its $r_\\textrm{perihelion} = 4.60012e10$ m.\n",
    "\n",
    "🦉Please add the post-Newtonian term to the acceleration of gravity and repeat parts (a) and (b)\n",
    "\n",
    "I now get (in 11 seconds)\n",
    "```\n",
    "The minimum location before interpolation is  46001200000.654238053\n",
    "The minimum location after interpolation is  46001199999.99801791\n",
    "The maximum location is  46923484445.272278626\n",
    "The precision angle I get is  0.4887683792163817\n",
    "```\n",
    "\n",
    "Note that the actual value is 0.5022 microradians per orbit. That’s pretty good! "
   ]
  },
  {
   "cell_type": "markdown",
   "metadata": {},
   "source": [
    "**HINT:** For this assignment you need to get points around the closest distance (the second time around the orbit *not* where you start.  You should get some of the close points as \n",
    "```\n",
    "x                   y                   r\n",
    "-9998967.016889445 46001199099.338745 46001200186.04237594\n",
    "-6460167.061694921 46001199624.2306 46001200077.84657632\n",
    "-2921367.0747853755 46001199923.28789 46001200016.05052716\n",
    "617432.9264660933 46001199996.51061 46001200000.654237192\n",
    "4156232.9246863867 46001199843.898766 46001200031.65769507\n",
    "7695032.902502406 46001199465.452354 46001200109.060909245\n",
    "```\n",
    "\n",
    "If you're not getting this, then you should check again.  Then you need to interpolate through this data (`    line=np.polyfit(x,y,2)`).  Finally, you should get that the nearest distance is (after interpolation) something very close to `46001199999.99801791`."
   ]
  },
  {
   "cell_type": "markdown",
   "metadata": {},
   "source": [
    "<div><img src=\"https://clark.physics.illinois.edu/246img/AnsStart.svg\" width=200 align=left alt=\"Answer (start)\"></img><br></div>"
   ]
  },
  {
   "cell_type": "code",
   "execution_count": 9,
   "metadata": {},
   "outputs": [],
   "source": [
    "### ANSWER HERE"
   ]
  },
  {
   "cell_type": "markdown",
   "metadata": {},
   "source": [
    "<div><img src=\"https://clark.physics.illinois.edu/246img/AnsEnd.svg\" width=200 align=left alt=\"Answer (start)\"></img><br></div>"
   ]
  },
  {
   "cell_type": "markdown",
   "metadata": {},
   "source": [
    "## Exercise 4. Transfer Orbits (Extra Credit: 10 points)"
   ]
  },
  {
   "cell_type": "markdown",
   "metadata": {},
   "source": [
    "* **List of collaborators:**\n",
    "\n",
    "* **References you used in developing your code:**"
   ]
  },
  {
   "cell_type": "markdown",
   "metadata": {},
   "source": [
    "If you are trying to get spacecraft around the solar system, an important thing to be able to do is to get a spacecraft from one point to another point in a time $T$.  To do this, the spacecraft will need to choose a particular velocity (speed and direction) to be heading in. Write a function ```Transfer(pos1,pos2,T)``` which determines the velocity to get the spacecraft from pos1 to pos2 in time T."
   ]
  },
  {
   "cell_type": "markdown",
   "metadata": {},
   "source": [
    "# Exercise 5. Black Holes (Extra Credit: 20 points)"
   ]
  },
  {
   "cell_type": "markdown",
   "metadata": {},
   "source": [
    "Here we have simulated a orbit around the Sun.  We got away with using a perturbative correction to get the correct equations of motion for GR because the gravity of the Sun was not that strong.  Now we would like to orbit a black hole.  Go ahead and simulate the equations of motion around a black hole. "
   ]
  },
  {
   "cell_type": "markdown",
   "metadata": {},
   "source": [
    "---"
   ]
  },
  {
   "cell_type": "markdown",
   "metadata": {},
   "source": [
    "© Copyright 2020\n",
    "\n",
    "* Ex 1: George Gollin (original); Bryan Clark (modifications)\n",
    "* Ex 2: Bryan Clark (original)\n",
    "* Ex 3: George Gollin (original); Bryan Clark (modifications)"
   ]
  },
  {
   "cell_type": "code",
   "execution_count": null,
   "metadata": {},
   "outputs": [],
   "source": []
  }
 ],
 "metadata": {
  "jupytext": {
   "formats": "ipynb,md:myst"
  },
  "kernelspec": {
   "display_name": "Python 3",
   "language": "python",
   "name": "python3"
  },
  "language_info": {
   "codemirror_mode": {
    "name": "ipython",
    "version": 3
   },
   "file_extension": ".py",
   "mimetype": "text/x-python",
   "name": "python",
   "nbconvert_exporter": "python",
   "pygments_lexer": "ipython3",
   "version": "3.8.3"
  },
  "varInspector": {
   "cols": {
    "lenName": 16,
    "lenType": 16,
    "lenVar": 40
   },
   "kernels_config": {
    "python": {
     "delete_cmd_postfix": "",
     "delete_cmd_prefix": "del ",
     "library": "var_list.py",
     "varRefreshCmd": "print(var_dic_list())"
    },
    "r": {
     "delete_cmd_postfix": ") ",
     "delete_cmd_prefix": "rm(",
     "library": "var_list.r",
     "varRefreshCmd": "cat(var_dic_list()) "
    }
   },
   "types_to_exclude": [
    "module",
    "function",
    "builtin_function_or_method",
    "instance",
    "_Feature"
   ],
   "window_display": false
  }
 },
 "nbformat": 4,
 "nbformat_minor": 2
}
