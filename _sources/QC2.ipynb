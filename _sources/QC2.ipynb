{
  "cells": [
    {
      "cell_type": "markdown",
      "id": "ac843488",
      "metadata": {
        "id": "ac843488"
      },
      "source": [
        "# Building a Physical Qubit"
      ]
    },
    {
      "cell_type": "markdown",
      "id": "731e81a8",
      "metadata": {
        "id": "731e81a8"
      },
      "source": [
        "* Author:\n",
        "\n",
        "* Date:\n",
        "\n",
        "* Time spent on this assignment:"
      ]
    },
    {
      "cell_type": "code",
      "execution_count": null,
      "id": "e4be9b5a",
      "metadata": {
        "colab": {
          "base_uri": "https://localhost:8080/"
        },
        "id": "e4be9b5a",
        "outputId": "bdfe2bcc-99e8-4a1e-e17e-9482bfd81124"
      },
      "outputs": [
        {
          "output_type": "stream",
          "name": "stdout",
          "text": [
            "Collecting scqubits\n",
            "  Downloading scqubits-3.3.0-py3-none-any.whl (6.5 MB)\n",
            "\u001b[2K     \u001b[90m━━━━━━━━━━━━━━━━━━━━━━━━━━━━━━━━━━━━━━━━\u001b[0m \u001b[32m6.5/6.5 MB\u001b[0m \u001b[31m4.9 MB/s\u001b[0m eta \u001b[36m0:00:00\u001b[0m\n",
            "\u001b[?25hRequirement already satisfied: cycler in /usr/local/lib/python3.10/dist-packages (from scqubits) (0.12.1)\n",
            "Collecting cython<3.0.0,>=0.29.20 (from scqubits)\n",
            "  Downloading Cython-0.29.36-cp310-cp310-manylinux_2_17_x86_64.manylinux2014_x86_64.manylinux_2_24_x86_64.whl (1.9 MB)\n",
            "\u001b[2K     \u001b[90m━━━━━━━━━━━━━━━━━━━━━━━━━━━━━━━━━━━━━━━━\u001b[0m \u001b[32m1.9/1.9 MB\u001b[0m \u001b[31m43.7 MB/s\u001b[0m eta \u001b[36m0:00:00\u001b[0m\n",
            "\u001b[?25hRequirement already satisfied: matplotlib>=3.5 in /usr/local/lib/python3.10/dist-packages (from scqubits) (3.7.1)\n",
            "Requirement already satisfied: numpy>=1.14.2 in /usr/local/lib/python3.10/dist-packages (from scqubits) (1.23.5)\n",
            "Requirement already satisfied: pyyaml in /usr/local/lib/python3.10/dist-packages (from scqubits) (6.0.1)\n",
            "Collecting qutip>=4.3.1 (from scqubits)\n",
            "  Downloading qutip-4.7.3-cp310-cp310-manylinux_2_17_x86_64.manylinux2014_x86_64.whl (16.3 MB)\n",
            "\u001b[2K     \u001b[90m━━━━━━━━━━━━━━━━━━━━━━━━━━━━━━━━━━━━━━━━\u001b[0m \u001b[32m16.3/16.3 MB\u001b[0m \u001b[31m35.3 MB/s\u001b[0m eta \u001b[36m0:00:00\u001b[0m\n",
            "\u001b[?25hRequirement already satisfied: scipy>=1.1.0 in /usr/local/lib/python3.10/dist-packages (from scqubits) (1.11.3)\n",
            "Requirement already satisfied: sympy in /usr/local/lib/python3.10/dist-packages (from scqubits) (1.12)\n",
            "Requirement already satisfied: tqdm in /usr/local/lib/python3.10/dist-packages (from scqubits) (4.66.1)\n",
            "Requirement already satisfied: typing-extensions in /usr/local/lib/python3.10/dist-packages (from scqubits) (4.5.0)\n",
            "Requirement already satisfied: contourpy>=1.0.1 in /usr/local/lib/python3.10/dist-packages (from matplotlib>=3.5->scqubits) (1.2.0)\n",
            "Requirement already satisfied: fonttools>=4.22.0 in /usr/local/lib/python3.10/dist-packages (from matplotlib>=3.5->scqubits) (4.44.0)\n",
            "Requirement already satisfied: kiwisolver>=1.0.1 in /usr/local/lib/python3.10/dist-packages (from matplotlib>=3.5->scqubits) (1.4.5)\n",
            "Requirement already satisfied: packaging>=20.0 in /usr/local/lib/python3.10/dist-packages (from matplotlib>=3.5->scqubits) (23.2)\n",
            "Requirement already satisfied: pillow>=6.2.0 in /usr/local/lib/python3.10/dist-packages (from matplotlib>=3.5->scqubits) (9.4.0)\n",
            "Requirement already satisfied: pyparsing>=2.3.1 in /usr/local/lib/python3.10/dist-packages (from matplotlib>=3.5->scqubits) (3.1.1)\n",
            "Requirement already satisfied: python-dateutil>=2.7 in /usr/local/lib/python3.10/dist-packages (from matplotlib>=3.5->scqubits) (2.8.2)\n",
            "Requirement already satisfied: mpmath>=0.19 in /usr/local/lib/python3.10/dist-packages (from sympy->scqubits) (1.3.0)\n",
            "Requirement already satisfied: six>=1.5 in /usr/local/lib/python3.10/dist-packages (from python-dateutil>=2.7->matplotlib>=3.5->scqubits) (1.16.0)\n",
            "Installing collected packages: cython, qutip, scqubits\n",
            "  Attempting uninstall: cython\n",
            "    Found existing installation: Cython 3.0.5\n",
            "    Uninstalling Cython-3.0.5:\n",
            "      Successfully uninstalled Cython-3.0.5\n",
            "Successfully installed cython-0.29.36 qutip-4.7.3 scqubits-3.3.0\n",
            "Collecting qiskit\n",
            "  Downloading qiskit-0.45.0-py3-none-any.whl (9.6 kB)\n",
            "Collecting qiskit-terra==0.45.0 (from qiskit)\n",
            "  Downloading qiskit_terra-0.45.0-cp38-abi3-manylinux_2_17_x86_64.manylinux2014_x86_64.whl (6.3 MB)\n",
            "\u001b[2K     \u001b[90m━━━━━━━━━━━━━━━━━━━━━━━━━━━━━━━━━━━━━━━━\u001b[0m \u001b[32m6.3/6.3 MB\u001b[0m \u001b[31m11.8 MB/s\u001b[0m eta \u001b[36m0:00:00\u001b[0m\n",
            "\u001b[?25hCollecting rustworkx>=0.13.0 (from qiskit-terra==0.45.0->qiskit)\n",
            "  Downloading rustworkx-0.13.2-cp310-cp310-manylinux_2_17_x86_64.manylinux2014_x86_64.whl (2.0 MB)\n",
            "\u001b[2K     \u001b[90m━━━━━━━━━━━━━━━━━━━━━━━━━━━━━━━━━━━━━━━━\u001b[0m \u001b[32m2.0/2.0 MB\u001b[0m \u001b[31m25.2 MB/s\u001b[0m eta \u001b[36m0:00:00\u001b[0m\n",
            "\u001b[?25hRequirement already satisfied: numpy<2,>=1.17 in /usr/local/lib/python3.10/dist-packages (from qiskit-terra==0.45.0->qiskit) (1.23.5)\n",
            "Collecting ply>=3.10 (from qiskit-terra==0.45.0->qiskit)\n",
            "  Downloading ply-3.11-py2.py3-none-any.whl (49 kB)\n",
            "\u001b[2K     \u001b[90m━━━━━━━━━━━━━━━━━━━━━━━━━━━━━━━━━━━━━━━━\u001b[0m \u001b[32m49.6/49.6 kB\u001b[0m \u001b[31m6.7 MB/s\u001b[0m eta \u001b[36m0:00:00\u001b[0m\n",
            "\u001b[?25hRequirement already satisfied: psutil>=5 in /usr/local/lib/python3.10/dist-packages (from qiskit-terra==0.45.0->qiskit) (5.9.5)\n",
            "Requirement already satisfied: scipy>=1.5 in /usr/local/lib/python3.10/dist-packages (from qiskit-terra==0.45.0->qiskit) (1.11.3)\n",
            "Requirement already satisfied: sympy>=1.3 in /usr/local/lib/python3.10/dist-packages (from qiskit-terra==0.45.0->qiskit) (1.12)\n",
            "Collecting dill>=0.3 (from qiskit-terra==0.45.0->qiskit)\n",
            "  Downloading dill-0.3.7-py3-none-any.whl (115 kB)\n",
            "\u001b[2K     \u001b[90m━━━━━━━━━━━━━━━━━━━━━━━━━━━━━━━━━━━━━━━━\u001b[0m \u001b[32m115.3/115.3 kB\u001b[0m \u001b[31m14.3 MB/s\u001b[0m eta \u001b[36m0:00:00\u001b[0m\n",
            "\u001b[?25hRequirement already satisfied: python-dateutil>=2.8.0 in /usr/local/lib/python3.10/dist-packages (from qiskit-terra==0.45.0->qiskit) (2.8.2)\n",
            "Collecting stevedore>=3.0.0 (from qiskit-terra==0.45.0->qiskit)\n",
            "  Downloading stevedore-5.1.0-py3-none-any.whl (49 kB)\n",
            "\u001b[2K     \u001b[90m━━━━━━━━━━━━━━━━━━━━━━━━━━━━━━━━━━━━━━━━\u001b[0m \u001b[32m49.6/49.6 kB\u001b[0m \u001b[31m6.8 MB/s\u001b[0m eta \u001b[36m0:00:00\u001b[0m\n",
            "\u001b[?25hCollecting symengine<0.10,>=0.9 (from qiskit-terra==0.45.0->qiskit)\n",
            "  Downloading symengine-0.9.2-cp310-cp310-manylinux2010_x86_64.whl (37.5 MB)\n",
            "\u001b[2K     \u001b[90m━━━━━━━━━━━━━━━━━━━━━━━━━━━━━━━━━━━━━━━━\u001b[0m \u001b[32m37.5/37.5 MB\u001b[0m \u001b[31m14.0 MB/s\u001b[0m eta \u001b[36m0:00:00\u001b[0m\n",
            "\u001b[?25hRequirement already satisfied: typing-extensions in /usr/local/lib/python3.10/dist-packages (from qiskit-terra==0.45.0->qiskit) (4.5.0)\n",
            "Requirement already satisfied: six>=1.5 in /usr/local/lib/python3.10/dist-packages (from python-dateutil>=2.8.0->qiskit-terra==0.45.0->qiskit) (1.16.0)\n",
            "Collecting pbr!=2.1.0,>=2.0.0 (from stevedore>=3.0.0->qiskit-terra==0.45.0->qiskit)\n",
            "  Downloading pbr-6.0.0-py2.py3-none-any.whl (107 kB)\n",
            "\u001b[2K     \u001b[90m━━━━━━━━━━━━━━━━━━━━━━━━━━━━━━━━━━━━━━━━\u001b[0m \u001b[32m107.5/107.5 kB\u001b[0m \u001b[31m15.4 MB/s\u001b[0m eta \u001b[36m0:00:00\u001b[0m\n",
            "\u001b[?25hRequirement already satisfied: mpmath>=0.19 in /usr/local/lib/python3.10/dist-packages (from sympy>=1.3->qiskit-terra==0.45.0->qiskit) (1.3.0)\n",
            "Installing collected packages: ply, symengine, rustworkx, pbr, dill, stevedore, qiskit-terra, qiskit\n",
            "Successfully installed dill-0.3.7 pbr-6.0.0 ply-3.11 qiskit-0.45.0 qiskit-terra-0.45.0 rustworkx-0.13.2 stevedore-5.1.0 symengine-0.9.2\n",
            "Requirement already satisfied: qiskit[visualization] in /usr/local/lib/python3.10/dist-packages (0.45.0)\n",
            "Requirement already satisfied: qiskit-terra==0.45.0 in /usr/local/lib/python3.10/dist-packages (from qiskit[visualization]) (0.45.0)\n",
            "Requirement already satisfied: rustworkx>=0.13.0 in /usr/local/lib/python3.10/dist-packages (from qiskit-terra==0.45.0->qiskit[visualization]) (0.13.2)\n",
            "Requirement already satisfied: numpy<2,>=1.17 in /usr/local/lib/python3.10/dist-packages (from qiskit-terra==0.45.0->qiskit[visualization]) (1.23.5)\n",
            "Requirement already satisfied: ply>=3.10 in /usr/local/lib/python3.10/dist-packages (from qiskit-terra==0.45.0->qiskit[visualization]) (3.11)\n",
            "Requirement already satisfied: psutil>=5 in /usr/local/lib/python3.10/dist-packages (from qiskit-terra==0.45.0->qiskit[visualization]) (5.9.5)\n",
            "Requirement already satisfied: scipy>=1.5 in /usr/local/lib/python3.10/dist-packages (from qiskit-terra==0.45.0->qiskit[visualization]) (1.11.3)\n",
            "Requirement already satisfied: sympy>=1.3 in /usr/local/lib/python3.10/dist-packages (from qiskit-terra==0.45.0->qiskit[visualization]) (1.12)\n",
            "Requirement already satisfied: dill>=0.3 in /usr/local/lib/python3.10/dist-packages (from qiskit-terra==0.45.0->qiskit[visualization]) (0.3.7)\n",
            "Requirement already satisfied: python-dateutil>=2.8.0 in /usr/local/lib/python3.10/dist-packages (from qiskit-terra==0.45.0->qiskit[visualization]) (2.8.2)\n",
            "Requirement already satisfied: stevedore>=3.0.0 in /usr/local/lib/python3.10/dist-packages (from qiskit-terra==0.45.0->qiskit[visualization]) (5.1.0)\n",
            "Requirement already satisfied: symengine<0.10,>=0.9 in /usr/local/lib/python3.10/dist-packages (from qiskit-terra==0.45.0->qiskit[visualization]) (0.9.2)\n",
            "Requirement already satisfied: typing-extensions in /usr/local/lib/python3.10/dist-packages (from qiskit-terra==0.45.0->qiskit[visualization]) (4.5.0)\n",
            "Requirement already satisfied: matplotlib>=3.3 in /usr/local/lib/python3.10/dist-packages (from qiskit-terra==0.45.0->qiskit[visualization]) (3.7.1)\n",
            "Requirement already satisfied: ipywidgets>=7.3.0 in /usr/local/lib/python3.10/dist-packages (from qiskit-terra==0.45.0->qiskit[visualization]) (7.7.1)\n",
            "Requirement already satisfied: pydot in /usr/local/lib/python3.10/dist-packages (from qiskit-terra==0.45.0->qiskit[visualization]) (1.4.2)\n",
            "Requirement already satisfied: pillow>=4.2.1 in /usr/local/lib/python3.10/dist-packages (from qiskit-terra==0.45.0->qiskit[visualization]) (9.4.0)\n",
            "Collecting pylatexenc>=1.4 (from qiskit-terra==0.45.0->qiskit[visualization])\n",
            "  Downloading pylatexenc-2.10.tar.gz (162 kB)\n",
            "\u001b[2K     \u001b[90m━━━━━━━━━━━━━━━━━━━━━━━━━━━━━━━━━━━━━━━━\u001b[0m \u001b[32m162.6/162.6 kB\u001b[0m \u001b[31m3.3 MB/s\u001b[0m eta \u001b[36m0:00:00\u001b[0m\n",
            "\u001b[?25h  Preparing metadata (setup.py) ... \u001b[?25l\u001b[?25hdone\n",
            "Requirement already satisfied: seaborn>=0.9.0 in /usr/local/lib/python3.10/dist-packages (from qiskit-terra==0.45.0->qiskit[visualization]) (0.12.2)\n",
            "Requirement already satisfied: pygments>=2.4 in /usr/local/lib/python3.10/dist-packages (from qiskit-terra==0.45.0->qiskit[visualization]) (2.16.1)\n",
            "Requirement already satisfied: ipykernel>=4.5.1 in /usr/local/lib/python3.10/dist-packages (from ipywidgets>=7.3.0->qiskit-terra==0.45.0->qiskit[visualization]) (5.5.6)\n",
            "Requirement already satisfied: ipython-genutils~=0.2.0 in /usr/local/lib/python3.10/dist-packages (from ipywidgets>=7.3.0->qiskit-terra==0.45.0->qiskit[visualization]) (0.2.0)\n",
            "Requirement already satisfied: traitlets>=4.3.1 in /usr/local/lib/python3.10/dist-packages (from ipywidgets>=7.3.0->qiskit-terra==0.45.0->qiskit[visualization]) (5.7.1)\n",
            "Requirement already satisfied: widgetsnbextension~=3.6.0 in /usr/local/lib/python3.10/dist-packages (from ipywidgets>=7.3.0->qiskit-terra==0.45.0->qiskit[visualization]) (3.6.6)\n",
            "Requirement already satisfied: ipython>=4.0.0 in /usr/local/lib/python3.10/dist-packages (from ipywidgets>=7.3.0->qiskit-terra==0.45.0->qiskit[visualization]) (7.34.0)\n",
            "Requirement already satisfied: jupyterlab-widgets>=1.0.0 in /usr/local/lib/python3.10/dist-packages (from ipywidgets>=7.3.0->qiskit-terra==0.45.0->qiskit[visualization]) (3.0.9)\n",
            "Requirement already satisfied: contourpy>=1.0.1 in /usr/local/lib/python3.10/dist-packages (from matplotlib>=3.3->qiskit-terra==0.45.0->qiskit[visualization]) (1.2.0)\n",
            "Requirement already satisfied: cycler>=0.10 in /usr/local/lib/python3.10/dist-packages (from matplotlib>=3.3->qiskit-terra==0.45.0->qiskit[visualization]) (0.12.1)\n",
            "Requirement already satisfied: fonttools>=4.22.0 in /usr/local/lib/python3.10/dist-packages (from matplotlib>=3.3->qiskit-terra==0.45.0->qiskit[visualization]) (4.44.0)\n",
            "Requirement already satisfied: kiwisolver>=1.0.1 in /usr/local/lib/python3.10/dist-packages (from matplotlib>=3.3->qiskit-terra==0.45.0->qiskit[visualization]) (1.4.5)\n",
            "Requirement already satisfied: packaging>=20.0 in /usr/local/lib/python3.10/dist-packages (from matplotlib>=3.3->qiskit-terra==0.45.0->qiskit[visualization]) (23.2)\n",
            "Requirement already satisfied: pyparsing>=2.3.1 in /usr/local/lib/python3.10/dist-packages (from matplotlib>=3.3->qiskit-terra==0.45.0->qiskit[visualization]) (3.1.1)\n",
            "Requirement already satisfied: six>=1.5 in /usr/local/lib/python3.10/dist-packages (from python-dateutil>=2.8.0->qiskit-terra==0.45.0->qiskit[visualization]) (1.16.0)\n",
            "Requirement already satisfied: pandas>=0.25 in /usr/local/lib/python3.10/dist-packages (from seaborn>=0.9.0->qiskit-terra==0.45.0->qiskit[visualization]) (1.5.3)\n",
            "Requirement already satisfied: pbr!=2.1.0,>=2.0.0 in /usr/local/lib/python3.10/dist-packages (from stevedore>=3.0.0->qiskit-terra==0.45.0->qiskit[visualization]) (6.0.0)\n",
            "Requirement already satisfied: mpmath>=0.19 in /usr/local/lib/python3.10/dist-packages (from sympy>=1.3->qiskit-terra==0.45.0->qiskit[visualization]) (1.3.0)\n",
            "Requirement already satisfied: jupyter-client in /usr/local/lib/python3.10/dist-packages (from ipykernel>=4.5.1->ipywidgets>=7.3.0->qiskit-terra==0.45.0->qiskit[visualization]) (6.1.12)\n",
            "Requirement already satisfied: tornado>=4.2 in /usr/local/lib/python3.10/dist-packages (from ipykernel>=4.5.1->ipywidgets>=7.3.0->qiskit-terra==0.45.0->qiskit[visualization]) (6.3.2)\n",
            "Requirement already satisfied: setuptools>=18.5 in /usr/local/lib/python3.10/dist-packages (from ipython>=4.0.0->ipywidgets>=7.3.0->qiskit-terra==0.45.0->qiskit[visualization]) (67.7.2)\n",
            "Collecting jedi>=0.16 (from ipython>=4.0.0->ipywidgets>=7.3.0->qiskit-terra==0.45.0->qiskit[visualization])\n",
            "  Downloading jedi-0.19.1-py2.py3-none-any.whl (1.6 MB)\n",
            "\u001b[2K     \u001b[90m━━━━━━━━━━━━━━━━━━━━━━━━━━━━━━━━━━━━━━━━\u001b[0m \u001b[32m1.6/1.6 MB\u001b[0m \u001b[31m29.4 MB/s\u001b[0m eta \u001b[36m0:00:00\u001b[0m\n",
            "\u001b[?25hRequirement already satisfied: decorator in /usr/local/lib/python3.10/dist-packages (from ipython>=4.0.0->ipywidgets>=7.3.0->qiskit-terra==0.45.0->qiskit[visualization]) (4.4.2)\n",
            "Requirement already satisfied: pickleshare in /usr/local/lib/python3.10/dist-packages (from ipython>=4.0.0->ipywidgets>=7.3.0->qiskit-terra==0.45.0->qiskit[visualization]) (0.7.5)\n",
            "Requirement already satisfied: prompt-toolkit!=3.0.0,!=3.0.1,<3.1.0,>=2.0.0 in /usr/local/lib/python3.10/dist-packages (from ipython>=4.0.0->ipywidgets>=7.3.0->qiskit-terra==0.45.0->qiskit[visualization]) (3.0.39)\n",
            "Requirement already satisfied: backcall in /usr/local/lib/python3.10/dist-packages (from ipython>=4.0.0->ipywidgets>=7.3.0->qiskit-terra==0.45.0->qiskit[visualization]) (0.2.0)\n",
            "Requirement already satisfied: matplotlib-inline in /usr/local/lib/python3.10/dist-packages (from ipython>=4.0.0->ipywidgets>=7.3.0->qiskit-terra==0.45.0->qiskit[visualization]) (0.1.6)\n",
            "Requirement already satisfied: pexpect>4.3 in /usr/local/lib/python3.10/dist-packages (from ipython>=4.0.0->ipywidgets>=7.3.0->qiskit-terra==0.45.0->qiskit[visualization]) (4.8.0)\n",
            "Requirement already satisfied: pytz>=2020.1 in /usr/local/lib/python3.10/dist-packages (from pandas>=0.25->seaborn>=0.9.0->qiskit-terra==0.45.0->qiskit[visualization]) (2023.3.post1)\n",
            "Requirement already satisfied: notebook>=4.4.1 in /usr/local/lib/python3.10/dist-packages (from widgetsnbextension~=3.6.0->ipywidgets>=7.3.0->qiskit-terra==0.45.0->qiskit[visualization]) (6.5.5)\n",
            "Requirement already satisfied: parso<0.9.0,>=0.8.3 in /usr/local/lib/python3.10/dist-packages (from jedi>=0.16->ipython>=4.0.0->ipywidgets>=7.3.0->qiskit-terra==0.45.0->qiskit[visualization]) (0.8.3)\n",
            "Requirement already satisfied: jinja2 in /usr/local/lib/python3.10/dist-packages (from notebook>=4.4.1->widgetsnbextension~=3.6.0->ipywidgets>=7.3.0->qiskit-terra==0.45.0->qiskit[visualization]) (3.1.2)\n",
            "Requirement already satisfied: pyzmq<25,>=17 in /usr/local/lib/python3.10/dist-packages (from notebook>=4.4.1->widgetsnbextension~=3.6.0->ipywidgets>=7.3.0->qiskit-terra==0.45.0->qiskit[visualization]) (23.2.1)\n",
            "Requirement already satisfied: argon2-cffi in /usr/local/lib/python3.10/dist-packages (from notebook>=4.4.1->widgetsnbextension~=3.6.0->ipywidgets>=7.3.0->qiskit-terra==0.45.0->qiskit[visualization]) (23.1.0)\n",
            "Requirement already satisfied: jupyter-core>=4.6.1 in /usr/local/lib/python3.10/dist-packages (from notebook>=4.4.1->widgetsnbextension~=3.6.0->ipywidgets>=7.3.0->qiskit-terra==0.45.0->qiskit[visualization]) (5.5.0)\n",
            "Requirement already satisfied: nbformat in /usr/local/lib/python3.10/dist-packages (from notebook>=4.4.1->widgetsnbextension~=3.6.0->ipywidgets>=7.3.0->qiskit-terra==0.45.0->qiskit[visualization]) (5.9.2)\n",
            "Requirement already satisfied: nbconvert>=5 in /usr/local/lib/python3.10/dist-packages (from notebook>=4.4.1->widgetsnbextension~=3.6.0->ipywidgets>=7.3.0->qiskit-terra==0.45.0->qiskit[visualization]) (6.5.4)\n",
            "Requirement already satisfied: nest-asyncio>=1.5 in /usr/local/lib/python3.10/dist-packages (from notebook>=4.4.1->widgetsnbextension~=3.6.0->ipywidgets>=7.3.0->qiskit-terra==0.45.0->qiskit[visualization]) (1.5.8)\n",
            "Requirement already satisfied: Send2Trash>=1.8.0 in /usr/local/lib/python3.10/dist-packages (from notebook>=4.4.1->widgetsnbextension~=3.6.0->ipywidgets>=7.3.0->qiskit-terra==0.45.0->qiskit[visualization]) (1.8.2)\n",
            "Requirement already satisfied: terminado>=0.8.3 in /usr/local/lib/python3.10/dist-packages (from notebook>=4.4.1->widgetsnbextension~=3.6.0->ipywidgets>=7.3.0->qiskit-terra==0.45.0->qiskit[visualization]) (0.17.1)\n",
            "Requirement already satisfied: prometheus-client in /usr/local/lib/python3.10/dist-packages (from notebook>=4.4.1->widgetsnbextension~=3.6.0->ipywidgets>=7.3.0->qiskit-terra==0.45.0->qiskit[visualization]) (0.18.0)\n",
            "Requirement already satisfied: nbclassic>=0.4.7 in /usr/local/lib/python3.10/dist-packages (from notebook>=4.4.1->widgetsnbextension~=3.6.0->ipywidgets>=7.3.0->qiskit-terra==0.45.0->qiskit[visualization]) (1.0.0)\n",
            "Requirement already satisfied: ptyprocess>=0.5 in /usr/local/lib/python3.10/dist-packages (from pexpect>4.3->ipython>=4.0.0->ipywidgets>=7.3.0->qiskit-terra==0.45.0->qiskit[visualization]) (0.7.0)\n",
            "Requirement already satisfied: wcwidth in /usr/local/lib/python3.10/dist-packages (from prompt-toolkit!=3.0.0,!=3.0.1,<3.1.0,>=2.0.0->ipython>=4.0.0->ipywidgets>=7.3.0->qiskit-terra==0.45.0->qiskit[visualization]) (0.2.9)\n",
            "Requirement already satisfied: platformdirs>=2.5 in /usr/local/lib/python3.10/dist-packages (from jupyter-core>=4.6.1->notebook>=4.4.1->widgetsnbextension~=3.6.0->ipywidgets>=7.3.0->qiskit-terra==0.45.0->qiskit[visualization]) (3.11.0)\n",
            "Requirement already satisfied: jupyter-server>=1.8 in /usr/local/lib/python3.10/dist-packages (from nbclassic>=0.4.7->notebook>=4.4.1->widgetsnbextension~=3.6.0->ipywidgets>=7.3.0->qiskit-terra==0.45.0->qiskit[visualization]) (1.24.0)\n",
            "Requirement already satisfied: notebook-shim>=0.2.3 in /usr/local/lib/python3.10/dist-packages (from nbclassic>=0.4.7->notebook>=4.4.1->widgetsnbextension~=3.6.0->ipywidgets>=7.3.0->qiskit-terra==0.45.0->qiskit[visualization]) (0.2.3)\n",
            "Requirement already satisfied: lxml in /usr/local/lib/python3.10/dist-packages (from nbconvert>=5->notebook>=4.4.1->widgetsnbextension~=3.6.0->ipywidgets>=7.3.0->qiskit-terra==0.45.0->qiskit[visualization]) (4.9.3)\n",
            "Requirement already satisfied: beautifulsoup4 in /usr/local/lib/python3.10/dist-packages (from nbconvert>=5->notebook>=4.4.1->widgetsnbextension~=3.6.0->ipywidgets>=7.3.0->qiskit-terra==0.45.0->qiskit[visualization]) (4.11.2)\n",
            "Requirement already satisfied: bleach in /usr/local/lib/python3.10/dist-packages (from nbconvert>=5->notebook>=4.4.1->widgetsnbextension~=3.6.0->ipywidgets>=7.3.0->qiskit-terra==0.45.0->qiskit[visualization]) (6.1.0)\n",
            "Requirement already satisfied: defusedxml in /usr/local/lib/python3.10/dist-packages (from nbconvert>=5->notebook>=4.4.1->widgetsnbextension~=3.6.0->ipywidgets>=7.3.0->qiskit-terra==0.45.0->qiskit[visualization]) (0.7.1)\n",
            "Requirement already satisfied: entrypoints>=0.2.2 in /usr/local/lib/python3.10/dist-packages (from nbconvert>=5->notebook>=4.4.1->widgetsnbextension~=3.6.0->ipywidgets>=7.3.0->qiskit-terra==0.45.0->qiskit[visualization]) (0.4)\n",
            "Requirement already satisfied: jupyterlab-pygments in /usr/local/lib/python3.10/dist-packages (from nbconvert>=5->notebook>=4.4.1->widgetsnbextension~=3.6.0->ipywidgets>=7.3.0->qiskit-terra==0.45.0->qiskit[visualization]) (0.2.2)\n",
            "Requirement already satisfied: MarkupSafe>=2.0 in /usr/local/lib/python3.10/dist-packages (from nbconvert>=5->notebook>=4.4.1->widgetsnbextension~=3.6.0->ipywidgets>=7.3.0->qiskit-terra==0.45.0->qiskit[visualization]) (2.1.3)\n",
            "Requirement already satisfied: mistune<2,>=0.8.1 in /usr/local/lib/python3.10/dist-packages (from nbconvert>=5->notebook>=4.4.1->widgetsnbextension~=3.6.0->ipywidgets>=7.3.0->qiskit-terra==0.45.0->qiskit[visualization]) (0.8.4)\n",
            "Requirement already satisfied: nbclient>=0.5.0 in /usr/local/lib/python3.10/dist-packages (from nbconvert>=5->notebook>=4.4.1->widgetsnbextension~=3.6.0->ipywidgets>=7.3.0->qiskit-terra==0.45.0->qiskit[visualization]) (0.9.0)\n",
            "Requirement already satisfied: pandocfilters>=1.4.1 in /usr/local/lib/python3.10/dist-packages (from nbconvert>=5->notebook>=4.4.1->widgetsnbextension~=3.6.0->ipywidgets>=7.3.0->qiskit-terra==0.45.0->qiskit[visualization]) (1.5.0)\n",
            "Requirement already satisfied: tinycss2 in /usr/local/lib/python3.10/dist-packages (from nbconvert>=5->notebook>=4.4.1->widgetsnbextension~=3.6.0->ipywidgets>=7.3.0->qiskit-terra==0.45.0->qiskit[visualization]) (1.2.1)\n",
            "Requirement already satisfied: fastjsonschema in /usr/local/lib/python3.10/dist-packages (from nbformat->notebook>=4.4.1->widgetsnbextension~=3.6.0->ipywidgets>=7.3.0->qiskit-terra==0.45.0->qiskit[visualization]) (2.18.1)\n",
            "Requirement already satisfied: jsonschema>=2.6 in /usr/local/lib/python3.10/dist-packages (from nbformat->notebook>=4.4.1->widgetsnbextension~=3.6.0->ipywidgets>=7.3.0->qiskit-terra==0.45.0->qiskit[visualization]) (4.19.2)\n",
            "Requirement already satisfied: argon2-cffi-bindings in /usr/local/lib/python3.10/dist-packages (from argon2-cffi->notebook>=4.4.1->widgetsnbextension~=3.6.0->ipywidgets>=7.3.0->qiskit-terra==0.45.0->qiskit[visualization]) (21.2.0)\n",
            "Requirement already satisfied: attrs>=22.2.0 in /usr/local/lib/python3.10/dist-packages (from jsonschema>=2.6->nbformat->notebook>=4.4.1->widgetsnbextension~=3.6.0->ipywidgets>=7.3.0->qiskit-terra==0.45.0->qiskit[visualization]) (23.1.0)\n",
            "Requirement already satisfied: jsonschema-specifications>=2023.03.6 in /usr/local/lib/python3.10/dist-packages (from jsonschema>=2.6->nbformat->notebook>=4.4.1->widgetsnbextension~=3.6.0->ipywidgets>=7.3.0->qiskit-terra==0.45.0->qiskit[visualization]) (2023.7.1)\n",
            "Requirement already satisfied: referencing>=0.28.4 in /usr/local/lib/python3.10/dist-packages (from jsonschema>=2.6->nbformat->notebook>=4.4.1->widgetsnbextension~=3.6.0->ipywidgets>=7.3.0->qiskit-terra==0.45.0->qiskit[visualization]) (0.30.2)\n",
            "Requirement already satisfied: rpds-py>=0.7.1 in /usr/local/lib/python3.10/dist-packages (from jsonschema>=2.6->nbformat->notebook>=4.4.1->widgetsnbextension~=3.6.0->ipywidgets>=7.3.0->qiskit-terra==0.45.0->qiskit[visualization]) (0.12.0)\n",
            "Requirement already satisfied: anyio<4,>=3.1.0 in /usr/local/lib/python3.10/dist-packages (from jupyter-server>=1.8->nbclassic>=0.4.7->notebook>=4.4.1->widgetsnbextension~=3.6.0->ipywidgets>=7.3.0->qiskit-terra==0.45.0->qiskit[visualization]) (3.7.1)\n",
            "Requirement already satisfied: websocket-client in /usr/local/lib/python3.10/dist-packages (from jupyter-server>=1.8->nbclassic>=0.4.7->notebook>=4.4.1->widgetsnbextension~=3.6.0->ipywidgets>=7.3.0->qiskit-terra==0.45.0->qiskit[visualization]) (1.6.4)\n",
            "Requirement already satisfied: cffi>=1.0.1 in /usr/local/lib/python3.10/dist-packages (from argon2-cffi-bindings->argon2-cffi->notebook>=4.4.1->widgetsnbextension~=3.6.0->ipywidgets>=7.3.0->qiskit-terra==0.45.0->qiskit[visualization]) (1.16.0)\n",
            "Requirement already satisfied: soupsieve>1.2 in /usr/local/lib/python3.10/dist-packages (from beautifulsoup4->nbconvert>=5->notebook>=4.4.1->widgetsnbextension~=3.6.0->ipywidgets>=7.3.0->qiskit-terra==0.45.0->qiskit[visualization]) (2.5)\n",
            "Requirement already satisfied: webencodings in /usr/local/lib/python3.10/dist-packages (from bleach->nbconvert>=5->notebook>=4.4.1->widgetsnbextension~=3.6.0->ipywidgets>=7.3.0->qiskit-terra==0.45.0->qiskit[visualization]) (0.5.1)\n",
            "Requirement already satisfied: idna>=2.8 in /usr/local/lib/python3.10/dist-packages (from anyio<4,>=3.1.0->jupyter-server>=1.8->nbclassic>=0.4.7->notebook>=4.4.1->widgetsnbextension~=3.6.0->ipywidgets>=7.3.0->qiskit-terra==0.45.0->qiskit[visualization]) (3.4)\n",
            "Requirement already satisfied: sniffio>=1.1 in /usr/local/lib/python3.10/dist-packages (from anyio<4,>=3.1.0->jupyter-server>=1.8->nbclassic>=0.4.7->notebook>=4.4.1->widgetsnbextension~=3.6.0->ipywidgets>=7.3.0->qiskit-terra==0.45.0->qiskit[visualization]) (1.3.0)\n",
            "Requirement already satisfied: exceptiongroup in /usr/local/lib/python3.10/dist-packages (from anyio<4,>=3.1.0->jupyter-server>=1.8->nbclassic>=0.4.7->notebook>=4.4.1->widgetsnbextension~=3.6.0->ipywidgets>=7.3.0->qiskit-terra==0.45.0->qiskit[visualization]) (1.1.3)\n",
            "Requirement already satisfied: pycparser in /usr/local/lib/python3.10/dist-packages (from cffi>=1.0.1->argon2-cffi-bindings->argon2-cffi->notebook>=4.4.1->widgetsnbextension~=3.6.0->ipywidgets>=7.3.0->qiskit-terra==0.45.0->qiskit[visualization]) (2.21)\n",
            "Building wheels for collected packages: pylatexenc\n",
            "  Building wheel for pylatexenc (setup.py) ... \u001b[?25l\u001b[?25hdone\n",
            "  Created wheel for pylatexenc: filename=pylatexenc-2.10-py3-none-any.whl size=136818 sha256=cd22f4bda2722bc684e800e43091ab0862242a91e13b75b36ea3575835434767\n",
            "  Stored in directory: /root/.cache/pip/wheels/d3/31/8b/e09b0386afd80cfc556c00408c9aeea5c35c4d484a9c762fd5\n",
            "Successfully built pylatexenc\n",
            "Installing collected packages: pylatexenc, jedi\n",
            "Successfully installed jedi-0.19.1 pylatexenc-2.10\n",
            "Collecting qiskit_aer\n",
            "  Downloading qiskit_aer-0.13.0-cp310-cp310-manylinux_2_17_x86_64.manylinux2014_x86_64.whl (12.3 MB)\n",
            "\u001b[2K     \u001b[90m━━━━━━━━━━━━━━━━━━━━━━━━━━━━━━━━━━━━━━━━\u001b[0m \u001b[32m12.3/12.3 MB\u001b[0m \u001b[31m78.9 MB/s\u001b[0m eta \u001b[36m0:00:00\u001b[0m\n",
            "\u001b[?25hRequirement already satisfied: qiskit>=0.44.0 in /usr/local/lib/python3.10/dist-packages (from qiskit_aer) (0.45.0)\n",
            "Requirement already satisfied: numpy>=1.16.3 in /usr/local/lib/python3.10/dist-packages (from qiskit_aer) (1.23.5)\n",
            "Requirement already satisfied: scipy>=1.0 in /usr/local/lib/python3.10/dist-packages (from qiskit_aer) (1.11.3)\n",
            "Requirement already satisfied: qiskit-terra==0.45.0 in /usr/local/lib/python3.10/dist-packages (from qiskit>=0.44.0->qiskit_aer) (0.45.0)\n",
            "Requirement already satisfied: rustworkx>=0.13.0 in /usr/local/lib/python3.10/dist-packages (from qiskit-terra==0.45.0->qiskit>=0.44.0->qiskit_aer) (0.13.2)\n",
            "Requirement already satisfied: ply>=3.10 in /usr/local/lib/python3.10/dist-packages (from qiskit-terra==0.45.0->qiskit>=0.44.0->qiskit_aer) (3.11)\n",
            "Requirement already satisfied: psutil>=5 in /usr/local/lib/python3.10/dist-packages (from qiskit-terra==0.45.0->qiskit>=0.44.0->qiskit_aer) (5.9.5)\n",
            "Requirement already satisfied: sympy>=1.3 in /usr/local/lib/python3.10/dist-packages (from qiskit-terra==0.45.0->qiskit>=0.44.0->qiskit_aer) (1.12)\n",
            "Requirement already satisfied: dill>=0.3 in /usr/local/lib/python3.10/dist-packages (from qiskit-terra==0.45.0->qiskit>=0.44.0->qiskit_aer) (0.3.7)\n",
            "Requirement already satisfied: python-dateutil>=2.8.0 in /usr/local/lib/python3.10/dist-packages (from qiskit-terra==0.45.0->qiskit>=0.44.0->qiskit_aer) (2.8.2)\n",
            "Requirement already satisfied: stevedore>=3.0.0 in /usr/local/lib/python3.10/dist-packages (from qiskit-terra==0.45.0->qiskit>=0.44.0->qiskit_aer) (5.1.0)\n",
            "Requirement already satisfied: symengine<0.10,>=0.9 in /usr/local/lib/python3.10/dist-packages (from qiskit-terra==0.45.0->qiskit>=0.44.0->qiskit_aer) (0.9.2)\n",
            "Requirement already satisfied: typing-extensions in /usr/local/lib/python3.10/dist-packages (from qiskit-terra==0.45.0->qiskit>=0.44.0->qiskit_aer) (4.5.0)\n",
            "Requirement already satisfied: six>=1.5 in /usr/local/lib/python3.10/dist-packages (from python-dateutil>=2.8.0->qiskit-terra==0.45.0->qiskit>=0.44.0->qiskit_aer) (1.16.0)\n",
            "Requirement already satisfied: pbr!=2.1.0,>=2.0.0 in /usr/local/lib/python3.10/dist-packages (from stevedore>=3.0.0->qiskit-terra==0.45.0->qiskit>=0.44.0->qiskit_aer) (6.0.0)\n",
            "Requirement already satisfied: mpmath>=0.19 in /usr/local/lib/python3.10/dist-packages (from sympy>=1.3->qiskit-terra==0.45.0->qiskit>=0.44.0->qiskit_aer) (1.3.0)\n",
            "Installing collected packages: qiskit_aer\n",
            "Successfully installed qiskit_aer-0.13.0\n",
            "Requirement already satisfied: qutip in /usr/local/lib/python3.10/dist-packages (4.7.3)\n",
            "Requirement already satisfied: numpy>=1.16.6 in /usr/local/lib/python3.10/dist-packages (from qutip) (1.23.5)\n",
            "Requirement already satisfied: scipy>=1.0 in /usr/local/lib/python3.10/dist-packages (from qutip) (1.11.3)\n",
            "Requirement already satisfied: packaging in /usr/local/lib/python3.10/dist-packages (from qutip) (23.2)\n",
            "Collecting qiskit-ibmq-provider\n",
            "  Downloading qiskit_ibmq_provider-0.20.2-py3-none-any.whl (241 kB)\n",
            "\u001b[2K     \u001b[90m━━━━━━━━━━━━━━━━━━━━━━━━━━━━━━━━━━━━━━━━\u001b[0m \u001b[32m241.5/241.5 kB\u001b[0m \u001b[31m3.6 MB/s\u001b[0m eta \u001b[36m0:00:00\u001b[0m\n",
            "\u001b[?25hRequirement already satisfied: qiskit-terra>=0.18.0 in /usr/local/lib/python3.10/dist-packages (from qiskit-ibmq-provider) (0.45.0)\n",
            "Requirement already satisfied: requests>=2.19 in /usr/local/lib/python3.10/dist-packages (from qiskit-ibmq-provider) (2.31.0)\n",
            "Collecting requests-ntlm<=1.1.0 (from qiskit-ibmq-provider)\n",
            "  Downloading requests_ntlm-1.1.0-py2.py3-none-any.whl (5.7 kB)\n",
            "Requirement already satisfied: numpy<1.24 in /usr/local/lib/python3.10/dist-packages (from qiskit-ibmq-provider) (1.23.5)\n",
            "Requirement already satisfied: urllib3>=1.21.1 in /usr/local/lib/python3.10/dist-packages (from qiskit-ibmq-provider) (2.0.7)\n",
            "Requirement already satisfied: python-dateutil>=2.8.0 in /usr/local/lib/python3.10/dist-packages (from qiskit-ibmq-provider) (2.8.2)\n",
            "Requirement already satisfied: websocket-client>=1.5.1 in /usr/local/lib/python3.10/dist-packages (from qiskit-ibmq-provider) (1.6.4)\n",
            "Collecting websockets>=10.0 (from qiskit-ibmq-provider)\n",
            "  Downloading websockets-12.0-cp310-cp310-manylinux_2_5_x86_64.manylinux1_x86_64.manylinux_2_17_x86_64.manylinux2014_x86_64.whl (130 kB)\n",
            "\u001b[2K     \u001b[90m━━━━━━━━━━━━━━━━━━━━━━━━━━━━━━━━━━━━━━━━\u001b[0m \u001b[32m130.2/130.2 kB\u001b[0m \u001b[31m15.1 MB/s\u001b[0m eta \u001b[36m0:00:00\u001b[0m\n",
            "\u001b[?25hRequirement already satisfied: six>=1.5 in /usr/local/lib/python3.10/dist-packages (from python-dateutil>=2.8.0->qiskit-ibmq-provider) (1.16.0)\n",
            "Requirement already satisfied: rustworkx>=0.13.0 in /usr/local/lib/python3.10/dist-packages (from qiskit-terra>=0.18.0->qiskit-ibmq-provider) (0.13.2)\n",
            "Requirement already satisfied: ply>=3.10 in /usr/local/lib/python3.10/dist-packages (from qiskit-terra>=0.18.0->qiskit-ibmq-provider) (3.11)\n",
            "Requirement already satisfied: psutil>=5 in /usr/local/lib/python3.10/dist-packages (from qiskit-terra>=0.18.0->qiskit-ibmq-provider) (5.9.5)\n",
            "Requirement already satisfied: scipy>=1.5 in /usr/local/lib/python3.10/dist-packages (from qiskit-terra>=0.18.0->qiskit-ibmq-provider) (1.11.3)\n",
            "Requirement already satisfied: sympy>=1.3 in /usr/local/lib/python3.10/dist-packages (from qiskit-terra>=0.18.0->qiskit-ibmq-provider) (1.12)\n",
            "Requirement already satisfied: dill>=0.3 in /usr/local/lib/python3.10/dist-packages (from qiskit-terra>=0.18.0->qiskit-ibmq-provider) (0.3.7)\n",
            "Requirement already satisfied: stevedore>=3.0.0 in /usr/local/lib/python3.10/dist-packages (from qiskit-terra>=0.18.0->qiskit-ibmq-provider) (5.1.0)\n",
            "Requirement already satisfied: symengine<0.10,>=0.9 in /usr/local/lib/python3.10/dist-packages (from qiskit-terra>=0.18.0->qiskit-ibmq-provider) (0.9.2)\n",
            "Requirement already satisfied: typing-extensions in /usr/local/lib/python3.10/dist-packages (from qiskit-terra>=0.18.0->qiskit-ibmq-provider) (4.5.0)\n",
            "Requirement already satisfied: charset-normalizer<4,>=2 in /usr/local/lib/python3.10/dist-packages (from requests>=2.19->qiskit-ibmq-provider) (3.3.2)\n",
            "Requirement already satisfied: idna<4,>=2.5 in /usr/local/lib/python3.10/dist-packages (from requests>=2.19->qiskit-ibmq-provider) (3.4)\n",
            "Requirement already satisfied: certifi>=2017.4.17 in /usr/local/lib/python3.10/dist-packages (from requests>=2.19->qiskit-ibmq-provider) (2023.7.22)\n",
            "Collecting ntlm-auth>=1.0.2 (from requests-ntlm<=1.1.0->qiskit-ibmq-provider)\n",
            "  Downloading ntlm_auth-1.5.0-py2.py3-none-any.whl (29 kB)\n",
            "Requirement already satisfied: cryptography>=1.3 in /usr/local/lib/python3.10/dist-packages (from requests-ntlm<=1.1.0->qiskit-ibmq-provider) (41.0.5)\n",
            "Requirement already satisfied: cffi>=1.12 in /usr/local/lib/python3.10/dist-packages (from cryptography>=1.3->requests-ntlm<=1.1.0->qiskit-ibmq-provider) (1.16.0)\n",
            "Requirement already satisfied: pbr!=2.1.0,>=2.0.0 in /usr/local/lib/python3.10/dist-packages (from stevedore>=3.0.0->qiskit-terra>=0.18.0->qiskit-ibmq-provider) (6.0.0)\n",
            "Requirement already satisfied: mpmath>=0.19 in /usr/local/lib/python3.10/dist-packages (from sympy>=1.3->qiskit-terra>=0.18.0->qiskit-ibmq-provider) (1.3.0)\n",
            "Requirement already satisfied: pycparser in /usr/local/lib/python3.10/dist-packages (from cffi>=1.12->cryptography>=1.3->requests-ntlm<=1.1.0->qiskit-ibmq-provider) (2.21)\n",
            "Installing collected packages: websockets, ntlm-auth, requests-ntlm, qiskit-ibmq-provider\n",
            "Successfully installed ntlm-auth-1.5.0 qiskit-ibmq-provider-0.20.2 requests-ntlm-1.1.0 websockets-12.0\n"
          ]
        }
      ],
      "source": [
        "!pip install scqubits\n",
        "!pip install qiskit\n",
        "!pip install qiskit[visualization];\n",
        "!pip install qiskit_aer;\n",
        "!pip install qutip\n",
        "!pip install qiskit-ibmq-provider"
      ]
    },
    {
      "cell_type": "code",
      "execution_count": null,
      "id": "913e348b",
      "metadata": {
        "id": "913e348b"
      },
      "outputs": [],
      "source": [
        "import numpy as np\n",
        "import matplotlib.pyplot as plt\n",
        "import random\n",
        "import pylab as plt\n",
        "import scipy.linalg\n",
        "import scqubits\n",
        "import matplotlib.animation as animation\n",
        "from IPython.display import HTML\n",
        "import scqubits\n",
        "\n",
        "import numpy as np\n",
        "from qiskit import QuantumCircuit, QuantumRegister, transpile\n",
        "from qiskit_aer import AerSimulator\n",
        "from qiskit.visualization import plot_histogram\n",
        "from qiskit.circuit.library.standard_gates import ZGate, XGate\n",
        "from qiskit import IBMQ\n",
        "from qiskit.visualization import plot_bloch_vector\n",
        "from qiskit.visualization import plot_distribution\n",
        "from qiskit import QuantumRegister, ClassicalRegister, QuantumCircuit, Aer, execute\n",
        "import qutip\n",
        "from qiskit.circuit.quantumregister import AncillaRegister\n",
        "import pylab as plt\n",
        "from qiskit.circuit.library import MCMT\n",
        "import numpy as np\n",
        "import scipy\n",
        "from qiskit import *\n",
        "\n",
        "\n",
        "def resetMe(keepList=[]):\n",
        "    ll=%who_ls\n",
        "    keepList=keepList+['resetMe','np','plt','random']\n",
        "    for iiii in keepList:\n",
        "        if iiii in ll:\n",
        "            ll.remove(iiii)\n",
        "    for iiii in ll:\n",
        "        jjjj=\"^\"+iiii+\"$\"\n",
        "        %reset_selective -f {jjjj}\n",
        "    ll=%who_ls\n",
        "    return\n",
        "import datetime;datetime.datetime.now()\n",
        "\n",
        "sigma_x=np.matrix([[0,1],[1,0]],dtype=complex)\n",
        "sigma_z=np.matrix([[1,0],[0,-1]],dtype=complex)\n",
        "\n",
        "\n",
        "\n",
        "\n",
        "def RunCircuit(circuit,a=None):\n",
        "  numQubits=circuit.num_qubits\n",
        "  if a!=None:\n",
        "    numQubits=max(numQubits,a.num_qubits)\n",
        "    initCircuit=QuantumCircuit(a.num_qubits,a.num_qubits)\n",
        "    initCircuit.initialize(a)\n",
        "    circuit=AddCircuits([initCircuit,circuit])\n",
        "  circuit.save_statevector(label='myStateVector')\n",
        "  compiled_circuit = transpile(circuit, simulator)\n",
        "  resultA = simulator.run(compiled_circuit).result()\n",
        "  forward=list(range(0,numQubits))\n",
        "  reverse=forward[::-1]\n",
        "  circuit.measure(forward,reverse)\n",
        "  compiled_circuit = transpile(circuit, simulator)\n",
        "  resultB = simulator.run(compiled_circuit).result()\n",
        "  return resultA.data()['myStateVector'],resultB.data()['counts']\n",
        "\n",
        "\n",
        "def AddCircuits(theCircuits):\n",
        "  numQubits=np.array([c.num_qubits for c in theCircuits])\n",
        "  numQubits=np.max(numQubits)\n",
        "  circuit=QuantumCircuit(numQubits,numQubits)\n",
        "  for i in range(0,len(theCircuits)):\n",
        "    circuit=circuit.compose(theCircuits[i],qubits=list(range(0,theCircuits[i].num_qubits)))\n",
        "  return circuit\n",
        "\n",
        "\n",
        "\n",
        "def AddBlochSphere(overlap,ax,withArrow=False):\n",
        "    rho = np.outer(overlap.conj(), overlap)\n",
        "    bvec=(2 * np.real(rho[0,1]), 2 * np.imag(rho[0,1]), np.real(rho[0,0]) - np.real(rho[1,1]))\n",
        "    if withArrow:\n",
        "        sf = ax.quiver([0,], [0,],[0,],bvec[0], bvec[1], bvec[2])\n",
        "    ax.scatter(bvec[0],bvec[1],bvec[2], color='r')\n",
        "    return ax\n",
        "\n",
        "def MakeBlochSphere():\n",
        "    fig, ax = plt.subplots(subplot_kw={\"projection\": \"3d\"})\n",
        "    ax.set_zlim([0,1])\n",
        "    ax.clear()\n",
        "    ax.set_xlim([-1.1,1.1])\n",
        "    ax.set_ylim([-1.1,1.1])\n",
        "    ax.set_zlim([-1.1,1.1])\n",
        "    u, v = np.mgrid[0:2*np.pi:100j, 0:np.pi:100j]\n",
        "    x = np.cos(u)*np.sin(v)\n",
        "    y = np.sin(u)*np.sin(v)\n",
        "    z = np.cos(v)\n",
        "    ax.plot_surface(x, y, z, color=\"yellow\", alpha = 0.3)\n",
        "    ax.set_box_aspect((2,2,2))\n",
        "    return ax\n",
        "\n",
        "simulator = AerSimulator()\n"
      ]
    },
    {
      "cell_type": "markdown",
      "id": "781ed73f",
      "metadata": {
        "id": "781ed73f"
      },
      "source": [
        "---"
      ]
    },
    {
      "cell_type": "markdown",
      "id": "84f9ebe1",
      "metadata": {
        "id": "84f9ebe1"
      },
      "source": [
        "## Overview"
      ]
    },
    {
      "cell_type": "markdown",
      "id": "aaa4bcc6",
      "metadata": {
        "id": "aaa4bcc6"
      },
      "source": [
        "So far we've learned about quantum computing as an abstract model of computation. We can represent a qubit as a vector of length 2 (and can represent $n$ qubits as a vector of length $2^n$).\n",
        "\n",
        "In this section our goal is to understand how we actually build a quantum computer in the real world (and here we will only focus on 1 qubit).\n",
        "\n",
        "Our goal will be to understand how you represent one qubit and apply a gate to it.\n",
        "\n",
        "There are various different physical realizations of a qubit.  In this assignment, we will look at quantum electronic circuits.\n"
      ]
    },
    {
      "cell_type": "markdown",
      "id": "a4916898",
      "metadata": {
        "id": "a4916898"
      },
      "source": [
        "## Exericise 0:  What Abstract Gate are you trying to implement?"
      ]
    },
    {
      "cell_type": "markdown",
      "id": "4d99dbcc",
      "metadata": {
        "id": "4d99dbcc"
      },
      "source": [
        "### a. Abstract Model of Computation\n",
        "\n",
        "Our target here is we want to go ahead and implement a gate using electronics.  The gate we are going to implement is the following gate:\n",
        "```\n",
        "circuit.rx(1./50.)\n",
        "circuit.rz(1./50.)\n",
        "```\n",
        "\n",
        "Let's start by implementing this in qiskit.\n",
        "\n",
        "Run the gate $k$ times (from $1< k < 400$) and graph (with two lines) the probability you would measure \"0\" and the probability you would measure \"1\" as a function of $k$.  "
      ]
    },
    {
      "cell_type": "code",
      "source": [
        "## ANSWER HERE"
      ],
      "metadata": {
        "id": "DKOOZDEcTn79"
      },
      "id": "DKOOZDEcTn79",
      "execution_count": 1,
      "outputs": []
    },
    {
      "cell_type": "markdown",
      "source": [
        "We know that the state of a single qubit is $\\alpha |0\\rangle + \\beta |1\\rangle$ where $|\\alpha|^2 + |\\beta|^2=1$.   We might think that we could then represent the qubit by a point $(\\alpha, \\beta)$ which is on a circle of radius 1.  But $\\alpha$ and $\\beta$ are complex numbers so it's not quite that simple - instead you can represent the qubit as a point on a sphere.  This is called the Bloch sphere.  (Technical point: You might think that you need four numbers to represent two complex numbers but it's actually only three because of the normalization and relative phase).\n",
        "\n",
        "At the moment, it's not important that you know how to perform this mapping but to understand for every qubit there is a point that it appears on the bloch sphere.\n",
        "\n",
        "We will give you the following functions (*thanks Matt Thibodeau!*)\n",
        "```\n",
        "def AddBlochSphere(overlap,ax,withArrow=False):\n",
        "    rho = np.outer(overlap.conj(), overlap)\n",
        "    bvec=(2 * np.real(rho[0,1]), 2 * np.imag(rho[0,1]), np.real(rho[0,0]) - np.real(rho[1,1]))\n",
        "    if withArrow:\n",
        "        sf = ax.quiver([0,], [0,],[0,],bvec[0], bvec[1], bvec[2])\n",
        "    ax.scatter(bvec[0],bvec[1],bvec[2], color='r')    \n",
        "    return ax\n",
        "\n",
        "def MakeBlochSphere():\n",
        "    fig, ax = plt.subplots(subplot_kw={\"projection\": \"3d\"})\n",
        "    ax.set_zlim([0,1])\n",
        "    ax.clear()\n",
        "    ax.set_xlim([-1.1,1.1])\n",
        "    ax.set_ylim([-1.1,1.1])\n",
        "    ax.set_zlim([-1.1,1.1])\n",
        "    u, v = np.mgrid[0:2*np.pi:100j, 0:np.pi:100j]\n",
        "    x = np.cos(u)*np.sin(v)\n",
        "    y = np.sin(u)*np.sin(v)\n",
        "    z = np.cos(v)\n",
        "    ax.plot_surface(x, y, z, color=\"yellow\", alpha = 0.3)\n",
        "    ax.set_box_aspect((2,2,2))\n",
        "    return ax\n",
        "\n",
        "```\n",
        "\n",
        "To run it, you need to send a numpy array of overlaps that correspond to the overlap with $|0\\rangle$ and the overlap with $|1\\rangle$ -i.e\n",
        "```\n",
        "overlaps = [[1.0,0.0],[0.9,0.0513],[0.64,0.2]]\n",
        "```\n",
        "and then plot it as"
      ],
      "metadata": {
        "id": "xh8b49F6TwFD"
      },
      "id": "xh8b49F6TwFD"
    },
    {
      "cell_type": "markdown",
      "source": [
        "```\n",
        "ax=MakeBlochSphere()\n",
        "ax=AddBlochSphere(states[0],ax,True)\n",
        "for state in states[::10]:\n",
        "    ax=AddBlochSphere(state,ax)\n",
        "```\n"
      ],
      "metadata": {
        "id": "pcI1HFU2SylR"
      },
      "id": "pcI1HFU2SylR"
    },
    {
      "cell_type": "code",
      "source": [
        "### ANSWER HERE"
      ],
      "metadata": {
        "id": "Bm2HGrouSyKP"
      },
      "id": "Bm2HGrouSyKP",
      "execution_count": 2,
      "outputs": []
    },
    {
      "cell_type": "markdown",
      "id": "6905da17",
      "metadata": {
        "id": "6905da17"
      },
      "source": [
        "---"
      ]
    },
    {
      "cell_type": "markdown",
      "id": "00e8a5cb",
      "metadata": {
        "id": "00e8a5cb"
      },
      "source": [
        "## Exercise 1:  Particle in a box"
      ]
    },
    {
      "cell_type": "markdown",
      "id": "7d3253bc",
      "metadata": {
        "id": "7d3253bc"
      },
      "source": [
        "* List of collaborators:\n",
        "\n",
        "* References you used in developing your code:"
      ]
    },
    {
      "cell_type": "markdown",
      "id": "28aa29a7",
      "metadata": {
        "id": "28aa29a7"
      },
      "source": [
        "We will need to begin by learning or recalling some aspects about quantum mechanics. There are three key things that you need to know about quantum mechanics:\n",
        "\n",
        "* In quantum mechanics, the \"rules\" of the physical system are represented by a matrix called the Hamiltonian $H$  (in many ways,  the classical analogue of the energy) and the state of your system is represented by a vector $\\Psi$.  \n",
        "\n",
        "* If your quantum is in state $\\Psi(0)$ at time 0, you can figure out what your Hamiltonian is at time $t$ by\n",
        "$$\\Psi(t) = \\exp[i t H] \\Psi(0).$$\n",
        "In order to do that matrix exponential you can use\n",
        "```\n",
        "expH = scipy.linalg.expm(1.j * H * t)\n",
        "```\n",
        "If you are going to a large time $t$, it will often make sense to break it apart into a number of $T/\\delta t$ smaller time steps each of size $\\delta t$.  This will let you record information about your quantum state at each time step $\\delta t$ - i.e. something like\n",
        "```\n",
        "for step in ts:\n",
        "    psi = scipy.linalg.expm(1.j * H * delta_t) @ psi\n",
        "```\n",
        "\n",
        "\n",
        "* There are special quantum states $\\Psi_i$ which don't change in time under time evolution.  These states are the eigenstates of $H$.  You can get the i'th eigenstate of $H$ by doing\n",
        "```\n",
        "np.linalg.eigh(H)[1][:,i]\n",
        "```\n",
        "\n"
      ]
    },
    {
      "cell_type": "markdown",
      "id": "de91a938",
      "metadata": {
        "id": "de91a938"
      },
      "source": [
        "## a. Hamiltonian for a Particle in a Box"
      ]
    },
    {
      "cell_type": "markdown",
      "id": "45d55457",
      "metadata": {
        "id": "45d55457"
      },
      "source": [
        "We can start by working with a particle in a box.  Consider a particle in a box of length 20 spanning $-10 \\leq x \\leq 10$.\n",
        "\n",
        "The Hamiltonian for a particle in a box is\n",
        "$$ H=-\\frac{\\partial^2 }{\\partial x^2} $$\n",
        "with hard walls for any $|x|\\geq 20$ outside the box.\n",
        "\n",
        "We need to convert this into a matrix. To do that, we should know from calculus that the stencil for a second derivative is\n",
        "$$ \\frac{\\partial^2 }{\\partial x^2} \\equiv \\frac{f(x+\\delta) - 2 f(x) + f(x-\\delta)}{\\delta^2} $$\n",
        "\n",
        "\n",
        "We can let the rows and columns of the matrix $H$ be indexed by the values of $x$ - to get the values of $x$, we can do\n",
        "```\n",
        "L=20\n",
        "delta_x = 0.01\n",
        "ns=np.array(range(0,int((L+2*delta_x)//delta_x)))\n",
        "xs=ns*delta_x-10\n",
        "```\n",
        "Then the above stencil corresponds to the matrix\n",
        "$$\n",
        "H[x_1,x_2] = \\begin{cases}\n",
        "1/(\\delta x)^2 & \\text{if } x_1==x_2 \\\\\n",
        "-2/(\\delta x)^2 & \\text{if } \\textrm{abs}(x_1-x_2)==\\delta_x\\\\\n",
        "0 & \\text{otherwise }\n",
        "\\end{cases}\n",
        "$$\n",
        "\n",
        "\n",
        "* Make the Hamiltonian matrix H\n",
        "* diagonalize it and\n",
        "* plot the first four eigenstates $v_a, v_b, v_c, v_d$ You should recognize the solutions to the particle in a box.\n",
        "\n"
      ]
    },
    {
      "cell_type": "markdown",
      "id": "0ac131d8",
      "metadata": {
        "id": "0ac131d8"
      },
      "source": [
        "<div><img src=\"https://clark.physics.illinois.edu/246img/AnsStart.svg\" width=200 align=left alt=\"Answer (start)\"></img><br></div>"
      ]
    },
    {
      "cell_type": "code",
      "source": [
        "## ANSWER HERE"
      ],
      "metadata": {
        "id": "dx0gnO6FaG2j"
      },
      "id": "dx0gnO6FaG2j",
      "execution_count": 3,
      "outputs": []
    },
    {
      "cell_type": "markdown",
      "id": "7b617d9c",
      "metadata": {
        "id": "7b617d9c"
      },
      "source": [
        "<div><img src=\"https://clark.physics.illinois.edu/246img/AnsEnd.svg\" width=200 align=left alt=\"Answer (start)\"></img><br></div>"
      ]
    },
    {
      "cell_type": "markdown",
      "id": "54f4fc9f",
      "metadata": {
        "id": "54f4fc9f"
      },
      "source": [
        "The eigenvalues for a particle in a box are quantized.  They should be equal to\n",
        "$$E_n = \\frac{\\pi^2}{L^2}n^2$$\n",
        "for $n=\\{1,2,...\\}$.\n",
        "\n",
        "Plot the lowest five eigen-energies and compare them against this formula."
      ]
    },
    {
      "cell_type": "markdown",
      "id": "ac843a79",
      "metadata": {
        "id": "ac843a79"
      },
      "source": [
        "<div><img src=\"https://clark.physics.illinois.edu/246img/AnsStart.svg\" width=200 align=left alt=\"Answer (start)\"></img><br></div>"
      ]
    },
    {
      "cell_type": "code",
      "execution_count": 4,
      "id": "7f59304a",
      "metadata": {
        "id": "7f59304a"
      },
      "outputs": [],
      "source": [
        "### ANSWER HERE"
      ]
    },
    {
      "cell_type": "markdown",
      "id": "eb954fac",
      "metadata": {
        "id": "eb954fac"
      },
      "source": [
        "<div><img src=\"https://clark.physics.illinois.edu/246img/AnsEnd.svg\" width=200 align=left alt=\"Answer (start)\"></img><br></div>"
      ]
    },
    {
      "cell_type": "markdown",
      "id": "600b7714",
      "metadata": {
        "deletable": false,
        "editable": false,
        "id": "600b7714"
      },
      "source": [
        "## b. Time Evolution"
      ]
    },
    {
      "cell_type": "markdown",
      "id": "8f90cb43",
      "metadata": {
        "id": "8f90cb43"
      },
      "source": [
        "Our next step will be to implement time evolution.  Let us start by trying to time-evolve $v_a$ under the Hamiltonian $H$.  Recall that eigenstates should be stationary (and so don't evolve in time).  Therefore, under time evolution we should find that this state always looks the same.  Let's check this.  \n",
        "\n",
        "Using\n",
        "* a total time of $T=5$\n",
        "* a time step of $\\delta t=0.1$\n",
        "\n",
        "Plot the value of $|v(t)|$ at time steps $t=\\{0,1,3,5\\}$.\n",
        "The absolute value is necessary because under time-evolution the wave-function can become complex (one could also plot the phase of the wave-function if desired but don't worry about this).\n",
        "\n"
      ]
    },
    {
      "cell_type": "markdown",
      "id": "c28bc53a",
      "metadata": {
        "id": "c28bc53a"
      },
      "source": [
        "<div><img src=\"https://clark.physics.illinois.edu/246img/AnsStart.svg\" width=200 align=left alt=\"Answer (start)\"></img><br></div>"
      ]
    },
    {
      "cell_type": "code",
      "execution_count": 5,
      "id": "6314944a",
      "metadata": {
        "id": "6314944a"
      },
      "outputs": [],
      "source": [
        "### ANSWER HERE"
      ]
    },
    {
      "cell_type": "markdown",
      "id": "3b5b6640",
      "metadata": {
        "id": "3b5b6640"
      },
      "source": [
        "<div><img src=\"https://clark.physics.illinois.edu/246img/AnsEnd.svg\" width=200 align=left alt=\"Answer (start)\"></img><br></div>"
      ]
    },
    {
      "cell_type": "markdown",
      "id": "285c996d",
      "metadata": {
        "id": "285c996d"
      },
      "source": [
        "You should have noticed that our previous time evolution was pretty uninteresting as nothing changed under the time evolution.  Our next step will be to implement time evolution on a more complicated state.  \n",
        "\n",
        "We will consider two states:\n",
        "\n",
        "$$v_0=\\frac{1}{\\sqrt{2}}(v_a+v_b)$$\n",
        "\n",
        "$$v_1=\\frac{1}{\\sqrt{2}}(v_a-v_b)$$\n",
        "\n",
        "These two states are orthogonal on each other - i.e. `np.vdot(v0,v1)=0`.  You can check this.\n",
        "\n",
        "We want to do time evolution with our Hamiltonian on the state $v_0$.  \n",
        "Perform time evolution\n",
        "* starting at $v_0$\n",
        "* $\\delta t=0.1$\n",
        "* for time $T=50\\%$\n",
        "* and graph the result at $T=\\{4.0,18.3,41.0\\}$\n",
        "* Also graph (with dotted lines - `linestyle=\"--\"`) $v_0$ and $v_1$\n",
        "\n",
        "\n",
        "\n"
      ]
    },
    {
      "cell_type": "markdown",
      "id": "cb68ba94",
      "metadata": {
        "id": "cb68ba94"
      },
      "source": [
        "<div><img src=\"https://clark.physics.illinois.edu/246img/AnsStart.svg\" width=200 align=left alt=\"Answer (start)\"></img><br></div>"
      ]
    },
    {
      "cell_type": "code",
      "execution_count": 6,
      "id": "39e24004",
      "metadata": {
        "id": "39e24004"
      },
      "outputs": [],
      "source": [
        "### ANSWER HERE"
      ]
    },
    {
      "cell_type": "markdown",
      "id": "fccabede",
      "metadata": {
        "id": "fccabede"
      },
      "source": [
        "<div><img src=\"https://clark.physics.illinois.edu/246img/AnsEnd.svg\" width=200 align=left alt=\"Answer (start)\"></img><br></div>"
      ]
    },
    {
      "cell_type": "markdown",
      "id": "536b6b5e",
      "metadata": {
        "id": "536b6b5e"
      },
      "source": [
        "## c. State overlaps\n"
      ]
    },
    {
      "cell_type": "markdown",
      "id": "1e84f255",
      "metadata": {
        "id": "1e84f255"
      },
      "source": [
        "We've seen that our time evolution slowly moves us from state $v_0$ to state $v_1$ over a time over a time of $T=41$.   In between, $T=0$ and $T=41$, the state is a little bit of $v_0$ and a little bit of $v_1$.  We would like to quantify this better by computing the overlap with these two states as a function of time.\n",
        "\n",
        "We have a state $v(t)$.  To compute the overlap with $v_0$ we can just do\n",
        "`np.vdot(v , v_0)`.  \n",
        "\n",
        "This overlap is a complex number.   We can only plot real numbers so if we want to plot it, we need to plot something like\n",
        "* the absolute value `np.abs(...)` (or its square) and\n",
        "* phase `np.angle(...)` or\n",
        "\n",
        "Plot as a function of time from $T=0$ to $T=100$ the overlap of $|v(t)|^2$ with both $v_0$ and $v_1$.  "
      ]
    },
    {
      "cell_type": "markdown",
      "id": "a824f78c",
      "metadata": {
        "id": "a824f78c"
      },
      "source": [
        "<div><img src=\"https://clark.physics.illinois.edu/246img/AnsStart.svg\" width=200 align=left alt=\"Answer (start)\"></img><br></div>"
      ]
    },
    {
      "cell_type": "code",
      "execution_count": 7,
      "id": "d3abe261",
      "metadata": {
        "id": "d3abe261"
      },
      "outputs": [],
      "source": [
        "### ANSWER HERE"
      ]
    },
    {
      "cell_type": "markdown",
      "id": "02dbc0e3",
      "metadata": {
        "id": "02dbc0e3"
      },
      "source": [
        "<div><img src=\"https://clark.physics.illinois.edu/246img/AnsEnd.svg\" width=200 align=left alt=\"Answer (start)\"></img><br></div>"
      ]
    },
    {
      "cell_type": "markdown",
      "id": "2494abe2",
      "metadata": {
        "id": "2494abe2"
      },
      "source": [
        "Now we can get our first inkling of how you might build a qubit and a (always-on and hence not-very-useful) gate.  \n",
        "\n",
        "Suppose someone comes to you with a particle in a box. There are many eigenstates for that particle in the box: $v_0, v_1, v_2, v_3, ...$\n",
        "\n",
        "You pick two of those eigenstates (let's say $v_0$ and $v_1$) and claim that those are the states that correspond to $|0\\rangle$ and $|1\\rangle$.  \n",
        "\n",
        "This particle-in-a-box is now a qubit.  The other eigenstates we ignore (and are hoping that you never accidentally get stuck in - this would cause an error).\n",
        "\n",
        "Now a gate is something that takes you from one quantum state to another.  For example, a not gate should take\n",
        "\n",
        "$$|0\\rangle \\rightarrow |1\\rangle$$\n",
        "$$|1\\rangle \\rightarrow |0\\rangle$$\n",
        "\n",
        "Looking at our previous results, we can see that if we just have a particle-in-a-box that it implements a not-gate every $T=41.0$ seconds.  \n",
        "\n",
        "This is a little bit unsatsifying because it's not like we can turn our Hamiltonian on and off.  We really need a Hamiltonian $H(\\theta)$ where we have some knob $\\theta$ that we can change so we can turn gates on and off.  \n",
        "\n",
        "In the next exercise, we will see how to go about this."
      ]
    },
    {
      "cell_type": "markdown",
      "id": "ca07af03",
      "metadata": {
        "id": "ca07af03"
      },
      "source": [
        "## Exercise 2: Fluxonium"
      ]
    },
    {
      "cell_type": "markdown",
      "id": "97a962df",
      "metadata": {
        "id": "97a962df"
      },
      "source": [
        "In the previous exercise, we worked on a particle-in-a-box.  Unfortuantely, you don't run into such physical systems particular often.  In this exercise, we will work with something more realistic:  a fluxonium built out of various electronic components."
      ]
    },
    {
      "cell_type": "markdown",
      "id": "964b704a",
      "metadata": {
        "id": "964b704a"
      },
      "source": [
        "Here is the electronic circuit for a fluxonium qubit:\n",
        "\n",
        "<div><img src=\"https://scqubits.readthedocs.io/en/latest/_images/fluxonium.png\" width=400 align=left alt=\"Answer (start)\"></img><br></div>\n"
      ]
    },
    {
      "cell_type": "markdown",
      "id": "d99fd8f3",
      "metadata": {
        "id": "d99fd8f3"
      },
      "source": [
        "The fluxoinum qubit consists of three electronic components: a capacitor, an inductor, and a Josephson junction.  You're probably familiar with capacitors and inductors. You regularly run into them in classical circuits.  A Josephson junction is an electronic component which sandwhiches an insulator between two superconducting materials.  Across the Josephson junction there is a change in the phase $\\phi$.  \n",
        "\n",
        "Typically in a circuit you need to keep track of the voltage and current.  When you have a Josephson Junction you need to keep track also of the phase.\n",
        "\n",
        "In electronics you might have treated the circuit classically righting out the classical energy of the circuit - i.e. $E=\\frac{1}{2}CV^2+ \\frac{1}{2}LI^2$  In quantum mechanics, instead of writing out an energy for our circuit, we write out a Hamiltonian $H$.  "
      ]
    },
    {
      "cell_type": "markdown",
      "id": "7eca5f99",
      "metadata": {
        "id": "7eca5f99"
      },
      "source": [
        "## a. Fluxonium Hamiltonian"
      ]
    },
    {
      "cell_type": "markdown",
      "id": "b32e6ede",
      "metadata": {
        "id": "b32e6ede"
      },
      "source": [
        "The relevant Hamiltonian for this circuit is\n",
        "\n",
        "$$H=-4E_\\text{C}\\frac{\\partial^2 }{\\partial \\phi^2}+\\frac{1}{2}E_L \\phi^2 -E_\\text{J}\\cos(\\phi-\\varphi_\\text{ext}) $$\n",
        "\n",
        "where $E_C$ is the charging energy, $E_J$ the Josephson energy and $E_L$ the inductive energy.\n"
      ]
    },
    {
      "cell_type": "markdown",
      "id": "965aa122",
      "metadata": {
        "id": "965aa122"
      },
      "source": [
        "In the particle-in-a-box we were working with $x$. Here you should just mentally replace  $\\phi$ with $x$.  Just like earlier we will let $-20\\leq \\phi \\leq 20$.\n",
        "\n",
        "Now we can look at this Hamiltonian.  The first term, $-4E_\\text{C}\\frac{\\partial^2 }{\\partial \\phi^2}$ you've already seen; this is the particle-in-a-box term (notice the extra factor of $4E_C$). You already know how to build the matrix for this term.  This term is caused by the capacitor.  Essentially the capacitor would like the wave-function (when drawn in the $\\phi$ basis) to be more spread out.\n",
        "\n",
        "We will then need to add a matrix for the the inductor term and the Josephson junction term.  Both of these terms will be diagonal matrices.  \n",
        "\n",
        "The term $\\frac{1}{2}E_L \\phi^2$ is the Hamiltonian for the inductor and has the matrix $H[\\phi,\\phi] = \\frac{1}{2}E_L \\phi^2$ (and zero otherwise)\n",
        "\n",
        "The term $E_\\text{J}\\cos(\\phi-\\varphi_\\text{ext})$ is the Hamiltonian for the inductor and has the matrix  $H[\\phi,\\phi] = E_\\text{J}\\cos(\\phi-\\varphi_\\text{ext})$ (and zero otherwise).\n",
        "\n",
        "$\\varphi_\\text{ext}$ is a number that you (as an experimentalist) get to control as a knob.  It corresponds to the amount of magnetic flux (caused by sticking a manget in the right place) you drive through a hole in the circuit.\n",
        "\n",
        "By changing this we will be able to turn circuit elements on and off.  "
      ]
    },
    {
      "cell_type": "markdown",
      "id": "ca70e863",
      "metadata": {
        "id": "ca70e863"
      },
      "source": [
        "Build this Hamiltonian for $H$.  Use the following parameters:\n",
        "* Ec=0.5\n",
        "* El=0.8\n",
        "* Ej=4\n",
        "* $\\varphi_\\text{ext}=\\pi$\n",
        "\n",
        "\n"
      ]
    },
    {
      "cell_type": "markdown",
      "id": "ec798001",
      "metadata": {
        "id": "ec798001"
      },
      "source": [
        "As in the previous case, we want to diagonalize our Hamiltonian and find some number of eigenstates.  Plot the first three eigenstates as well as eigenvalues."
      ]
    },
    {
      "cell_type": "markdown",
      "id": "3b652e4b",
      "metadata": {
        "id": "3b652e4b"
      },
      "source": [
        "<div><img src=\"https://clark.physics.illinois.edu/246img/AnsStart.svg\" width=200 align=left alt=\"Answer (start)\"></img><br></div>"
      ]
    },
    {
      "cell_type": "code",
      "execution_count": null,
      "id": "5357d588",
      "metadata": {
        "id": "5357d588"
      },
      "outputs": [],
      "source": []
    },
    {
      "cell_type": "code",
      "execution_count": 8,
      "id": "71ebbf23",
      "metadata": {
        "id": "71ebbf23"
      },
      "outputs": [],
      "source": [
        "### ANSWER HERE"
      ]
    },
    {
      "cell_type": "markdown",
      "id": "3da796e8",
      "metadata": {
        "id": "3da796e8"
      },
      "source": [
        "<div><img src=\"https://clark.physics.illinois.edu/246img/AnsEnd.svg\" width=200 align=left alt=\"Answer (end)\"></img><br></div>"
      ]
    },
    {
      "cell_type": "markdown",
      "id": "35edea3f",
      "metadata": {
        "id": "35edea3f"
      },
      "source": [
        "## b. Time Evolution"
      ]
    },
    {
      "cell_type": "markdown",
      "id": "e1d1bf47",
      "metadata": {
        "id": "e1d1bf47"
      },
      "source": [
        "We are going to use the first two eigenstates $v_0$ and $v_1$ as the $|0\\rangle$ and $|1\\rangle$ states for our qubit. Then we are going to see how manipulating $\\varphi_\\textrm{ext}$ allows us to turn on and off different gates.\n",
        "\n",
        "We have already decided what our eigenstates are $|0\\rangle$ and $|1\\rangle$ are going to be. Let's imagine that we have set up our eigenstate into state $|0\\rangle$.  Now, we imagine that we change our magnetic field to $\\pi + 0.00360 \\times 2\\pi$.  Then the eigenstate (from the previous external field) is going to change based on our new field.  Do time evolution with this Hamiltonian for a\n",
        "* time $T=100$ with\n",
        "* $\\delta t=0.1$ and\n",
        "* plot the overlap squared with the states $|0\\rangle$ and $|1\\rangle$.\n",
        "\n"
      ]
    },
    {
      "cell_type": "markdown",
      "id": "7ae3ddbf",
      "metadata": {
        "id": "7ae3ddbf"
      },
      "source": [
        "<div><img src=\"https://clark.physics.illinois.edu/246img/AnsStart.svg\" width=200 align=left alt=\"Answer (start)\"></img><br></div>"
      ]
    },
    {
      "cell_type": "code",
      "execution_count": 9,
      "id": "e8c01480",
      "metadata": {
        "id": "e8c01480"
      },
      "outputs": [],
      "source": [
        "### ANSWER HERE"
      ]
    },
    {
      "cell_type": "markdown",
      "id": "0c5e9b94",
      "metadata": {
        "id": "0c5e9b94"
      },
      "source": [
        "<div><img src=\"https://clark.physics.illinois.edu/246img/AnsEnd.svg\" width=200 align=left alt=\"Answer (end)\"></img><br></div>"
      ]
    },
    {
      "cell_type": "markdown",
      "id": "71fca385",
      "metadata": {
        "id": "71fca385"
      },
      "source": [
        "You will notice that by changing the magnetic field by a tiny amount and waiting for about 24 seconds, we've implemented a gate which takes $|0\\rangle$ to half $|0\\rangle$ and half $|1\\rangle$.  Because this is probabilities that you are measuring, actually this gate is taking $|0\\rangle \\rightarrow \\frac{1}{\\sqrt{2}}(|0\\rangle + |1\\rangle)$ (actually the plot you made isn't sufficient information to distinguish between $+|1\\rangle$ and $-|1\\rangle$.  \n",
        "\n",
        "\n",
        "Actually, if you want more seconds (or less seconds) you actually get a whole manifold of states.  In the next two sections, we will better understand the manifold of gates we've made.\n"
      ]
    },
    {
      "cell_type": "markdown",
      "id": "64fa8a42",
      "metadata": {
        "id": "64fa8a42"
      },
      "source": [
        "### c.  The Bloch Sphere"
      ]
    },
    {
      "cell_type": "markdown",
      "id": "9284ed08",
      "metadata": {
        "id": "9284ed08"
      },
      "source": [
        "\n",
        "\n",
        "Using your results from (b), plot on the Bloch sphere your gate.\n",
        "Identify where on the Bloch sphere the initial point is and the point at $T=44$ seconds.\n",
        "\n"
      ]
    },
    {
      "cell_type": "markdown",
      "id": "6c782605",
      "metadata": {
        "id": "6c782605"
      },
      "source": [
        "<div><img src=\"https://clark.physics.illinois.edu/246img/AnsStart.svg\" width=200 align=left alt=\"Answer (start)\"></img><br></div>"
      ]
    },
    {
      "cell_type": "code",
      "execution_count": 10,
      "id": "dc2a192f",
      "metadata": {
        "id": "dc2a192f"
      },
      "outputs": [],
      "source": [
        "### ANSWER HERE"
      ]
    },
    {
      "cell_type": "markdown",
      "id": "8924da61",
      "metadata": {
        "id": "8924da61"
      },
      "source": [
        "<div><img src=\"https://clark.physics.illinois.edu/246img/AnsEnd.svg\" width=200 align=left alt=\"Answer (end)\"></img><br></div>"
      ]
    },
    {
      "cell_type": "markdown",
      "id": "e8c88417",
      "metadata": {
        "id": "e8c88417"
      },
      "source": [
        "## Exercise 3: Fluxonium with scqubits (Extra credit: 10 points)"
      ]
    },
    {
      "cell_type": "markdown",
      "id": "52384952",
      "metadata": {
        "id": "52384952"
      },
      "source": [
        "### a."
      ]
    },
    {
      "cell_type": "markdown",
      "id": "8aff4bc4",
      "metadata": {
        "id": "8aff4bc4"
      },
      "source": [
        "In this exercise, we are going to replicate the above results using a python package called scqubits.  scqubits already knows about the fluxonium Hamiltonian and so we can just tell it that we want to have a fluxonium molecule by doing\n",
        "\n",
        "```\n",
        "fluxonium = scqubits.Fluxonium(EJ = 4,\n",
        "                               EC = 0.5,\n",
        "                               EL = 0.8,\n",
        "                               flux = 0.5,\n",
        "                               cutoff = 110)\n",
        "```\n",
        "The flux is in units of $2\\pi$ so previously we had a flux of $\\pi$.  Now we have a flux of 0.5\n",
        "\n",
        "To get the Hamiltonian of the fluxonium molecule, you should use ```fluxonium.hamiltonian()```\n",
        "\n",
        "You may notice that if you print the Hamiltonian it looks different then the Hamiltonian that you generated in previous sections.  This is because the Hamiltonian is in a different basis.  You can essentially ignore this and do the same steps that you did before.  Use it to generate the absolute value and bloch sphere plots.\n",
        "\n",
        "There is an ambiguity here in the sign of the eigenstates.  Use this to change the eigenstate:\n",
        "```\n",
        "if vvv[1,1]>0:\n",
        "    vvv[:,1]=vvv[:,1]*-1\n",
        "```\n"
      ]
    },
    {
      "cell_type": "markdown",
      "id": "644dc8ac",
      "metadata": {
        "id": "644dc8ac"
      },
      "source": [
        "<div><img src=\"https://clark.physics.illinois.edu/246img/AnsStart.svg\" width=200 align=left alt=\"Answer (start)\"></img><br></div>"
      ]
    },
    {
      "cell_type": "code",
      "execution_count": 11,
      "id": "a3dffd4c",
      "metadata": {
        "id": "a3dffd4c"
      },
      "outputs": [],
      "source": [
        "### ANSWER HERE"
      ]
    },
    {
      "cell_type": "markdown",
      "id": "6ba7a5e2",
      "metadata": {
        "id": "6ba7a5e2"
      },
      "source": [
        "<div><img src=\"https://clark.physics.illinois.edu/246img/AnsEnd.svg\" width=200 align=left alt=\"Answer (end)\"></img><br></div>"
      ]
    }
  ],
  "metadata": {
    "kernelspec": {
      "display_name": "Python 3 (ipykernel)",
      "language": "python",
      "name": "python3"
    },
    "language_info": {
      "codemirror_mode": {
        "name": "ipython",
        "version": 3
      },
      "file_extension": ".py",
      "mimetype": "text/x-python",
      "name": "python",
      "nbconvert_exporter": "python",
      "pygments_lexer": "ipython3",
      "version": "3.9.6"
    },
    "varInspector": {
      "cols": {
        "lenName": 16,
        "lenType": 16,
        "lenVar": 40
      },
      "kernels_config": {
        "python": {
          "delete_cmd_postfix": "",
          "delete_cmd_prefix": "del ",
          "library": "var_list.py",
          "varRefreshCmd": "print(var_dic_list())"
        },
        "r": {
          "delete_cmd_postfix": ") ",
          "delete_cmd_prefix": "rm(",
          "library": "var_list.r",
          "varRefreshCmd": "cat(var_dic_list()) "
        }
      },
      "types_to_exclude": [
        "module",
        "function",
        "builtin_function_or_method",
        "instance",
        "_Feature"
      ],
      "window_display": false
    },
    "colab": {
      "provenance": []
    }
  },
  "nbformat": 4,
  "nbformat_minor": 5
}